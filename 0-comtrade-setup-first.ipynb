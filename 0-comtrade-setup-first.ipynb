{
 "cells": [
  {
   "cell_type": "markdown",
   "metadata": {},
   "source": [
    "# Comtrade utilities / _Utilitários Comtrade_\n",
    "\n",
    "This directory contains a set of utilities to facilitate the use of the Comtrade data in Python.\n",
    "\n",
    "The functions are in the `comtradetools.py` file and can be imported as a module:\n",
    "\n",
    "```python\n",
    "import comtradetools\n",
    "```\n",
    "\n"
   ]
  },
  {
   "cell_type": "markdown",
   "metadata": {},
   "source": [
    "# Setup the auxiliary directory\n",
    "\n",
    "This will create a support directory for codebooks and other files\n",
    "and a config.ini file for the API key.\n"
   ]
  },
  {
   "cell_type": "code",
   "execution_count": 1,
   "metadata": {},
   "outputs": [],
   "source": [
    "import comtradetools\n",
    "\n",
    "comtradetools.setup()  # you can pass a path to the data directory if you want"
   ]
  },
  {
   "cell_type": "markdown",
   "metadata": {},
   "source": [
    "# Get the API key\n",
    "\n",
    "To access the UN Comtrade via API, you need an access key,\n",
    "otherwise the results are limited to 500 lines.\n",
    "\n",
    "To obtain the access key:\n",
    "* Register at https://comtradedeveloper.un.org/\n",
    "* Go to _Products_ \n",
    "* Select \"Premium Individual APIs\" (https://comtradedeveloper.un.org/product#product=dataapis)\n",
    "* Choose _Subscribe to \"comtrade - v1\"_  \n",
    "* Wait for the email with the API key (takes a few days)\n",
    "* Copy the key to the location indicated in the `config.ini` file before running the rest of the notebook.\n",
    "  running the rest of the notebook.\n",
    "\n",
    "Get and store the API key in the config.ini file. \n"
   ]
  },
  {
   "cell_type": "code",
   "execution_count": 3,
   "metadata": {},
   "outputs": [
    {
     "name": "stderr",
     "output_type": "stream",
     "text": [
      "INFO:root:Downloading codebook from https://raw.githubusercontent.com/joaquimrcarvalho/cipf-comtrade/main/support/codebook.xlsx\n",
      "INFO:root:Downloading country groups from https://unctadstat.unctad.org/EN/Classifications/Dim_Countries_Hierarchy_UnctadStat_All_Flat.csv\n"
     ]
    },
    {
     "name": "stdout",
     "output_type": "stream",
     "text": [
      "un-comtrade codebook downloaded to support/codebook.xlsx\n",
      "un-comtrade country groups downloaded to support/Dim_Countries_Hierarchy_UnctadStat_All_Flat.csv\n"
     ]
    },
    {
     "name": "stderr",
     "output_type": "stream",
     "text": [
      "INFO:root:Loading HS codes from support/harmonized-system.csv\n"
     ]
    },
    {
     "name": "stdout",
     "output_type": "stream",
     "text": [
      "Setup complete. Check the other notebooks for examples.\n"
     ]
    }
   ],
   "source": [
    "import comtradetools\n",
    "\n",
    "APIKEY = comtradetools.get_api_key()  # get your API key from https://comtrade.un.org/data/dev/portal\n",
    "\n",
    "if APIKEY is not None and len(APIKEY) >6 :\n",
    "    comtradetools.init(APIKEY, force_init=True)  # force to ensure updated codebooks\n",
    "    print(\"Setup complete. Check the other notebooks for examples.\")\n",
    "else:\n",
    "    print(\"You need to set your API key first\")"
   ]
  },
  {
   "cell_type": "markdown",
   "metadata": {},
   "source": [
    "Setup done. You can use the other notebooks now"
   ]
  }
 ],
 "metadata": {
  "kernelspec": {
   "display_name": "venv",
   "language": "python",
   "name": "python3"
  },
  "language_info": {
   "codemirror_mode": {
    "name": "ipython",
    "version": 3
   },
   "file_extension": ".py",
   "mimetype": "text/x-python",
   "name": "python",
   "nbconvert_exporter": "python",
   "pygments_lexer": "ipython3",
   "version": "3.10.4"
  },
  "orig_nbformat": 4
 },
 "nbformat": 4,
 "nbformat_minor": 2
}
