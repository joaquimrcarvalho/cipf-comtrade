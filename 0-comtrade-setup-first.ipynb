{
 "cells": [
  {
   "cell_type": "markdown",
   "metadata": {},
   "source": [
    "# Comtrade utilities\n",
    "\n",
    "Run this before using the comtradetools module \n"
   ]
  },
  {
   "cell_type": "markdown",
   "metadata": {},
   "source": [
    "# Setup the auxiliary directory\n",
    "\n",
    "This will create a support directory for codebooks and other files\n",
    "and a config.ini file for the API key.\n"
   ]
  },
  {
   "cell_type": "code",
   "execution_count": 3,
   "metadata": {},
   "outputs": [],
   "source": [
    "import comtradetools\n",
    "\n",
    "comtradetools.setup()  # you can pass a path to the data directory if you want"
   ]
  },
  {
   "cell_type": "markdown",
   "metadata": {},
   "source": [
    "# Get the API key\n",
    "\n",
    "Get and store the API key in the config.ini file. See [comtrade-api.ipynb](comtrade-api.ipynb) for details."
   ]
  },
  {
   "cell_type": "code",
   "execution_count": 4,
   "metadata": {},
   "outputs": [
    {
     "ename": "NameError",
     "evalue": "name 'APIKEY' is not defined",
     "output_type": "error",
     "traceback": [
      "\u001b[0;31m---------------------------------------------------------------------------\u001b[0m",
      "\u001b[0;31mNameError\u001b[0m                                 Traceback (most recent call last)",
      "\u001b[1;32m/workspaces/cipf-comtrade/0-comtrade-setup-first.ipynb Cell 5\u001b[0m line \u001b[0;36m5\n\u001b[1;32m      <a href='vscode-notebook-cell://codespaces%2Bjoaquimrcarvalho-verbose-yodel-4jwj54j9gvvhq6jj/workspaces/cipf-comtrade/0-comtrade-setup-first.ipynb#W5sdnNjb2RlLXJlbW90ZQ%3D%3D?line=0'>1</a>\u001b[0m \u001b[39mimport\u001b[39;00m \u001b[39mcomtradetools\u001b[39;00m\n\u001b[1;32m      <a href='vscode-notebook-cell://codespaces%2Bjoaquimrcarvalho-verbose-yodel-4jwj54j9gvvhq6jj/workspaces/cipf-comtrade/0-comtrade-setup-first.ipynb#W5sdnNjb2RlLXJlbW90ZQ%3D%3D?line=2'>3</a>\u001b[0m API \u001b[39m=\u001b[39m comtradetools\u001b[39m.\u001b[39mget_api_key()  \u001b[39m# get your API key from https://comtrade.un.org/data/dev/portal\u001b[39;00m\n\u001b[0;32m----> <a href='vscode-notebook-cell://codespaces%2Bjoaquimrcarvalho-verbose-yodel-4jwj54j9gvvhq6jj/workspaces/cipf-comtrade/0-comtrade-setup-first.ipynb#W5sdnNjb2RlLXJlbW90ZQ%3D%3D?line=4'>5</a>\u001b[0m \u001b[39mif\u001b[39;00m APIKEY \u001b[39mis\u001b[39;00m \u001b[39mnot\u001b[39;00m \u001b[39mNone\u001b[39;00m \u001b[39mand\u001b[39;00m \u001b[39mlen\u001b[39m(APIKEY) \u001b[39m>\u001b[39m\u001b[39m6\u001b[39m :\n\u001b[1;32m      <a href='vscode-notebook-cell://codespaces%2Bjoaquimrcarvalho-verbose-yodel-4jwj54j9gvvhq6jj/workspaces/cipf-comtrade/0-comtrade-setup-first.ipynb#W5sdnNjb2RlLXJlbW90ZQ%3D%3D?line=5'>6</a>\u001b[0m     \u001b[39mprint\u001b[39m(\u001b[39m\"\u001b[39m\u001b[39mSetup complete. Check the other notebooks for examples.\u001b[39m\u001b[39m\"\u001b[39m)\n\u001b[1;32m      <a href='vscode-notebook-cell://codespaces%2Bjoaquimrcarvalho-verbose-yodel-4jwj54j9gvvhq6jj/workspaces/cipf-comtrade/0-comtrade-setup-first.ipynb#W5sdnNjb2RlLXJlbW90ZQ%3D%3D?line=6'>7</a>\u001b[0m \u001b[39melse\u001b[39;00m:\n",
      "\u001b[0;31mNameError\u001b[0m: name 'APIKEY' is not defined"
     ]
    }
   ],
   "source": [
    "import comtradetools\n",
    "\n",
    "APIKEY = comtradetools.get_api_key()  # get your API key from https://comtrade.un.org/data/dev/portal\n",
    "\n",
    "if APIKEY is not None and len(APIKEY) >6 :\n",
    "    print(\"Setup complete. Check the other notebooks for examples.\")\n",
    "else:\n",
    "    print(\"You need to set your API key first\")"
   ]
  }
 ],
 "metadata": {
  "kernelspec": {
   "display_name": "venv",
   "language": "python",
   "name": "python3"
  },
  "language_info": {
   "codemirror_mode": {
    "name": "ipython",
    "version": 3
   },
   "file_extension": ".py",
   "mimetype": "text/x-python",
   "name": "python",
   "nbconvert_exporter": "python",
   "pygments_lexer": "ipython3",
   "version": "3.10.8"
  },
  "orig_nbformat": 4
 },
 "nbformat": 4,
 "nbformat_minor": 2
}
