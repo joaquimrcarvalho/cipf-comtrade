{
 "cells": [
  {
   "cell_type": "markdown",
   "metadata": {},
   "source": [
    "# Comtrade utilities\n",
    "\n",
    "Run this before using the comtradetools module \n"
   ]
  },
  {
   "cell_type": "markdown",
   "metadata": {},
   "source": [
    "# Setup the auxiliary directory\n",
    "\n",
    "This will create a support directory for codebooks and other files\n",
    "and a config.ini file for the API key.\n"
   ]
  },
  {
   "cell_type": "code",
   "execution_count": 1,
   "metadata": {},
   "outputs": [],
   "source": [
    "import comtradetools\n",
    "\n",
    "comtradetools.setup()  # you can pass a path to the data directory if you want"
   ]
  },
  {
   "cell_type": "markdown",
   "metadata": {},
   "source": [
    "# Get the API key\n",
    "\n",
    "Get and store the API key in the config.ini file. See [comtrade-api.ipynb](comtrade-api.ipynb) for details."
   ]
  },
  {
   "cell_type": "code",
   "execution_count": 2,
   "metadata": {},
   "outputs": [
    {
     "name": "stdout",
     "output_type": "stream",
     "text": [
      "Setup complete. Check the other notebooks for examples.\n"
     ]
    }
   ],
   "source": [
    "import comtradetools\n",
    "\n",
    "APIKEY = comtradetools.get_api_key()  # get your API key from https://comtrade.un.org/data/dev/portal\n",
    "\n",
    "if APIKEY is not None and len(APIKEY) >6 :\n",
    "    print(\"Setup complete. Check the other notebooks for examples.\")\n",
    "else:\n",
    "    print(\"You need to set your API key first\")"
   ]
  }
 ],
 "metadata": {
  "kernelspec": {
   "display_name": "venv",
   "language": "python",
   "name": "python3"
  },
  "language_info": {
   "codemirror_mode": {
    "name": "ipython",
    "version": 3
   },
   "file_extension": ".py",
   "mimetype": "text/x-python",
   "name": "python",
   "nbconvert_exporter": "python",
   "pygments_lexer": "ipython3",
   "version": "3.10.4"
  },
  "orig_nbformat": 4
 },
 "nbformat": 4,
 "nbformat_minor": 2
}
