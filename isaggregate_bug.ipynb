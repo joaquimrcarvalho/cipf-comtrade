{
 "cells": [
  {
   "attachments": {},
   "cell_type": "markdown",
   "metadata": {},
   "source": [
    "# Bug in isAggregate column?\n",
    "\n"
   ]
  },
  {
   "cell_type": "code",
   "execution_count": 22,
   "metadata": {},
   "outputs": [
    {
     "name": "stdout",
     "output_type": "stream",
     "text": [
      "As of 2023-02-13, the isAggregate column is not correct for 2017 and earlier data\n",
      "Request url:  https://comtradeapi.un.org/public/v1/preview//C/A/HS?reporterCode=156&period=2017&partnerCode=24&partner2Code=0&flowCode=M&customsCode=C00\n",
      "   cmdCode  isAggregate  primaryValue\n",
      "0       01         True    2678856.00\n",
      "1     0106         True    2678856.00\n",
      "2   010612         True    2678856.00\n",
      "3       20         True      16500.00\n",
      "4     2009         True      16500.00\n",
      "5   200989         True      16500.00\n",
      "6       22         True     108122.00\n",
      "7     2202         True      23000.00\n",
      "8   220210         True      20000.00\n",
      "9   220299         True       3000.00\n",
      "10    2203         True      85122.00\n",
      "11  220300         True      85122.00\n",
      "12      25         True   20681052.00\n",
      "13    2506         True    5023112.00\n",
      "14  250610         True    2503564.00\n",
      "15  250620         True    2519548.00\n",
      "16    2515         True    3602258.00\n",
      "17  251511         True       5119.00\n",
      "18  251512         True    3564171.00\n",
      "19  251520         True      32968.00\n",
      "\n",
      "As of 2023-02-13, the isAggregate column is correct for 2018 and later data\n",
      "Request url:  https://comtradeapi.un.org/public/v1/preview//C/A/HS?reporterCode=156&period=2018&partnerCode=24&partner2Code=0&flowCode=M&customsCode=C00\n",
      "   cmdCode  isAggregate  primaryValue\n",
      "0       01         True    3175615.00\n",
      "1     0106         True    3175615.00\n",
      "2   010612        False    3175615.00\n",
      "3       03         True      58330.00\n",
      "4     0303         True      58330.00\n",
      "5   030389        False      58330.00\n",
      "6       05         True      19121.00\n",
      "7     0507         True      19121.00\n",
      "8   050790        False      19121.00\n",
      "9       22         True      84459.00\n",
      "10    2203         True      84459.00\n",
      "11  220300        False      84459.00\n",
      "12      25         True   21344705.00\n",
      "13    2506         True    2767905.00\n",
      "14  250610        False    2600512.00\n",
      "15  250620        False     167393.00\n",
      "16    2515         True    2044099.00\n",
      "17  251511        False      22083.00\n",
      "18  251512        False    2022016.00\n",
      "19    2516         True   16530698.00\n"
     ]
    }
   ],
   "source": [
    "\n",
    "# pip install pandas requests\n",
    "\n",
    "import json\n",
    "import requests\n",
    "import pandas as pd\n",
    "\n",
    "\n",
    "pd.set_option('display.float_format', lambda x: '%.2f' % x)\n",
    "\n",
    "url_cn_angola_2017 = 'https://comtradeapi.un.org/public/v1/preview//C/A/HS?reporterCode=156&period=2017&partnerCode=24&partner2Code=0&flowCode=M&customsCode=C00'\n",
    "resp = requests.get(url_cn_angola_2017)\n",
    "results = json.loads(resp.content)['data']\n",
    "df_2017 = pd.DataFrame(results)\n",
    "print(\"As of 2023-02-13, the isAggregate column is not correct for 2017 and earlier data\")\n",
    "print(\"Request url: \", url_cn_angola_2017)\n",
    "print(df_2017[['cmdCode','isAggregate','primaryValue']].sort_values(by='cmdCode').head(20))\n",
    "print()\n",
    "\n",
    "url_cn_angola_2018 = 'https://comtradeapi.un.org/public/v1/preview//C/A/HS?reporterCode=156&period=2018&partnerCode=24&partner2Code=0&flowCode=M&customsCode=C00'\n",
    "resp = requests.get(url_cn_angola_2018)\n",
    "results = json.loads(resp.content)['data']\n",
    "df_2018 = pd.DataFrame(results)\n",
    "print(\"As of 2023-02-13, the isAggregate column is correct for 2018 and later data\")\n",
    "print(\"Request url: \", url_cn_angola_2018)\n",
    "print(df_2018[['cmdCode','isAggregate','primaryValue']].sort_values(by='cmdCode').head(20))"
   ]
  }
 ],
 "metadata": {
  "kernelspec": {
   "display_name": "venv",
   "language": "python",
   "name": "python3"
  },
  "language_info": {
   "codemirror_mode": {
    "name": "ipython",
    "version": 3
   },
   "file_extension": ".py",
   "mimetype": "text/x-python",
   "name": "python",
   "nbconvert_exporter": "python",
   "pygments_lexer": "ipython3",
   "version": "3.10.4"
  },
  "orig_nbformat": 4,
  "vscode": {
   "interpreter": {
    "hash": "279ec7bc197c2d67963cc2ed5077324153cd6798de5a4273e6146928f864a6db"
   }
  }
 },
 "nbformat": 4,
 "nbformat_minor": 2
}
