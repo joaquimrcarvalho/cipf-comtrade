{
 "cells": [
  {
   "attachments": {},
   "cell_type": "markdown",
   "metadata": {},
   "source": [
    "# Perfil comercial de um país\n",
    "\n",
    "Perfil comercial de um país. O objetivo é analisar as trocas comerciais de um país com o resto do mundo.\n",
    "\n",
    "Mais informação em [country_trade_profile_README.md](country_trade_profile_README.md)"
   ]
  },
  {
   "cell_type": "markdown",
   "metadata": {},
   "source": [
    "## Setup\n",
    "\n",
    "For instructions and how to obtain an API key, see [here](0-comtrade-setup-first.ipynb)."
   ]
  },
  {
   "cell_type": "code",
   "execution_count": null,
   "metadata": {},
   "outputs": [],
   "source": [
    "import logging\n",
    "import sys\n",
    "\n",
    "# Configure logging to output to stdout and set level to DEBUG\n",
    "logging.basicConfig(stream=sys.stdout, level=logging.ERROR)\n",
    "\n",
    "# Example debug message\n",
    "logging.debug(\"This is a debug message\")"
   ]
  },
  {
   "cell_type": "code",
   "execution_count": null,
   "metadata": {},
   "outputs": [],
   "source": [
    "import comtradetools as comtradetools\n",
    "\n",
    "comtradetools.setup()\n",
    "APIKEY = comtradetools.get_api_key()\n",
    "comtradetools.init(APIKEY, force_init=False)"
   ]
  },
  {
   "attachments": {},
   "cell_type": "markdown",
   "metadata": {},
   "source": [
    "## Country and period of interest\n",
    "\n",
    "Choose country and years of interest"
   ]
  },
  {
   "cell_type": "code",
   "execution_count": null,
   "metadata": {},
   "outputs": [],
   "source": [
    "import comtradetools\n",
    "\n",
    "\n",
    "country_of_interest_name = 'Portugal'\n",
    "country_of_interest = comtradetools.encode_country(country_of_interest_name)\n",
    "\n",
    "years_of_interest=comtradetools.year_range(2003,2023)\n",
    "print(country_of_interest_name, years_of_interest)"
   ]
  },
  {
   "attachments": {},
   "cell_type": "markdown",
   "metadata": {},
   "source": [
    "## 1.Trade balance"
   ]
  },
  {
   "cell_type": "markdown",
   "metadata": {},
   "source": [
    "### 1a Trade balance symmetric values"
   ]
  },
  {
   "cell_type": "code",
   "execution_count": null,
   "metadata": {},
   "outputs": [],
   "source": [
    "import comtradetools\n",
    "import pandas as pd\n",
    "import numpy as np\n",
    "\n",
    "pd.options.display.float_format = '{:,.2f}'.format\n",
    "\n",
    "periods = comtradetools.split_period(years_of_interest,6)\n",
    "global_trade = pd.DataFrame()\n",
    "for period in periods:\n",
    "    print(f\"Fetching data for period {period}\")\n",
    "\n",
    "    temp = comtradetools.get_trade_flows(country_of_interest,\n",
    "                                            period=period,\n",
    "                                            symmetric_values=True)\n",
    "\n",
    "    global_trade = pd.concat([global_trade,temp])\n",
    "\n",
    "\n",
    "global_trade = global_trade.replace(0, np.nan)\n",
    "cols_of_interest = global_trade.columns\n",
    "\n"
   ]
  },
  {
   "cell_type": "code",
   "execution_count": null,
   "metadata": {},
   "outputs": [],
   "source": [
    "global_trade['varM_perc']=global_trade['M']/global_trade['M<X']\n",
    "global_trade['varX_perc']=global_trade['X']/global_trade['X<M']\n",
    "print(f\"M = Imports as reported by {country_of_interest_name}\")\n",
    "print(f\"X = Exports as reported by {country_of_interest_name}\")\n",
    "print(f\"X<M = Exports as reported by rest of the world imports from {country_of_interest_name}\")\n",
    "print(f\"M<X = Imports as reported by rest of the world exports to {country_of_interest_name}\")\n",
    "global_trade\n"
   ]
  },
  {
   "cell_type": "markdown",
   "metadata": {},
   "source": [
    "Save to Excel file"
   ]
  },
  {
   "cell_type": "code",
   "execution_count": null,
   "metadata": {},
   "outputs": [],
   "source": [
    "start_year=global_trade.index.min()\n",
    "end_year=global_trade.index.max()\n",
    "excel_file = f\"reports/{country_of_interest_name}_1.1_trade_balance_{start_year}-{end_year}.xlsx\"\n",
    "global_trade.to_excel(excel_file)\n",
    "print(\"Trade ballance report saved to \", excel_file)"
   ]
  },
  {
   "cell_type": "markdown",
   "metadata": {},
   "source": [
    "### Trade balance graph"
   ]
  },
  {
   "cell_type": "code",
   "execution_count": null,
   "metadata": {},
   "outputs": [],
   "source": [
    "import logging\n",
    "\n",
    "import matplotlib.pyplot as plt\n",
    "import matplotlib.ticker as ticker\n",
    "logging.basicConfig(level=logging.ERROR)\n",
    "\n",
    "plotfile = f\"reports/{country_of_interest_name}_1.2_trade_balance_{start_year}-{end_year}.png\"\n",
    "\n",
    "start_year=global_trade.index.min()\n",
    "end_year=global_trade.index.max()\n",
    "title=f\"{country_of_interest_name} trocas comerciais {start_year}-{end_year}\"\n",
    "print(\"Plot saved to \", plotfile)\n",
    "fig = global_trade[cols_of_interest].plot.line(figsize=(15,15),title=title)\n",
    "\n",
    "# use a grayscale palette of colors\n",
    "colors = ['0.0','0.8','0.0','0.8','0.0','0.8','0.0','0.8']\n",
    "\n",
    "# use different line styles and black lines\n",
    "linestyles = ['dashed', 'dashed', 'dotted', 'dotted', 'dashdot', 'dashdot', 'solid', 'solid']\n",
    "for i, line in enumerate(fig.get_lines()):\n",
    "    print(i, line, colors[i])\n",
    "    line.set_color(colors[i])\n",
    "    line.set_linestyle(linestyles[i % len(linestyles)])\n",
    "\n",
    "formatter = ticker.StrMethodFormatter('{x:,.0f}')\n",
    "fig.yaxis.set_major_formatter(formatter)\n",
    "fig.legend(list(global_trade.columns.astype(str)))\n",
    "\n",
    "plt.savefig(plotfile)\n",
    "plt.show()"
   ]
  },
  {
   "attachments": {},
   "cell_type": "markdown",
   "metadata": {},
   "source": [
    "## 2. Exports\n"
   ]
  },
  {
   "cell_type": "markdown",
   "metadata": {},
   "source": [
    "### 2.1 Main export partners/clients\n",
    "\n",
    "Colect destinations of exports of the country. \n",
    "\n",
    "Use either reported exports\n",
    "of country of interest, or reported imports from country of interest by\n",
    "all other countries (symmetric reporting). \n",
    "\n",
    "Set variable `symmetric_reporting` to choose."
   ]
  },
  {
   "cell_type": "code",
   "execution_count": null,
   "metadata": {},
   "outputs": [],
   "source": [
    "# If symmetric_reporting is \"True\" we get the exports from\n",
    "#    the reported imports of all the countries\n",
    "# i.e. instead of asking Country of Interest for export data we ask the world\n",
    "#    for import data from Country of Interest\n",
    "\n",
    "symmetric_reporting = False  # set to false to use reported exports by Country of Interest\n",
    "\n",
    "if symmetric_reporting:\n",
    "    reporterCode = None\n",
    "    partnerCode = country_of_interest\n",
    "    flowCode = 'M'\n",
    "    reporter_column = 'partner'\n",
    "    partner_column = 'reporter'\n",
    "else:\n",
    "    reporterCode = country_of_interest\n",
    "    partnerCode = None\n",
    "    flowCode = 'X'\n",
    "    reporter_column = 'reporter'\n",
    "    partner_column = 'partner'\n"
   ]
  },
  {
   "cell_type": "code",
   "execution_count": null,
   "metadata": {},
   "outputs": [],
   "source": [
    "\n",
    "# years_of_interest = comtrade.year_range(2020, 2021)\n",
    "df = comtradetools.getFinalData(APIKEY,\n",
    "                                reporterCode=reporterCode,\n",
    "                                typeCode='C',  # commodities\n",
    "                                freqCode='A',  # annual\n",
    "                                flowCode=flowCode,\n",
    "                                period=years_of_interest,\n",
    "                                period_size=1,\n",
    "                                partnerCode=partnerCode,\n",
    "                                remove_world=True,\n",
    "                                partner2Code=0,  # world\n",
    "                                clCode=\"HS\",\n",
    "                                cmdCode=\"TOTAL\",\n",
    "                                motCode=0,  # all means of transport\n",
    "                                customsCode='C00', # all customs\n",
    "                                includeDesc=True,\n",
    "                                cache=True\n",
    "                                )"
   ]
  },
  {
   "cell_type": "markdown",
   "metadata": {},
   "source": [
    "Compute percentage o trade and rank of partners for each year.\n",
    "\n",
    "Use `show_only_top` to show only the top partners (e.g. 5)."
   ]
  },
  {
   "cell_type": "code",
   "execution_count": null,
   "metadata": {},
   "outputs": [],
   "source": [
    "import pandas as pd\n",
    "import comtradetools\n",
    "# show 500 lines\n",
    "pd.options.display.max_rows=500\n",
    "pd.options.display.float_format='{:,.2f}'.format\n",
    "\n",
    "show_only_top = 5\n",
    "\n",
    "# aggregate by year, flow, reporter\n",
    "exports = comtradetools.total_rank_perc(df,groupby=['refYear','flowCode',f'{partner_column}Desc'],\n",
    "                                    col='primaryValue',\n",
    "                                    prefix='partner',\n",
    "                                    drop_duplicates=True)\n",
    "\n",
    "cols=['refYear','flowCode',f'{reporter_column}Desc','partner_rank',f'{partner_column}Desc','cmdCode','partner_sum','partner_perc','partner_upper_sum']\n",
    "\n",
    "formats =  comtradetools.make_format(cols)\n",
    "\n",
    "top_export_partners = exports[exports['partner_rank']<=show_only_top][f'{partner_column}Desc'].unique()\n",
    "top_export_partners_codes = exports[exports['partner_rank']<=show_only_top][f'{partner_column}Code'].unique()\n",
    "\n",
    "print(f\"Top {show_only_top} export partners of {country_of_interest_name} in {years_of_interest}: \\n{top_export_partners}\")\n",
    "exports[exports['partner_rank']<=show_only_top][cols].sort_values(['refYear','flowCode','partner_rank',f'{partner_column}Desc','cmdCode']).style.format(formats)"
   ]
  },
  {
   "cell_type": "markdown",
   "metadata": {},
   "source": [
    "Pivot the countries to columns, keeping the total value and percentage in separate columns.\n",
    "\n",
    "----\n",
    "\n",
    "Passamos os países para colunas, mantendo a percentagem e o valor em separado."
   ]
  },
  {
   "cell_type": "code",
   "execution_count": null,
   "metadata": {},
   "outputs": [],
   "source": [
    "pivoted = df.pivot_table(index=['refYear','flowDesc'], columns=f'{partner_column}Desc', values=['primaryValue','partner_perc'])\n",
    "pivoted.swaplevel(axis=1).fillna(0,inplace=True)\n",
    "pivoted.sort_index(axis=1, level=0, inplace=True)\n",
    "pivoted.fillna(0)"
   ]
  },
  {
   "cell_type": "markdown",
   "metadata": {},
   "source": [
    "Limit table to top_export_partners\n",
    "\n",
    "Note that the number of top partners considered was set before with `show_only_top` (e.g. 5).\n",
    "\n",
    "But each year the top partners may vary, so that the total number of partners for the period will be\n",
    "more than `show_only_top`."
   ]
  },
  {
   "cell_type": "code",
   "execution_count": null,
   "metadata": {},
   "outputs": [],
   "source": [
    "show_only_columns = [(l1, country) for l1,country in pivoted.columns.tolist() if country in top_export_partners]\n",
    "pivoted[show_only_columns]"
   ]
  },
  {
   "cell_type": "markdown",
   "metadata": {},
   "source": [
    "Make a table with the total value of exports for top partners in the period of interest"
   ]
  },
  {
   "cell_type": "code",
   "execution_count": null,
   "metadata": {},
   "outputs": [],
   "source": [
    "print(\"Top partners for exports: \",top_export_partners)\n",
    "print(\"Period of interest:\",years_of_interest)"
   ]
  },
  {
   "cell_type": "code",
   "execution_count": null,
   "metadata": {},
   "outputs": [],
   "source": [
    "import pandas as pd\n",
    "\n",
    "# lets get just the value of imports from the top export partners\n",
    "values_only = pivoted.loc[:,\"primaryValue\"]\n",
    "values_only.reset_index(level=1, drop=True, inplace=True)\n",
    "show_only_columns = [country for country in values_only.columns.tolist() if country in top_export_partners]\n",
    "values_only=values_only[show_only_columns]\n",
    "# sort columns by mean value\n",
    "mean_values = values_only.mean().sort_values(ascending=False)\n",
    "values_only = values_only[mean_values.index]\n",
    "values_only"
   ]
  },
  {
   "cell_type": "code",
   "execution_count": null,
   "metadata": {},
   "outputs": [],
   "source": [
    "import matplotlib.pyplot as plt\n",
    "import matplotlib.ticker as ticker\n",
    "\n",
    "plotfile = f\"reports/{country_of_interest_name}_2.1.4_export_partners_{start_year}-{end_year}.png\"\n",
    "start_year=values_only.index.min()\n",
    "end_year=values_only.index.max()\n",
    "title=f\"{country_of_interest_name} top export destinations {start_year}-{end_year}\"\n",
    "print(\"Plot saved to \", plotfile)\n",
    "# see https://matplotlib.org/stable/gallery/color/named_colors.html\n",
    "# colors = ['red','lightsalmon','green','lightgreen','darkviolet','violet','blue','dodgerblue','orange','yellow','brown','black','grey','pink','cyan','magenta',]\n",
    "# colors = ['crimson', 'darkorange', 'gold', 'limegreen', 'mediumseagreen', 'teal', 'deepskyblue', 'royalblue', 'indigo', 'mediumvioletred', 'hotpink', 'saddlebrown', 'grey', 'black', 'darkslategrey', 'darkkhaki']\n",
    "colors = [ '#555555', '#666666', '#777777', '#888888', '#999999', '#AAAAAA', '#BBBBBB', '#CCCCCC', ]\n",
    "\n",
    "fig2 = values_only.plot.area(figsize=(20,20),title=title, color=colors)\n",
    "for i, line in enumerate(fig2.get_lines()):\n",
    "    n = i % len(colors)\n",
    "    print(i, line, colors[n])\n",
    "    line.set_color(colors[n])\n",
    "\n",
    "formatter = ticker.StrMethodFormatter('{x:,.0f}')\n",
    "fig2.yaxis.set_major_formatter(formatter)\n",
    "\n",
    "plt.savefig(plotfile)\n",
    "plt.show()"
   ]
  },
  {
   "cell_type": "code",
   "execution_count": null,
   "metadata": {},
   "outputs": [],
   "source": [
    "show_only_columns = [(l1, country) for l1,country in pivoted.columns.tolist() if country in top_export_partners]"
   ]
  },
  {
   "cell_type": "markdown",
   "metadata": {},
   "source": [
    "#### Export to Excel\n",
    "\n",
    "Table with the top export destinations for the period of interest"
   ]
  },
  {
   "cell_type": "code",
   "execution_count": null,
   "metadata": {},
   "outputs": [],
   "source": [
    "top_partners_file = f'reports/{country_of_interest_name}_2.1.1_top_export_partners.xlsx'\n",
    "top_partners_cols_file = f'reports/{country_of_interest_name}_2.1.2_top_export_partners_cols.xlsx'\n",
    "export_top_partners_file = f'reports/{country_of_interest_name}_2.1.3_export_top_{show_only_top}_partners_{start_year}-{end_year}.xlsx'\n",
    "\n",
    "exports[cols].sort_values(['refYear','flowCode','partner_rank',f'{partner_column}Desc','cmdCode']).to_excel(top_partners_file)\n",
    "pivoted.to_excel(top_partners_cols_file)\n",
    "pivoted[show_only_columns].to_excel(export_top_partners_file)\n",
    "\n",
    "print(f\"Top partners file: {top_partners_file}\")\n",
    "print(f\"Top partners cols file: {top_partners_cols_file}\")\n",
    "print(f\"Export top partners file: {export_top_partners_file}\")"
   ]
  },
  {
   "attachments": {},
   "cell_type": "markdown",
   "metadata": {},
   "source": [
    "### 2.2 Exports: products"
   ]
  },
  {
   "attachments": {},
   "cell_type": "markdown",
   "metadata": {},
   "source": [
    "#### What are the main exported products"
   ]
  },
  {
   "cell_type": "code",
   "execution_count": null,
   "metadata": {},
   "outputs": [],
   "source": [
    "import pandas as pd\n",
    "\n",
    "# show 500 lines of dataframes\n",
    "pd.set_option('display.max_rows', 500)\n",
    "\n",
    "show_only_top=5\n",
    "# years_of_interest = comtrade.year_range(2020, 2021)\n",
    "\n",
    "print(country_of_interest_name, years_of_interest)"
   ]
  },
  {
   "cell_type": "markdown",
   "metadata": {},
   "source": [
    "Get the products exported by country of interest"
   ]
  },
  {
   "cell_type": "code",
   "execution_count": null,
   "metadata": {},
   "outputs": [],
   "source": [
    "\n",
    "# If symmetric_reporting is \"True\" we get the exports from\n",
    "#    the reported imports of all the countries\n",
    "# i.e. instead of asking Country of Interest for export data we ask the world\n",
    "#    for import data from Country of Interest\n",
    "\n",
    "symmetric_reporting = True  # set to false to use reported exports by Country of Interest\n",
    "\n",
    "if symmetric_reporting:\n",
    "    reporterCode = None\n",
    "    partnerCode = country_of_interest\n",
    "    flowCode = 'M'\n",
    "    reporter_column = 'partner'\n",
    "    partner_column = 'reporter'\n",
    "else:\n",
    "    reporterCode = country_of_interest\n",
    "    partnerCode = None\n",
    "    flowCode = 'X'\n",
    "    reporter_column = 'reporter'\n",
    "    partner_column = 'partner'\n",
    "\n"
   ]
  },
  {
   "cell_type": "code",
   "execution_count": null,
   "metadata": {},
   "outputs": [],
   "source": [
    "import comtradetools\n",
    "\n",
    "clCode = 'HS'\n",
    "cmdDetail = 'AG6'  # AG2 aggregate two digits, top level, AG4 detail 4 digits, ... World Bank uses AG6\n",
    "df = comtradetools.getFinalData(\n",
    "                        APIKEY,\n",
    "                        reporterCode=reporterCode,\n",
    "                        typeCode='C',  # commodities\n",
    "                        freqCode='A',  # annual\n",
    "                        flowCode=flowCode,\n",
    "                        period=years_of_interest,\n",
    "                        period_size=1,\n",
    "                        partnerCode=partnerCode,\n",
    "                        remove_world=False,\n",
    "                        partner2Code=0,\n",
    "                        clCode=clCode,\n",
    "                        cmdCode=cmdDetail,\n",
    "                        motCode=0,  # all means of transport\n",
    "                        customsCode='C00',\n",
    "                        includeDesc=True,\n",
    "                        cache=True\n",
    "                        )"
   ]
  },
  {
   "cell_type": "code",
   "execution_count": null,
   "metadata": {},
   "outputs": [],
   "source": [
    "print(\"Years available in the data:\", list(df.refYear.unique()))"
   ]
  },
  {
   "cell_type": "code",
   "execution_count": null,
   "metadata": {},
   "outputs": [],
   "source": [
    "df.head()"
   ]
  },
  {
   "cell_type": "markdown",
   "metadata": {},
   "source": [
    "Agreggate by product, keep the top products exported each year"
   ]
  },
  {
   "cell_type": "code",
   "execution_count": null,
   "metadata": {},
   "outputs": [],
   "source": [
    "import pandas as pd\n",
    "import comtradetools\n",
    "# show 500 lines\n",
    "pd.options.display.max_rows=500\n",
    "pd.options.display.float_format='{:,.2f}'.format\n",
    "\n",
    "show_only_top = 5\n",
    "exports = comtradetools.total_rank_perc(df,['refYear','flowCode','cmdCode'],'primaryValue','product',drop_duplicates=True)\n",
    "exports = exports[exports['product_rank']<=show_only_top]\n",
    "exports.info()\n",
    "\n",
    "cols=['refYear','flowCode','product_rank','cmdCode', 'cmdDesc','product_sum','product_upper_perc', 'product_upper_sum']\n",
    "formats =  comtradetools.make_format(cols)\n",
    "\n",
    "top_export_products_codes = exports['cmdCode'].unique()\n",
    "\n",
    "print(f\"Top products exported by {country_of_interest_name} in {years_of_interest}:\\n {top_export_products_codes}\")\n",
    "for cmdCode in top_export_products_codes:\n",
    "    print(f\"   {cmdCode}: {comtradetools.HS_CODES.get(cmdCode,cmdCode)}\")\n",
    "exports[cols].sort_values(['refYear','flowCode','product_rank']).head(10).style.format(formats)\n"
   ]
  },
  {
   "cell_type": "markdown",
   "metadata": {},
   "source": [
    "#### Export to Excel"
   ]
  },
  {
   "cell_type": "code",
   "execution_count": null,
   "metadata": {},
   "outputs": [],
   "source": [
    "filename = f'reports/{country_of_interest_name}_2.2_exports_products_{clCode}-{cmdDetail}-{exports[\"refYear\"].min()}-{exports[\"refYear\"].max()}.xlsx'\n",
    "print(\"Exporting to \",filename)\n",
    "exports[cols].sort_values(['refYear','flowCode','product_rank']).to_excel(filename,index=False)"
   ]
  },
  {
   "cell_type": "markdown",
   "metadata": {},
   "source": [
    "### 2.3 Export partners / products analysis\n",
    "\n",
    "Which are the partners buying the top exports of country of interest?\n"
   ]
  },
  {
   "cell_type": "code",
   "execution_count": null,
   "metadata": {},
   "outputs": [],
   "source": [
    "\n",
    "# If symmetric_reporting is \"True\" we get the exports from\n",
    "#    the reported imports of all the countries\n",
    "# i.e. instead of asking Country of Interest for export data we ask the world\n",
    "#    for import data from Country of Interest\n",
    "\n",
    "symmetric_reporting = True  # set to false to use reported exports by Country of Interest\n",
    "\n",
    "if symmetric_reporting:\n",
    "    reporterCode = None\n",
    "    partnerCode = country_of_interest\n",
    "    flowCode = 'M'\n",
    "    reporter_column = 'partner'\n",
    "    partner_column = 'reporter'\n",
    "else:\n",
    "    reporterCode = country_of_interest\n",
    "    partnerCode = None\n",
    "    flowCode = 'X'\n",
    "    reporter_column = 'reporter'\n",
    "    partner_column = 'partner'\n",
    "\n"
   ]
  },
  {
   "cell_type": "code",
   "execution_count": null,
   "metadata": {},
   "outputs": [],
   "source": [
    "import warnings\n",
    "warnings.filterwarnings('default')\n",
    "\n",
    "clCode = 'HS'\n",
    "cmdDetail = 'AG6'  # not all countries report at higher detail\n",
    "\n",
    "df = comtradetools.getFinalData(\n",
    "                        APIKEY,\n",
    "                        reporterCode=reporterCode,\n",
    "                        typeCode='C',  # commodities\n",
    "                        freqCode='A',  # annual\n",
    "                        flowCode=flowCode,\n",
    "                        period=years_of_interest,\n",
    "                        period_size=1,\n",
    "                        partnerCode=partnerCode,\n",
    "                        remove_world=True,\n",
    "                        partner2Code=0,\n",
    "                        clCode=clCode,\n",
    "                        cmdCode=cmdDetail,\n",
    "                        motCode=0,  # all means of transport\n",
    "                        customsCode='C00',\n",
    "                        includeDesc=True,\n",
    "                        cache=True\n",
    "                        )\n",
    "df.info()"
   ]
  },
  {
   "cell_type": "code",
   "execution_count": null,
   "metadata": {},
   "outputs": [],
   "source": [
    "df.info()"
   ]
  },
  {
   "cell_type": "code",
   "execution_count": null,
   "metadata": {},
   "outputs": [],
   "source": [
    "cols=['refYear','flowCode','reporterDesc','partnerDesc','primaryValue','cmdCode','cmdDesc']\n",
    "df[cols].sample(10)"
   ]
  },
  {
   "cell_type": "code",
   "execution_count": null,
   "metadata": {},
   "outputs": [],
   "source": [
    "df.refYear.unique()"
   ]
  },
  {
   "cell_type": "markdown",
   "metadata": {},
   "source": [
    "Aggregate by partner and keep the main ones"
   ]
  },
  {
   "cell_type": "code",
   "execution_count": null,
   "metadata": {},
   "outputs": [],
   "source": [
    "import pandas as pd\n",
    "import comtradetools\n",
    "import warnings\n",
    "\n",
    "# show 500 lines\n",
    "pd.options.display.max_rows=500\n",
    "pd.options.display.float_format='{:,.2f}'.format\n",
    "\n",
    "show_only_top = 5\n",
    "print(f\"Top products exported by {country_of_interest_name} in {years_of_interest}:\\n {top_export_products_codes}\")\n",
    "for cmdCode in top_export_products_codes:\n",
    "    print(f\"   {cmdCode}: {comtradetools.HS_CODES.get(cmdCode,cmdCode)}\")\n",
    "\n",
    "print(f\"Top export partners ({len(top_export_partners)}): {top_export_partners}\")\n",
    "prefix='cmd_partner'\n",
    "# remove world\n",
    "if 0 in df[f'{partner_column}Code'].unique():\n",
    "    warnings.warn(\"Removing world from data\")\n",
    "    df = df[df[f'{partner_column}Code']!=0]\n",
    "\n",
    "products_and_partners = comtradetools.total_rank_perc(df,['refYear','flowCode','cmdCode',f'{partner_column}Code'],'primaryValue',prefix,drop_duplicates=True)\n",
    "\n",
    "cols=['refYear',f'{reporter_column}Desc','flowCode','cmdCode','cmdDesc',f'{partner_column}Desc',f'{prefix}_rank',f'{prefix}_sum',f'{prefix}_perc',f'{prefix}_upper_sum']\n",
    "formats=comtradetools.make_format(cols)\n",
    "products_and_partners=products_and_partners[(products_and_partners['cmdCode'].isin(top_export_products_codes)\n",
    "                       & (products_and_partners[f'{prefix}_rank']<=show_only_top))]\n"
   ]
  },
  {
   "cell_type": "markdown",
   "metadata": {},
   "source": [
    "#### Show partners for main export products"
   ]
  },
  {
   "cell_type": "code",
   "execution_count": null,
   "metadata": {},
   "outputs": [],
   "source": [
    "products_and_partners[cols].sort_values(['refYear','flowCode',f'{prefix}_upper_sum',f'{prefix}_rank'],\n",
    "                                             ascending=[True,True,False,True])\\\n",
    "                                             .head(10).style.format(formats) #.hide(axis='index')"
   ]
  },
  {
   "cell_type": "markdown",
   "metadata": {},
   "source": [
    "#### Export to Excel"
   ]
  },
  {
   "cell_type": "code",
   "execution_count": null,
   "metadata": {},
   "outputs": [],
   "source": [
    "filename = f'reports/{country_of_interest_name}_2.3_exports_products_partners_{clCode}-{cmdDetail}-{products_and_partners[\"refYear\"].min()}-{products_and_partners[\"refYear\"].max()}.xlsx'\n",
    "products_and_partners[cols].sort_values(['refYear','flowCode',f'{prefix}_upper_sum',f'{prefix}_rank'],\n",
    "                                             ascending=[True,True,False,True]).to_excel(filename, index=False)\n",
    "print(\"Exporting to \",filename)"
   ]
  },
  {
   "cell_type": "markdown",
   "metadata": {},
   "source": [
    "### 2.4 Main clients and products exported \n",
    "\n",
    "Detail of the main products by export partner.\n",
    "\n",
    "Allows to analyse the mix of products of the main export partners from this country"
   ]
  },
  {
   "cell_type": "code",
   "execution_count": null,
   "metadata": {},
   "outputs": [],
   "source": [
    "top_export_partners"
   ]
  },
  {
   "cell_type": "code",
   "execution_count": null,
   "metadata": {},
   "outputs": [],
   "source": [
    "import comtradetools\n",
    "\n",
    "show_only_top = 5\n",
    "\n",
    "print(f\"Top export partners ({len(top_export_partners)}): {top_export_partners}\")\n",
    "prefix='partner_cmd'\n",
    "partners_and_products = comtradetools.total_rank_perc(df,['refYear','flowCode',f'{partner_column}Code','cmdCode'],'primaryValue',prefix,drop_duplicates=False)\n",
    "\n",
    "cols=['refYear',f'{reporter_column}Desc','flowCode',f'{partner_column}Desc','cmdCode','cmdDesc',f'{prefix}_rank',f'{prefix}_sum',f'{prefix}_perc',f'{prefix}_upper_sum']\n",
    "formats = comtradetools.make_format(cols)\n",
    "partners_and_products=partners_and_products[(partners_and_products[f'{partner_column}Desc'].isin(top_export_partners)\n",
    "                       & (partners_and_products[f'{prefix}_rank']<=show_only_top))]\n",
    "\n",
    "print(\"First rows\")\n",
    "partners_and_products[partners_and_products[f'{prefix}_rank']<=show_only_top][cols].sort_values(\n",
    "    ['refYear','flowCode','partner_cmd_upper_sum',f'{prefix}_sum',f'{prefix}_rank'],\n",
    "    ascending=[True,True,False,False,False]).head(10).style.format(formats).hide(axis='index')"
   ]
  },
  {
   "cell_type": "markdown",
   "metadata": {},
   "source": [
    "Last rows"
   ]
  },
  {
   "cell_type": "code",
   "execution_count": null,
   "metadata": {},
   "outputs": [],
   "source": [
    "partners_and_products[partners_and_products[f'{prefix}_rank']<=show_only_top][cols].sort_values(\n",
    "    ['refYear','flowCode','partner_cmd_upper_sum',f'{prefix}_sum',f'{prefix}_rank'],\n",
    "    ascending=[True,True,False,False,False]).tail(10).style.format(formats).hide(axis='index')"
   ]
  },
  {
   "cell_type": "code",
   "execution_count": null,
   "metadata": {},
   "outputs": [],
   "source": [
    "filename = f'reports/{country_of_interest_name}_2.4_exports_partners_products_{clCode}-{cmdDetail}-{partners_and_products[\"refYear\"].min()}-{partners_and_products[\"refYear\"].max()}.xlsx'\n",
    "partners_and_products[partners_and_products[f'{prefix}_rank']<=show_only_top][cols].sort_values(\n",
    "    ['refYear','flowCode','partner_cmd_upper_sum',f'{prefix}_sum',f'{prefix}_rank'],\n",
    "    ascending=[True,True,False,False,False])[cols].to_excel(filename, index=False)\n",
    "print(\"Exporting to \",filename)"
   ]
  },
  {
   "cell_type": "markdown",
   "metadata": {},
   "source": [
    "### 2.5 Alternative suppliers of costumers of country of interest\n",
    "\n"
   ]
  },
  {
   "cell_type": "markdown",
   "metadata": {},
   "source": [
    "\n",
    "For each year, partner, exported commodity, fetches all the imports of\n",
    "the commodity by partner from other countries, and computes the ranking\n",
    "of country of interest among the suppliers of partner for that commodity,\n",
    "e.g.\n",
    "\n",
    "Country of interest：Angola, in 2021, China, exported commodity code 270900 \"Oils; petroleum oils and oils obtained \n",
    "from bituminous minerals, crude\" ; fetch all suppliers of 270900 of China and compute\n",
    "the ranking of Angola.\n"
   ]
  },
  {
   "cell_type": "markdown",
   "metadata": {},
   "source": [
    "First step is to get the combos of partner and commodity"
   ]
  },
  {
   "cell_type": "code",
   "execution_count": null,
   "metadata": {},
   "outputs": [],
   "source": [
    "combos_of_interest = partners_and_products[(partners_and_products['cmdCode'].isin(top_export_products_codes)\n",
    "                & (partners_and_products[f'{partner_column}Code'].isin(top_export_partners_codes)))][[f'{partner_column}Code','cmdCode']].drop_duplicates()\n",
    "combos_of_interest = [tuple(x) for x in combos_of_interest.values]\n",
    "len(combos_of_interest)"
   ]
  },
  {
   "cell_type": "code",
   "execution_count": null,
   "metadata": {},
   "outputs": [],
   "source": [
    "# create lists of commodities codes and country codes to query comtrade\n",
    "cmdCode_list = [cmdCode for (countryCode,cmdCode) in combos_of_interest]\n",
    "cmdCode_list = list(set(cmdCode_list))\n",
    "countryCode_list = [countryCode for (countryCode,cmdCode) in combos_of_interest]\n",
    "countryCode_list = list(set(countryCode_list))\n",
    "cmdCodeCSV = ','.join(cmdCode_list)\n",
    "countryCodeCSV = ','.join(map(str,countryCode_list))"
   ]
  },
  {
   "cell_type": "markdown",
   "metadata": {},
   "source": [
    "Get all the suppliers of client for products exported by contry of interest."
   ]
  },
  {
   "cell_type": "code",
   "execution_count": null,
   "metadata": {},
   "outputs": [],
   "source": [
    "print(\"Years of interest: \", years_of_interest)\n",
    "print(\"countryCodeCSV: \", countryCodeCSV)\n",
    "print(\"cmdCodeCSV: \", cmdCodeCSV)\n",
    "\n",
    "df = comtradetools.getFinalData(APIKEY,\n",
    "                                typeCode='C',  # commodities\n",
    "                                freqCode='A',  # annual\n",
    "                                flowCode='M',\n",
    "                                reporterCode=countryCodeCSV,\n",
    "                                partnerCode=None,\n",
    "                                remove_world=True,\n",
    "                                partner2Code=0,\n",
    "                                period=years_of_interest,\n",
    "                                period_size=1,\n",
    "                                clCode=clCode,\n",
    "                                cmdCode=cmdCodeCSV,  # Top level product types\n",
    "                                motCode=0,  # all means of transport\n",
    "                                customsCode='C00',\n",
    "                                includeDesc=True,\n",
    "                                cache=True,\n",
    "\n",
    "                                )"
   ]
  },
  {
   "cell_type": "markdown",
   "metadata": {},
   "source": [
    "Alternative, concatenating"
   ]
  },
  {
   "cell_type": "code",
   "execution_count": null,
   "metadata": {},
   "outputs": [],
   "source": [
    "import pandas as pd\n",
    "\n",
    "try_alternative = False\n",
    "\n",
    "if try_alternative:\n",
    "    df2: pd.DataFrame = None\n",
    "    for countryCode,cmdCode in combos_of_interest:\n",
    "        print(countryCode,cmdCode)\n",
    "        tmp = comtradetools.getFinalData(APIKEY,\n",
    "                                        reporterCode=countryCode,\n",
    "                                        typeCode='C',  # commodities\n",
    "                                        freqCode='A',  # annual\n",
    "                                        flowCode='M',\n",
    "                                        partnerCode=None,\n",
    "                                        remove_world=True,\n",
    "                                        partner2Code=0,\n",
    "                                        period=years_of_interest,\n",
    "                                        period_size=1,\n",
    "                                        clCode='HS',\n",
    "                                        cmdCode=cmdCode,  # Top level product types\n",
    "                                        customsCode='C00',\n",
    "                                        motCode=0,  # all means of transport\n",
    "                                        )\n",
    "        if df2 is None:\n",
    "            df2 = tmp\n",
    "        else:\n",
    "            df2 = pd.concat([df2,tmp],axis=0)\n"
   ]
  },
  {
   "cell_type": "markdown",
   "metadata": {},
   "source": [
    "Partners buying top products of country of interest."
   ]
  },
  {
   "cell_type": "code",
   "execution_count": null,
   "metadata": {},
   "outputs": [],
   "source": [
    "list(df.reporterDesc.unique()), list(df.partnerDesc.unique())\n"
   ]
  },
  {
   "cell_type": "markdown",
   "metadata": {},
   "source": [
    "For each partner show the top supliers of the products bought from country of interest. \n",
    "\n",
    "If country of interest is not in the top five, show position anyway if it is a supplier in the given year "
   ]
  },
  {
   "cell_type": "code",
   "execution_count": null,
   "metadata": {},
   "outputs": [],
   "source": [
    "import pandas as pd\n",
    "import comtradetools\n",
    "\n",
    "#  set max rows to 500\n",
    "pd.set_option('display.max_rows', 1500)\n",
    "\n",
    "\n",
    "other_suppliers = comtradetools.total_rank_perc(\n",
    "                                        df,\n",
    "                                        groupby=['refYear','flowCode','reporterCode','cmdCode','partnerCode'],\n",
    "                                        col='primaryValue',\n",
    "                                        prefix='cmd_partner',\n",
    "                                        )\n",
    "\n",
    "other_suppliers = other_suppliers[other_suppliers[['reporterCode','cmdCode']].apply(tuple,axis=1).isin(combos_of_interest)]\n",
    "cols=['reporterDesc','flowCode','refYear','cmdCode','cmdDesc','cmd_partner_rank','partnerDesc','primaryValue','cmd_partner_perc','cmd_partner_upper_sum']\n",
    "formats =  comtradetools.make_format(cols)\n",
    "\n",
    "other_suppliers[(other_suppliers['partnerCode'] == country_of_interest)\n",
    "                | (other_suppliers['cmd_partner_rank']<=show_only_top)\n",
    "                ][cols].sort_values(by=['reporterDesc','cmdCode','refYear','cmd_partner_rank']).head(20).style.format(formats).hide(axis=\"index\")"
   ]
  },
  {
   "cell_type": "markdown",
   "metadata": {},
   "source": [
    "### Ranking of country of interest in the supliers of main export products\n",
    "\n",
    "Allows assessment of the importance of country of interest for the partners\n",
    "that are buying its main exports."
   ]
  },
  {
   "cell_type": "code",
   "execution_count": null,
   "metadata": {},
   "outputs": [],
   "source": [
    "ignore_if_rank_is_higher = 25\n",
    "\n",
    "relevant_for_partner_imports=other_suppliers[\n",
    "    (other_suppliers['partnerCode'\n",
    "                     ] == country_of_interest) &\n",
    "    (other_suppliers['cmd_partner_rank'] < ignore_if_rank_is_higher)\n",
    "\n",
    "                     ][cols].sort_values(by=['reporterDesc','cmdCode','refYear','cmd_partner_rank'])\n",
    "relevant_for_partner_imports.head(50).style.format(formats).hide(axis='index')"
   ]
  },
  {
   "cell_type": "code",
   "execution_count": null,
   "metadata": {},
   "outputs": [],
   "source": [
    "filename = f'reports/{country_of_interest_name}_2.5.1_export_partners_alternative.xlsx'\n",
    "print(\"Exporting to \",filename)\n",
    "other_suppliers[cols].sort_values(by=['reporterDesc','cmdCode','refYear','cmd_partner_rank']).to_excel(filename)"
   ]
  },
  {
   "cell_type": "code",
   "execution_count": null,
   "metadata": {},
   "outputs": [],
   "source": [
    "filename = f'reports/{country_of_interest_name}_2.5.2_export_partners_alternative_relevant.xlsx'\n",
    "print(\"Exporting to \",filename)\n",
    "relevant_for_partner_imports.to_excel(filename)"
   ]
  },
  {
   "attachments": {},
   "cell_type": "markdown",
   "metadata": {},
   "source": [
    "## 3. Imports"
   ]
  },
  {
   "cell_type": "code",
   "execution_count": null,
   "metadata": {},
   "outputs": [],
   "source": [
    "print(country_of_interest_name, years_of_interest)"
   ]
  },
  {
   "cell_type": "markdown",
   "metadata": {},
   "source": [
    "### 3.1 Main import partners\n",
    "\n",
    "Collect imports to country of interest.\n",
    "\n",
    "Use either reported imports by country of interest, \n",
    "or reported exports to country of interest by\n",
    "all other countries (symmetric reporting). \n",
    "\n",
    "Set variable `symmetric_reporting` to choose."
   ]
  },
  {
   "cell_type": "code",
   "execution_count": null,
   "metadata": {},
   "outputs": [],
   "source": [
    "# If symmetric_reporting is \"True\" we get the imports from\n",
    "#    the reported exports of all the countries\n",
    "# i.e. instead of asking Country of Interest for import data we ask the world\n",
    "#    for export data towards Country of Interest\n",
    "\n",
    "symmetric_reporting = False  # set to false to use reported imports by Country of Interest\n",
    "\n",
    "if symmetric_reporting:\n",
    "    reporterCode = None\n",
    "    partnerCode = country_of_interest\n",
    "    flowCode = 'X'\n",
    "    reporter_column = 'partner'\n",
    "    partner_column = 'reporter'\n",
    "else:\n",
    "    reporterCode = country_of_interest\n",
    "    partnerCode = None\n",
    "    flowCode = 'M'\n",
    "    reporter_column = 'reporter'\n",
    "    partner_column = 'partner'\n",
    "\n"
   ]
  },
  {
   "cell_type": "code",
   "execution_count": null,
   "metadata": {},
   "outputs": [],
   "source": [
    "clCode = 'HS'\n",
    "cmdDetail = 'AG6'  # AG2 aggregate two digits, top level, AG4 detail 4 digits, ... World bank uses AG6, but some codes AG4\n",
    "df = comtradetools.getFinalData(\n",
    "                        APIKEY,\n",
    "                        reporterCode=reporterCode,\n",
    "                        typeCode='C',  # commodities\n",
    "                        freqCode='A',  # annual\n",
    "                        flowCode=flowCode,  # imports\n",
    "                        partnerCode=partnerCode, # every body\n",
    "                        remove_world=True,\n",
    "                        partner2Code=0, # ignore parter2\n",
    "                        period=years_of_interest,\n",
    "                        period_size=1,\n",
    "                        clCode=\"HS\",\n",
    "                        cmdCode=\"TOTAL\",\n",
    "                        motCode=0,  # all means of transport\n",
    "                        customsCode='C00',\n",
    "                        includeDesc=True,\n",
    "                        cache=True\n",
    "                        )"
   ]
  },
  {
   "cell_type": "markdown",
   "metadata": {},
   "source": [
    "Compute percentage of trade and rank of partners for each year.\n",
    "\n",
    "Use `show_only_top` to show only the top partners (e.g. 5)."
   ]
  },
  {
   "cell_type": "code",
   "execution_count": null,
   "metadata": {},
   "outputs": [],
   "source": [
    "import pandas as pd\n",
    "import comtradetools\n",
    "# show 500 lines\n",
    "pd.options.display.max_rows=500\n",
    "pd.options.display.float_format='{:,.2f}'.format\n",
    "\n",
    "show_only_top = 5\n",
    "partner_column = 'partner'\n",
    "reporter_column = 'reporter'\n",
    "\n",
    "# aggregate by year, flow, reporter\n",
    "imports = comtradetools.total_rank_perc(df,groupby=['refYear','flowCode',f'{partner_column}Desc'],\n",
    "                                    col='primaryValue',\n",
    "                                    prefix='partner',\n",
    "                                    drop_duplicates=True)\n",
    "\n",
    "cols=['refYear','flowCode',f'{reporter_column}Desc','partner_rank',f'{partner_column}Desc','partner_sum','partner_perc','partner_upper_perc']\n",
    "\n",
    "formats =  comtradetools.make_format(cols)\n",
    "\n",
    "top_import_partners = imports[imports['partner_rank']<=show_only_top][f'{partner_column}Desc'].unique()\n",
    "top_import_partners_codes = imports[imports['partner_rank']<=show_only_top][f'{partner_column}Code'].unique()\n",
    "\n",
    "print(f\"Top {show_only_top} import partners of {country_of_interest_name} in {years_of_interest}: \\n{top_import_partners}\")\n",
    "imports[imports['partner_rank']<=show_only_top][cols].sort_values(['refYear','flowCode','partner_rank']).style.format(formats)"
   ]
  },
  {
   "cell_type": "markdown",
   "metadata": {},
   "source": [
    "Pivot the countries to columns, keeping the total value and percentage in separate columns.\n",
    "\n",
    "----\n",
    "\n",
    "Passamos os países para colunas, mantendo a percentagem e o valor em separado."
   ]
  },
  {
   "cell_type": "code",
   "execution_count": null,
   "metadata": {},
   "outputs": [],
   "source": [
    "pivoted = df.pivot_table(index=['refYear','flowDesc'], columns=f'{partner_column}Desc', values=['primaryValue','partner_perc'])\n",
    "pivoted.swaplevel(axis=1).fillna(0,inplace=True)\n",
    "pivoted.sort_index(axis=1, level=0, inplace=True)\n",
    "pivoted.fillna(0, inplace=True)\n",
    "pivoted"
   ]
  },
  {
   "cell_type": "markdown",
   "metadata": {},
   "source": [
    "Limit table to top import partners\n",
    "\n",
    "Note that the number of top partners considered was set before with `show_only_top` (e.g. 5).\n",
    "\n",
    "But each year the top partners may vary, so that the total number of partners for the period will be\n",
    "more than `show_only_top`."
   ]
  },
  {
   "cell_type": "code",
   "execution_count": null,
   "metadata": {},
   "outputs": [],
   "source": [
    "show_only_columns = [(l1, country) for l1,country in pivoted.columns.tolist() if country in top_import_partners]\n",
    "pivoted[show_only_columns]"
   ]
  },
  {
   "cell_type": "markdown",
   "metadata": {},
   "source": [
    "Make a table with the total value of import from top partners in the period of interest"
   ]
  },
  {
   "cell_type": "code",
   "execution_count": null,
   "metadata": {},
   "outputs": [],
   "source": [
    "print(\"Top partners for import: \",top_import_partners)\n",
    "print(\"Period of interest:\",years_of_interest)"
   ]
  },
  {
   "cell_type": "code",
   "execution_count": null,
   "metadata": {},
   "outputs": [],
   "source": [
    "import pandas as pd\n",
    "\n",
    "# lets get just the value of imports from the top export partners\n",
    "values_only = pivoted.loc[:,\"primaryValue\"]\n",
    "values_only.reset_index(level=1, drop=True, inplace=True)\n",
    "show_only_columns = [country for country in values_only.columns.tolist() if country in top_import_partners]\n",
    "values_only=values_only[show_only_columns]\n",
    "# sort columns by mean value\n",
    "mean_values = values_only.mean().sort_values(ascending=False)\n",
    "values_only = values_only[mean_values.index]\n",
    "values_only"
   ]
  },
  {
   "cell_type": "code",
   "execution_count": null,
   "metadata": {},
   "outputs": [],
   "source": [
    "import matplotlib.pyplot as plt\n",
    "\n",
    "title=f\"{country_of_interest_name} top import origins {start_year}-{end_year}\"\n",
    "plotfile = f\"reports/{country_of_interest_name}_3.1.4_import_partners_{start_year}-{end_year}.png\"\n",
    "\n",
    "# colors = ['red','lightsalmon','green','lightgreen','darkviolet','violet','blue','dodgerblue','orange','yellow','brown','black','grey','pink','cyan','magenta',]\n",
    "# colors = ['crimson', 'darkorange', 'gold', 'limegreen', 'mediumseagreen', 'teal', 'deepskyblue', 'royalblue', 'indigo', 'mediumvioletred', 'hotpink', 'saddlebrown', 'grey', 'black', 'darkslategrey', 'darkkhaki']\n",
    "colors = [ '#333333','#444444', '#555555', '#666666', '#777777', '#888888', '#999999', '#AAAAAA', '#BBBBBB', '#CCCCCC', '#DDDDDD', '#EEEEEE']\n",
    "fig2 = values_only.plot.area(figsize=(20,20),title=title, color=colors)\n",
    "\n",
    "for i, line in enumerate(fig2.get_lines()):\n",
    "    n = i % len(colors)\n",
    "    # print(i, line, colors[n])\n",
    "    line.set_color(colors[n])\n",
    "\n",
    "formatter = ticker.StrMethodFormatter('{x:,.0f}')\n",
    "fig2.yaxis.set_major_formatter(formatter)\n",
    "\n",
    "plt.savefig(plotfile)\n",
    "plt.show()"
   ]
  },
  {
   "cell_type": "code",
   "execution_count": null,
   "metadata": {},
   "outputs": [],
   "source": [
    "plotfile"
   ]
  },
  {
   "cell_type": "code",
   "execution_count": null,
   "metadata": {},
   "outputs": [],
   "source": [
    "show_only_columns = [(l1, country) for l1,country in pivoted.columns.tolist() if country in top_import_partners]\n",
    "list(show_only_columns)"
   ]
  },
  {
   "cell_type": "markdown",
   "metadata": {},
   "source": [
    "#### Export to Excel\n",
    "\n",
    "Table with the top import origins for the period of interest"
   ]
  },
  {
   "cell_type": "code",
   "execution_count": null,
   "metadata": {},
   "outputs": [],
   "source": [
    "top_partners_file = f'reports/{country_of_interest_name}_3.1.1_top_import_partners.xlsx'\n",
    "top_partners_cols_file = f'reports/{country_of_interest_name}_3.1.2_top_import_partners_cols.xlsx'\n",
    "import_top_partners_file = f'reports/{country_of_interest_name}_3.1.3_import_top_{show_only_top}_partners_{start_year}-{end_year}.xlsx'\n",
    "\n",
    "imports[cols].sort_values(['refYear','flowCode','partner_rank']).to_excel(top_partners_file)\n",
    "pivoted.to_excel(top_partners_cols_file)\n",
    "pivoted[show_only_columns].reset_index().to_excel(import_top_partners_file)\n",
    "\n",
    "print(f\"Top import partners file: {top_partners_file}\")\n",
    "print(f\"Top import partners cols file: {top_partners_cols_file}\")\n",
    "print(f\"Import top partners file: {import_top_partners_file}\")"
   ]
  },
  {
   "attachments": {},
   "cell_type": "markdown",
   "metadata": {},
   "source": [
    "### 3.2 Imports: products"
   ]
  },
  {
   "cell_type": "markdown",
   "metadata": {},
   "source": [
    "#### Main imported products"
   ]
  },
  {
   "cell_type": "code",
   "execution_count": null,
   "metadata": {},
   "outputs": [],
   "source": [
    "import pandas as pd\n",
    "\n",
    "# show 500 lines of dataframes\n",
    "pd.set_option('display.max_rows', 500)\n",
    "\n",
    "show_only_top=5\n",
    "# years_of_interest = comtrade.year_range(2020, 2021)\n",
    "\n",
    "print(country_of_interest_name, years_of_interest)\n"
   ]
  },
  {
   "cell_type": "markdown",
   "metadata": {},
   "source": [
    "Get the products imported by country of interest"
   ]
  },
  {
   "cell_type": "code",
   "execution_count": null,
   "metadata": {},
   "outputs": [],
   "source": [
    "# If symmetric_reporting is \"True\" we get the exports from\n",
    "#    the reported imports of all the countries\n",
    "# i.e. instead of asking Country of Interest for export data we ask the world\n",
    "#    for import data from Country of Interest\n",
    "\n",
    "symmetric_reporting = False  # set to false to use reported exports by Country of Interest\n",
    "\n",
    "if symmetric_reporting:\n",
    "    reporterCode = None\n",
    "    partnerCode = country_of_interest\n",
    "    flowCode = 'X'\n",
    "    reporter_column = 'partner'\n",
    "    partner_column = 'reporter'\n",
    "else:\n",
    "    reporterCode = country_of_interest\n",
    "    partnerCode = None\n",
    "    flowCode = 'M'\n",
    "    reporter_column = 'reporter'\n",
    "    partner_column = 'partner'"
   ]
  },
  {
   "cell_type": "code",
   "execution_count": null,
   "metadata": {},
   "outputs": [],
   "source": [
    "import comtradetools\n",
    "\n",
    "clCode = 'HS'\n",
    "cmdDetail = 'AG6'  # AG2 aggregate two digits, top level, AG4 detail 4 digits, ... World bank uses AG6\n",
    "df = comtradetools.getFinalData(\n",
    "                        APIKEY,\n",
    "                        reporterCode=reporterCode,\n",
    "                        typeCode='C',  # commodities\n",
    "                        freqCode='A',  # annual\n",
    "                        flowCode=flowCode,\n",
    "                        period=years_of_interest,\n",
    "                        period_size=1,\n",
    "                        partnerCode=partnerCode,\n",
    "                        remove_world=False,\n",
    "                        partner2Code=0,\n",
    "                        clCode=clCode,\n",
    "                        cmdCode=cmdDetail,\n",
    "                        motCode=0,  # all means of transport\n",
    "                        customsCode='C00',\n",
    "                        includeDesc=True,\n",
    "                        retry_if_empty=False,\n",
    "                        cache=True\n",
    "                        )\n",
    "df.info()"
   ]
  },
  {
   "cell_type": "code",
   "execution_count": null,
   "metadata": {},
   "outputs": [],
   "source": [
    "print(\"Years available in the data:\", list(df.refYear.unique()))"
   ]
  },
  {
   "cell_type": "code",
   "execution_count": null,
   "metadata": {},
   "outputs": [],
   "source": [
    "df.head()"
   ]
  },
  {
   "cell_type": "markdown",
   "metadata": {},
   "source": [
    "Agreggate by product, keep the top products imported each year"
   ]
  },
  {
   "cell_type": "code",
   "execution_count": null,
   "metadata": {},
   "outputs": [],
   "source": [
    "import pandas as pd\n",
    "import comtradetools\n",
    "# show 500 lines\n",
    "pd.options.display.max_rows=500\n",
    "pd.options.display.float_format='{:,.2f}'.format\n",
    "\n",
    "show_only_top = 5\n",
    "imports = comtradetools.total_rank_perc(df,['refYear','flowCode','cmdCode'],'primaryValue','product',drop_duplicates=True)\n",
    "imports = imports[imports['product_rank']<=show_only_top]\n",
    "imports.info()\n",
    "\n",
    "cols=['refYear','flowCode','product_rank','cmdCode', 'cmdDesc','product_sum','product_upper_perc','classificationCode','aggrLevel','isLeaf', 'product_upper_sum']\n",
    "formats =  comtradetools.make_format(cols)\n",
    "\n",
    "top_import_products_codes = imports['cmdCode'].unique()\n",
    "\n",
    "print(f\"Top products imported by {country_of_interest_name} in {years_of_interest}:\\n {top_import_products_codes}\")\n",
    "for cmdCode in top_import_products_codes:\n",
    "    print(f\"   {cmdCode}: {comtradetools.HS_CODES.get(cmdCode,cmdCode)}\")\n",
    "imports[cols].sort_values(['refYear','flowCode','product_rank']).head(10).style.format(formats)\n"
   ]
  },
  {
   "cell_type": "markdown",
   "metadata": {},
   "source": [
    "### Caveat"
   ]
  },
  {
   "cell_type": "markdown",
   "metadata": {},
   "source": [
    "For Angola results match https://trendeconomy.com/data/h2/Angola/TOTAL for AG2 and AG4 but not https://www.statista.com/statistics/1143152/value-of-imports-into-angola-by-category/  and close but not same as https://globaledge.msu.edu/countries/angola/tradestats\n",
    "\n",
    "The imports match World Bank Wits data mostly, but in some years \n",
    "there seems to be a mismatch of HS Codes, with different descriptions in Wits\n",
    "and values that sometimes match AG4 and not AG6 (2015,total is AG4:2710 not AG6:271012 )\n",
    "and in same cases match the first 5 digits (2015: 73042 \"Casings tubing...\", 2021 10011, Durum Wheat)"
   ]
  },
  {
   "cell_type": "markdown",
   "metadata": {},
   "source": [
    "Use the following cell to compute totals for codes with first 5 digit in common to compare with other sources"
   ]
  },
  {
   "cell_type": "code",
   "execution_count": null,
   "metadata": {},
   "outputs": [],
   "source": [
    "import pandas as pd\n",
    "\n",
    "pd.set_option('display.max_colwidth', 200)\n",
    "pd.options.display.float_format = '{:,.2f}'.format\n",
    "\n",
    "code_prefix = '10011'\n",
    "cols=['refYear','flowCode','cmdCode','cmdDesc', 'classificationCode','aggrLevel','primaryValue','product_rank','product_perc']\n",
    "\n",
    "# select rows and columns\n",
    "selected_rows = df[(df['refYear']==2021) & (df['cmdCode'].str.startswith(code_prefix))][cols].sort_values(by=['primaryValue'],ascending=False).head(50)\n",
    "\n",
    "# add total of primaryValue column\n",
    "total = selected_rows['primaryValue'].sum()\n",
    "selected_rows.loc['Total'] = pd.Series({'primaryValue': total})\n",
    "\n",
    "# display selected rows\n",
    "selected_rows\n"
   ]
  },
  {
   "cell_type": "code",
   "execution_count": null,
   "metadata": {},
   "outputs": [],
   "source": [
    "print(\"Years available in the data:\", list(imports.refYear.unique()))"
   ]
  },
  {
   "cell_type": "markdown",
   "metadata": {},
   "source": [
    "#### Export to Excel"
   ]
  },
  {
   "cell_type": "code",
   "execution_count": null,
   "metadata": {},
   "outputs": [],
   "source": [
    "filename = f'reports/{country_of_interest_name}_3.2_imports_products_{clCode}-{cmdDetail}-{imports[\"refYear\"].min()}-{imports[\"refYear\"].max()}.xlsx'\n",
    "print(\"Exporting to \",filename)\n",
    "imports[cols].sort_values(['refYear','flowCode','product_rank']).to_excel(filename,index=False)"
   ]
  },
  {
   "cell_type": "markdown",
   "metadata": {},
   "source": [
    "### 3.3 Import partners / product analysis"
   ]
  },
  {
   "cell_type": "markdown",
   "metadata": {},
   "source": [
    "Which are the partners selling the top imports by country of interest"
   ]
  },
  {
   "cell_type": "code",
   "execution_count": null,
   "metadata": {},
   "outputs": [],
   "source": [
    "# If symmetric_reporting is \"True\" we get the exports from\n",
    "#    the reported imports of all the countries\n",
    "# i.e. instead of asking Country of Interest for export data we ask the world\n",
    "#    for import data from Country of Interest\n",
    "\n",
    "symmetric_reporting = False  # set to false to use reported exports by Country of Interest\n",
    "\n",
    "if symmetric_reporting:\n",
    "    reporterCode = None\n",
    "    partnerCode = country_of_interest\n",
    "    flowCode = 'X'\n",
    "    reporter_column = 'partner'\n",
    "    partner_column = 'reporter'\n",
    "else:\n",
    "    reporterCode = country_of_interest\n",
    "    partnerCode = None\n",
    "    flowCode = 'M'\n",
    "    reporter_column = 'reporter'\n",
    "    partner_column = 'partner'"
   ]
  },
  {
   "cell_type": "code",
   "execution_count": null,
   "metadata": {},
   "outputs": [],
   "source": [
    "import warnings\n",
    "warnings.filterwarnings('default')\n",
    "\n",
    "clCode = 'HS'\n",
    "cmdDetail = 'AG6'  # not all countries report at higher detail\n",
    "\n",
    "df = comtradetools.getFinalData(\n",
    "                        APIKEY,\n",
    "                        reporterCode=reporterCode,\n",
    "                        typeCode='C',  # commodities\n",
    "                        freqCode='A',  # annual\n",
    "                        flowCode=flowCode,\n",
    "                        period=years_of_interest,\n",
    "                        period_size=1, # lots of data, better segment\n",
    "                        partnerCode=partnerCode,\n",
    "                        remove_world=False,\n",
    "                        partner2Code=0,\n",
    "                        clCode=clCode,\n",
    "                        cmdCode=cmdDetail,\n",
    "                        motCode=0,  # all means of transport\n",
    "                        customsCode='C00',\n",
    "                        includeDesc=True,\n",
    "                        retry_if_empty=False,\n",
    "                        cache=True\n",
    "                        )\n",
    "df.info()"
   ]
  },
  {
   "cell_type": "code",
   "execution_count": null,
   "metadata": {},
   "outputs": [],
   "source": [
    "cols2=['refYear','flowCode','reporterDesc','partnerDesc','primaryValue','cmdCode','cmdDesc']\n",
    "df[cols2].sample(10)"
   ]
  },
  {
   "cell_type": "code",
   "execution_count": null,
   "metadata": {},
   "outputs": [],
   "source": [
    "df.refYear.unique()"
   ]
  },
  {
   "cell_type": "markdown",
   "metadata": {},
   "source": [
    "Aggregate by partner and keep the main ones"
   ]
  },
  {
   "cell_type": "code",
   "execution_count": null,
   "metadata": {},
   "outputs": [],
   "source": [
    "import pandas as pd\n",
    "import comtradetools\n",
    "import warnings\n",
    "\n",
    "# show 500 lines\n",
    "pd.options.display.max_rows=500\n",
    "pd.options.display.float_format='{:,.2f}'.format\n",
    "\n",
    "show_only_top = 5   # change to have more top partners\n",
    "\n",
    "print(f\"Top products imported by {country_of_interest_name} in {years_of_interest}:\\n {top_import_products_codes}\")\n",
    "for cmdCode in top_import_products_codes:\n",
    "    print(f\"   {cmdCode}: {comtradetools.HS_CODES.get(cmdCode,cmdCode)}\")\n",
    "\n",
    "print(f\"Top import partners ({len(top_import_partners)}): {top_import_partners}\")\n",
    "prefix='cmd_partner'\n",
    "# remove world\n",
    "if 0 in df[f'{partner_column}Code'].unique():\n",
    "    warnings.warn(\"Removing world from data\")\n",
    "    df = df[df[f'{partner_column}Code']!=0]\n",
    "\n",
    "products_and_partners = comtradetools.total_rank_perc(df,['refYear','flowCode','cmdCode',f'{partner_column}Code'],'primaryValue',prefix,drop_duplicates=True)\n",
    "cols=['refYear','flowCode','cmdDesc','cmdCode',f'{partner_column}Desc',f'{prefix}_rank',f'{prefix}_sum',f'{prefix}_perc',f'{prefix}_upper_sum']\n",
    "formats=comtradetools.make_format(cols)\n",
    "\n",
    "products_and_partners=products_and_partners[(products_and_partners['cmdCode'].isin(top_import_products_codes)\n",
    "                        & (products_and_partners[f'{prefix}_rank']<=show_only_top))]\n",
    "print(f\"Data available for years {products_and_partners.refYear.unique()}\")\n"
   ]
  },
  {
   "cell_type": "markdown",
   "metadata": {},
   "source": [
    "### Partners for main import products"
   ]
  },
  {
   "cell_type": "code",
   "execution_count": null,
   "metadata": {},
   "outputs": [],
   "source": [
    "products_and_partners[cols].sort_values(['refYear','flowCode',f'{prefix}_upper_sum',f'{prefix}_rank'],\n",
    "                                        ascending=[True,True,False,True])\\\n",
    "                                            .head(30).style.format(formats) #.hide(axis='index')"
   ]
  },
  {
   "cell_type": "code",
   "execution_count": null,
   "metadata": {},
   "outputs": [],
   "source": [
    "filename = f'reports/{country_of_interest_name}_3.3_imports_products_partners_{clCode}-{cmdDetail}-{products_and_partners[\"refYear\"].min()}-{products_and_partners[\"refYear\"].max()}.xlsx'\n",
    "print(\"Exporting to \",filename)\n",
    "products_and_partners[cols].sort_values(['refYear','flowCode',f'{prefix}_upper_sum',f'{prefix}_rank'],\n",
    "                                        ascending=[True,True,False,True]).to_excel(filename, index=False)"
   ]
  },
  {
   "cell_type": "markdown",
   "metadata": {},
   "source": [
    "### 3.4 Main partners and main products imported by country of interest\n",
    "\n",
    "Detail of the main products by import partner.\n",
    "\n",
    "Allows to analyse the mix of products of the main suppliers from this country.\n",
    "\n"
   ]
  },
  {
   "cell_type": "code",
   "execution_count": null,
   "metadata": {},
   "outputs": [],
   "source": [
    "top_import_partners"
   ]
  },
  {
   "cell_type": "code",
   "execution_count": null,
   "metadata": {},
   "outputs": [],
   "source": [
    "import comtradetools\n",
    "\n",
    "show_only_top = 5  # for suppliers with wide range of products e.g PT->AO increase\n",
    "\n",
    "print(f\"Top import partners ({len(top_import_partners)}): {top_import_partners}\")\n",
    "prefix='partner_cmd'\n",
    "suppliers_and_products = comtradetools.total_rank_perc(df,['refYear','flowCode',f'{partner_column}Code','cmdCode'],'primaryValue',prefix,drop_duplicates=False)\n",
    "\n",
    "cols=['refYear','flowCode',f'{partner_column}Desc',f'{prefix}_rank','cmdCode','cmdDesc',f'{prefix}_sum',f'{prefix}_perc',f'{prefix}_upper_sum']\n",
    "formats = comtradetools.make_format(cols)\n",
    "suppliers_and_products=suppliers_and_products[(suppliers_and_products[f'{partner_column}Desc'].isin(top_import_partners)\n",
    "                       & (suppliers_and_products[f'{prefix}_rank']<=show_only_top))]\n",
    "\n",
    "print(\"First rows\")\n",
    "suppliers_and_products[suppliers_and_products[f'{prefix}_rank']<=show_only_top][cols].sort_values(\n",
    "    ['refYear','flowCode','partner_cmd_upper_sum',f'{prefix}_sum',f'{prefix}_rank'],\n",
    "    ascending=[True,True,False,False,False]).head(10).style.format(formats).hide(axis='index')"
   ]
  },
  {
   "cell_type": "markdown",
   "metadata": {},
   "source": [
    "Last rows"
   ]
  },
  {
   "cell_type": "code",
   "execution_count": null,
   "metadata": {},
   "outputs": [],
   "source": [
    "\n",
    "suppliers_and_products[suppliers_and_products[f'{prefix}_rank']<=show_only_top][cols].sort_values(\n",
    "    ['refYear','flowCode','partner_cmd_upper_sum',f'{prefix}_sum',f'{prefix}_rank'],\n",
    "    ascending=[True,True,False,False,False]).tail(10).style.format(formats).hide(axis='index')"
   ]
  },
  {
   "cell_type": "markdown",
   "metadata": {},
   "source": [
    "#### Export to Excel"
   ]
  },
  {
   "cell_type": "code",
   "execution_count": null,
   "metadata": {},
   "outputs": [],
   "source": [
    "filename = f'reports/{country_of_interest_name}_3.4_imports_partners_products_{clCode}-{cmdDetail}-{products_and_partners[\"refYear\"].min()}-{products_and_partners[\"refYear\"].max()}.xlsx'\n",
    "\n",
    "suppliers_and_products[suppliers_and_products[f'{prefix}_rank']<=show_only_top][cols].sort_values(\n",
    "    ['refYear','flowCode','partner_cmd_upper_sum',f'{prefix}_sum',f'{prefix}_rank'],\n",
    "    ascending=[True,True,False,False,False]).to_excel(filename, index=False)\n",
    "\n",
    "print(\"Exporting to \",filename)"
   ]
  },
  {
   "cell_type": "markdown",
   "metadata": {},
   "source": [
    "### 3.5 Get the alternative clients for country of interest suppliers"
   ]
  },
  {
   "cell_type": "markdown",
   "metadata": {},
   "source": [
    "For each year, supplier, imported commodity, fetch all the \n",
    "exports of the commodity by the supplier to other countries, and\n",
    "compute the ranking of country of interest among the clients\n",
    "of partner for that commodity.\n",
    "\n",
    "Country of interest: Angola, in 2022 Argentina was #1 supplier of Angola for commodity\n",
    "code 100119 \"Cereals; wheat and meslin, durum wheat, other than seed\"; fetch all the clients of Argentina for 100119 and compute the ranking of Angola.\n",
    "\n",
    "First step is to get the combos os partner and commodity.\n",
    "\n"
   ]
  },
  {
   "cell_type": "code",
   "execution_count": null,
   "metadata": {},
   "outputs": [],
   "source": [
    "top_import_products_codes"
   ]
  },
  {
   "cell_type": "code",
   "execution_count": null,
   "metadata": {},
   "outputs": [],
   "source": [
    "combos_of_interest = suppliers_and_products[(suppliers_and_products['cmdCode'].isin(top_import_products_codes)\n",
    "                & (suppliers_and_products[f'{partner_column}Code'].isin(top_import_partners_codes)))][[f'{partner_column}Code','cmdCode']].drop_duplicates()\n",
    "combos_of_interest = [tuple(x) for x in combos_of_interest.values]\n",
    "len(combos_of_interest)"
   ]
  },
  {
   "cell_type": "code",
   "execution_count": null,
   "metadata": {},
   "outputs": [],
   "source": [
    "# create lists of commodities codes and country codes to query comtrade\n",
    "cmdCode_list = [cmdCode for (countryCode,cmdCode) in combos_of_interest]\n",
    "cmdCode_list = list(set(cmdCode_list))\n",
    "countryCode_list = [countryCode for (countryCode,cmdCode) in combos_of_interest]\n",
    "countryCode_list = list(set(countryCode_list))\n",
    "cmdCodeCSV = ','.join(cmdCode_list)\n",
    "countryCodeCSV = ','.join(map(str,countryCode_list))"
   ]
  },
  {
   "cell_type": "markdown",
   "metadata": {},
   "source": [
    "Get the all clients of suppliers for the products imported by country of interest"
   ]
  },
  {
   "cell_type": "code",
   "execution_count": null,
   "metadata": {},
   "outputs": [],
   "source": [
    "print(\"Years of interest: \", years_of_interest)\n",
    "print(\"countryCodeCSV: \", countryCodeCSV)\n",
    "print(\"cmdCodeCSV: \", cmdCodeCSV)\n",
    "\n",
    "df = comtradetools.getFinalData(APIKEY,\n",
    "                                typeCode='C',  # commodities\n",
    "                                freqCode='A',  # annual\n",
    "                                flowCode='X',\n",
    "                                reporterCode=countryCodeCSV,\n",
    "                                partnerCode=None,\n",
    "                                remove_world=True,\n",
    "                                partner2Code=0,\n",
    "                                period=years_of_interest,\n",
    "                                period_size=1,\n",
    "                                clCode=clCode,\n",
    "                                cmdCode=cmdCodeCSV,  # Top level product types\n",
    "                                motCode=0,  # all means of transport\n",
    "                                customsCode='C00',\n",
    "                                includeDesc=True,\n",
    "                                retry_if_empty=False,\n",
    "                                cache=True,\n",
    "\n",
    "                                )"
   ]
  },
  {
   "cell_type": "markdown",
   "metadata": {},
   "source": [
    "Countries also buying top imports of country of interest from the same suppliers"
   ]
  },
  {
   "cell_type": "code",
   "execution_count": null,
   "metadata": {},
   "outputs": [],
   "source": [
    "list(df.reporterDesc.unique()), list(df.partnerDesc.unique())\n"
   ]
  },
  {
   "cell_type": "markdown",
   "metadata": {},
   "source": [
    "### Ranking of country of interest in the costumers of main suppliers\n",
    "Allows assessment of the importance of country of interest for the partners\n",
    "that are selling its main imports.\n",
    "\n",
    "It allows for restricting rank, avoiding irrelevant matchess"
   ]
  },
  {
   "cell_type": "markdown",
   "metadata": {},
   "source": [
    "For each supplier show the top costumers of the products bought by country of interest. \n",
    "\n",
    "If country of interest is not in the top five constumers, show position anyway if it is a supplier in the given year "
   ]
  },
  {
   "cell_type": "code",
   "execution_count": null,
   "metadata": {},
   "outputs": [],
   "source": [
    "import pandas as pd\n",
    "import comtradetools\n",
    "\n",
    "#  set max rows to 500\n",
    "pd.set_option('display.max_rows', 1500)\n",
    "\n",
    "\n",
    "other_costumers = comtradetools.total_rank_perc(\n",
    "                                        df,\n",
    "                                        groupby=['refYear','flowCode','reporterCode','cmdCode','partnerCode'],\n",
    "                                        col='primaryValue',\n",
    "                                        prefix='cmd_partner',\n",
    "                                        )\n",
    "\n",
    "other_costumers = other_costumers[other_costumers[['reporterCode','cmdCode']].apply(tuple,axis=1).isin(combos_of_interest)]\n",
    "cols=['reporterDesc','cmdCode','cmdDesc','refYear','partnerDesc','cmd_partner_rank','primaryValue','cmd_partner_perc','cmd_partner_upper_sum']\n",
    "formats =  comtradetools.make_format(cols)\n",
    "\n",
    "other_costumers[(other_costumers['partnerCode'] == country_of_interest)\n",
    "                | (other_costumers['cmd_partner_rank']<=show_only_top)\n",
    "                ][cols].sort_values(by=['reporterDesc','cmdCode','refYear','cmd_partner_rank']).head(20).style.format(formats).hide(axis=\"index\")"
   ]
  },
  {
   "cell_type": "code",
   "execution_count": null,
   "metadata": {},
   "outputs": [],
   "source": [
    "ignore_if_rank_is_higher = 25\n",
    "\n",
    "relevant_for_partner_exports=other_costumers[\n",
    "    (other_costumers['partnerCode'] == country_of_interest) &\n",
    "    (other_costumers['cmd_partner_rank'] < ignore_if_rank_is_higher)\n",
    "][cols].sort_values(by=['reporterDesc','cmdCode','refYear','cmd_partner_rank'])\n",
    "relevant_for_partner_exports.head(10).style.format(formats).hide(axis='index')"
   ]
  },
  {
   "cell_type": "markdown",
   "metadata": {},
   "source": [
    "#### Export to Excel\n"
   ]
  },
  {
   "cell_type": "code",
   "execution_count": null,
   "metadata": {},
   "outputs": [],
   "source": [
    "filename = filename = f'reports/{country_of_interest_name}_3.5.1_import_partners_alternative.xlsx'\n",
    "\n",
    "other_costumers[(other_costumers['partnerCode'] == country_of_interest)\n",
    "                | (other_costumers['cmd_partner_rank']<=show_only_top)\n",
    "                ][cols].sort_values(by=['reporterDesc','cmdCode','refYear','cmd_partner_rank']).to_excel(filename, index=False)\n",
    "print(\"Exporting to \",filename)"
   ]
  },
  {
   "cell_type": "code",
   "execution_count": null,
   "metadata": {},
   "outputs": [],
   "source": [
    "filename = f'reports/{country_of_interest_name}_3.5.2_import_partners_alternative_relevant.xlsx'\n",
    "\n",
    "relevant_for_partner_exports.to_excel(filename, index=False)\n",
    "print(\"Exporting to \",filename)"
   ]
  },
  {
   "cell_type": "code",
   "execution_count": null,
   "metadata": {},
   "outputs": [],
   "source": [
    "from datetime import datetime\n",
    "\n",
    "current_datetime = datetime.now()\n",
    "print(f\"Note run for {country_of_interest_name}:\", current_datetime)"
   ]
  }
 ],
 "metadata": {
  "kernelspec": {
   "display_name": "venv",
   "language": "python",
   "name": "python3"
  },
  "language_info": {
   "codemirror_mode": {
    "name": "ipython",
    "version": 3
   },
   "file_extension": ".py",
   "mimetype": "text/x-python",
   "name": "python",
   "nbconvert_exporter": "python",
   "pygments_lexer": "ipython3",
   "version": "3.10.4"
  },
  "orig_nbformat": 4
 },
 "nbformat": 4,
 "nbformat_minor": 2
}
