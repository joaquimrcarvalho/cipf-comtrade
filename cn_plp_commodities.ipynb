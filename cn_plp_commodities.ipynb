{
  "cells": [
    {
      "attachments": {},
      "cell_type": "markdown",
      "metadata": {
        "id": "EIsWHv1Wco1c"
      },
      "source": [
        "# Análise dos produtos comercializados"
      ]
    },
    {
      "cell_type": "markdown",
      "metadata": {
        "id": "a2Id-p27crD5"
      },
      "source": [
        "## Criar directoria de apoio "
      ]
    },
    {
      "cell_type": "code",
      "execution_count": 1,
      "metadata": {
        "id": "sVi2A8-qcxaI"
      },
      "outputs": [],
      "source": [
        "from pathlib import Path\n",
        "\n",
        "Path('support').mkdir(parents=True, exist_ok=True)\n",
        "Path('downloads').mkdir(parents=True, exist_ok=True)"
      ]
    },
    {
      "cell_type": "markdown",
      "metadata": {},
      "source": [
        "## Criar ficheiro de configuração se não existir\n",
        "\n",
        "O ficheiro de configuração serve para armazenar\n",
        "a APIKEY que dá acesso a mais de 500 linhas de\n",
        "resultados.\n"
      ]
    },
    {
      "cell_type": "code",
      "execution_count": 2,
      "metadata": {},
      "outputs": [],
      "source": [
        "import os\n",
        "\n",
        "fname = 'config.ini'\n",
        "content = \"\"\"\n",
        "# Ficheiro de configuração\n",
        "[comtrade]\n",
        "# Add API Key. DO NOT SHARE\n",
        "key = APIKEYHERE\n",
        "\"\"\"\n",
        "if not os.path.isfile(fname):\n",
        "  print(\"Criando ficheiro de configuração\")\n",
        "  with open(fname,'w') as f:\n",
        "    f.write(content)\n"
      ]
    },
    {
      "attachments": {},
      "cell_type": "markdown",
      "metadata": {},
      "source": [
        "## Obter uma chave de acesso à API\n",
        "\n",
        "Para aceder à UN Comtrade via API sem limites é necessário uma chave de acesso,\n",
        "de outro modo os resultados são limitados a 500 linhas.\n",
        "\n",
        "Para obter a chave de acsso:\n",
        "* Registo em https://comtradedeveloper.un.org/\n",
        "* Ir para _Products_ \n",
        "* Selecionar \"Premium Individual APIs\" (https://comtradedeveloper.un.org/product#product=dataapis)\n",
        "* Escolher _Subscribe to \"comtrade - v1\"_  \n",
        "* Esperar pelo email com a chave da API key (demora alguns dias)\n",
        "* Copiar a chave para o local indicado no ficheiro `config.ini` antes\n",
        "  de executar o resto do notebook.\n"
      ]
    },
    {
      "cell_type": "code",
      "execution_count": 3,
      "metadata": {},
      "outputs": [],
      "source": [
        "import configparser\n",
        "import comtrade\n",
        "\n",
        "if os.path.isfile(fname):\n",
        "\n",
        "    config = configparser.ConfigParser()\n",
        "    config.read('config.ini')\n",
        "    APIKEY = config['comtrade']['key']\n",
        "\n",
        "comtrade.init(APIKEY)"
      ]
    },
    {
      "cell_type": "markdown",
      "metadata": {
        "id": "0W_T6_ccco1h"
      },
      "source": [
        "## Parâmetros gerais que não mudam\n",
        "\n"
      ]
    },
    {
      "cell_type": "code",
      "execution_count": 4,
      "metadata": {
        "id": "6tAP0Mnbco1h"
      },
      "outputs": [],
      "source": [
        "m49_angola = 24\n",
        "m49_brazil = 76\n",
        "m49_cabo_verde = 132\n",
        "m49_china = 156\n",
        "m49_hong_kong = 344\n",
        "m49_macau = 446\n",
        "m49_guine_equatorial = 226\n",
        "m49_guine_bissau = 624\n",
        "m49_mozambique = 508\n",
        "m49_portugal = 620\n",
        "m49_stome_principe = 678\n",
        "m49_timor = 626\n",
        "\n",
        "# make list of Portuguese Speaking Countries\n",
        "m49_plp = [m49_angola,m49_brazil,m49_cabo_verde,m49_guine_bissau,\n",
        "            m49_guine_equatorial,m49_mozambique,m49_portugal,\n",
        "            m49_stome_principe,m49_timor]\n",
        "m49_plp_list = \",\".join(map(str,m49_plp))\n",
        "\n",
        "\n"
      ]
    },
    {
      "cell_type": "markdown",
      "metadata": {
        "id": "1EhgkH9Yco1u"
      },
      "source": [
        "## China, categorias de produtos mais importantes nas trocas com os PLP\n",
        "\n",
        "Obtem os totais agregados com nível 2 de código HS e lista os primeiros"
      ]
    },
    {
      "cell_type": "code",
      "execution_count": 5,
      "metadata": {
        "id": "M-nx7vbNco1u",
        "outputId": "bde7ea90-970b-4e7a-c0b2-d8bba9d8f49e"
      },
      "outputs": [
        {
          "name": "stdout",
          "output_type": "stream",
          "text": [
            "Categorias de produtos envolvidas: ['27' '64' '07' '85' '62' '34' '44' '73' '39' '63' '03' '25' '88' '52'\n",
            " '16' '83' '87' '84' '71' '20' '90' '40' '72' '74' '76' '94' '68' '22'\n",
            " '01' '26' '12' '47' '29' '24' '15' '54' '41' '17' '02' '89' '61' '82'\n",
            " '95' '55' '10' '70' '60' '09' '69' '99' '92' '49' '38' '30' '58' '48'\n",
            " '65' '97' '33' '56' '08' '04' '21' '96' '28' '31' '86' '42' '45' '91'\n",
            " '32' '06' '14' '78']\n",
            "Trocas Comerciais China-PLP, top 5 produtos (M=Importações, X=Exportações), 2000,2001,2002,2003,2004,2005,2006,2007,2008,2009,2010,2011,2012,2013,2014,2015,2016,2017,2018,2019,2020,2021, valores USD\n",
            "Guardado em: ./downloads/china_plp_top5_2000_2001_2002_2003_2004_2005_2006_2007_2008_2009_2010_2011_2012_2013_2014_2015_2016_2017_2018_2019_2020_2021_M_X.xlsx\n"
          ]
        },
        {
          "data": {
            "text/html": [
              "<div>\n",
              "<style scoped>\n",
              "    .dataframe tbody tr th:only-of-type {\n",
              "        vertical-align: middle;\n",
              "    }\n",
              "\n",
              "    .dataframe tbody tr th {\n",
              "        vertical-align: top;\n",
              "    }\n",
              "\n",
              "    .dataframe thead th {\n",
              "        text-align: right;\n",
              "    }\n",
              "</style>\n",
              "<table border=\"1\" class=\"dataframe\">\n",
              "  <thead>\n",
              "    <tr style=\"text-align: right;\">\n",
              "      <th></th>\n",
              "      <th></th>\n",
              "      <th></th>\n",
              "      <th></th>\n",
              "      <th></th>\n",
              "      <th>cmdCode</th>\n",
              "      <th>cmdDesc</th>\n",
              "      <th>primaryValue</th>\n",
              "    </tr>\n",
              "    <tr>\n",
              "      <th>reporterDesc</th>\n",
              "      <th>partnerDesc</th>\n",
              "      <th>refYear</th>\n",
              "      <th>flowCode</th>\n",
              "      <th>rank</th>\n",
              "      <th></th>\n",
              "      <th></th>\n",
              "      <th></th>\n",
              "    </tr>\n",
              "  </thead>\n",
              "  <tbody>\n",
              "    <tr>\n",
              "      <th rowspan=\"11\" valign=\"top\">China</th>\n",
              "      <th rowspan=\"5\" valign=\"top\">Angola</th>\n",
              "      <th rowspan=\"5\" valign=\"top\">2000</th>\n",
              "      <th rowspan=\"5\" valign=\"top\">M</th>\n",
              "      <th>1</th>\n",
              "      <td>27</td>\n",
              "      <td>Mineral fuels, mineral oils and products of their distillation; bituminous substances; mineral w...</td>\n",
              "      <td>1,842,016,530.00</td>\n",
              "    </tr>\n",
              "    <tr>\n",
              "      <th>2</th>\n",
              "      <td>44</td>\n",
              "      <td>Wood and articles of wood; wood charcoal</td>\n",
              "      <td>671,664.00</td>\n",
              "    </tr>\n",
              "    <tr>\n",
              "      <th>3</th>\n",
              "      <td>73</td>\n",
              "      <td>Iron or steel articles</td>\n",
              "      <td>4,055.00</td>\n",
              "    </tr>\n",
              "    <tr>\n",
              "      <th>4</th>\n",
              "      <td>39</td>\n",
              "      <td>Plastics and articles thereof</td>\n",
              "      <td>600.00</td>\n",
              "    </tr>\n",
              "    <tr>\n",
              "      <th>5</th>\n",
              "      <td>85</td>\n",
              "      <td>Electrical machinery and equipment and parts thereof; sound recorders and reproducers; televisio...</td>\n",
              "      <td>82.00</td>\n",
              "    </tr>\n",
              "    <tr>\n",
              "      <th>...</th>\n",
              "      <th>...</th>\n",
              "      <th>...</th>\n",
              "      <th>...</th>\n",
              "      <td>...</td>\n",
              "      <td>...</td>\n",
              "      <td>...</td>\n",
              "    </tr>\n",
              "    <tr>\n",
              "      <th rowspan=\"5\" valign=\"top\">Timor-Leste</th>\n",
              "      <th rowspan=\"5\" valign=\"top\">2021</th>\n",
              "      <th rowspan=\"5\" valign=\"top\">X</th>\n",
              "      <th>1</th>\n",
              "      <td>73</td>\n",
              "      <td>Iron or steel articles</td>\n",
              "      <td>46,230,023.00</td>\n",
              "    </tr>\n",
              "    <tr>\n",
              "      <th>2</th>\n",
              "      <td>72</td>\n",
              "      <td>Iron and steel</td>\n",
              "      <td>22,874,181.00</td>\n",
              "    </tr>\n",
              "    <tr>\n",
              "      <th>3</th>\n",
              "      <td>39</td>\n",
              "      <td>Plastics and articles thereof</td>\n",
              "      <td>17,001,590.00</td>\n",
              "    </tr>\n",
              "    <tr>\n",
              "      <th>4</th>\n",
              "      <td>85</td>\n",
              "      <td>Electrical machinery and equipment and parts thereof; sound recorders and reproducers; televisio...</td>\n",
              "      <td>16,813,847.00</td>\n",
              "    </tr>\n",
              "    <tr>\n",
              "      <th>5</th>\n",
              "      <td>27</td>\n",
              "      <td>Mineral fuels, mineral oils and products of their distillation; bituminous substances; mineral w...</td>\n",
              "      <td>16,094,958.00</td>\n",
              "    </tr>\n",
              "  </tbody>\n",
              "</table>\n",
              "<p>1733 rows × 3 columns</p>\n",
              "</div>"
            ],
            "text/plain": [
              "                                               cmdCode  \\\n",
              "reporterDesc partnerDesc refYear flowCode rank           \n",
              "China        Angola      2000    M        1         27   \n",
              "                                          2         44   \n",
              "                                          3         73   \n",
              "                                          4         39   \n",
              "                                          5         85   \n",
              "...                                                ...   \n",
              "             Timor-Leste 2021    X        1         73   \n",
              "                                          2         72   \n",
              "                                          3         39   \n",
              "                                          4         85   \n",
              "                                          5         27   \n",
              "\n",
              "                                                                                                                                            cmdDesc  \\\n",
              "reporterDesc partnerDesc refYear flowCode rank                                                                                                        \n",
              "China        Angola      2000    M        1     Mineral fuels, mineral oils and products of their distillation; bituminous substances; mineral w...   \n",
              "                                          2                                                                Wood and articles of wood; wood charcoal   \n",
              "                                          3                                                                                  Iron or steel articles   \n",
              "                                          4                                                                           Plastics and articles thereof   \n",
              "                                          5     Electrical machinery and equipment and parts thereof; sound recorders and reproducers; televisio...   \n",
              "...                                                                                                                                             ...   \n",
              "             Timor-Leste 2021    X        1                                                                                  Iron or steel articles   \n",
              "                                          2                                                                                          Iron and steel   \n",
              "                                          3                                                                           Plastics and articles thereof   \n",
              "                                          4     Electrical machinery and equipment and parts thereof; sound recorders and reproducers; televisio...   \n",
              "                                          5     Mineral fuels, mineral oils and products of their distillation; bituminous substances; mineral w...   \n",
              "\n",
              "                                                   primaryValue  \n",
              "reporterDesc partnerDesc refYear flowCode rank                   \n",
              "China        Angola      2000    M        1    1,842,016,530.00  \n",
              "                                          2          671,664.00  \n",
              "                                          3            4,055.00  \n",
              "                                          4              600.00  \n",
              "                                          5               82.00  \n",
              "...                                                         ...  \n",
              "             Timor-Leste 2021    X        1       46,230,023.00  \n",
              "                                          2       22,874,181.00  \n",
              "                                          3       17,001,590.00  \n",
              "                                          4       16,813,847.00  \n",
              "                                          5       16,094,958.00  \n",
              "\n",
              "[1733 rows x 3 columns]"
            ]
          },
          "execution_count": 5,
          "metadata": {},
          "output_type": "execute_result"
        }
      ],
      "source": [
        "import comtrade\n",
        "import pandas as pd\n",
        "\n",
        "\n",
        "rank_filter = 5  # número de importações mais relevantes\n",
        "years = \"2000,2001,2002,2003,2004,2005,2006,2007,2008,2009,2010,2011,2012,2013,2014,2015,2016,2017,2018,2019,2020,2021\"\n",
        "flowCode = 'M,X'\n",
        "pco_cols = ['reporterDesc','partnerDesc','refYear','rank','cmdCode','cmdDesc',\n",
        "            'flowCode','primaryValue']\n",
        "df = comtrade.get_data(\"C\",# C for commodities, S for Services\n",
        "                     \"A\",# (freqCode) A for annual and M for monthly\n",
        "                     flowCode=flowCode,\n",
        "                     cmdCode=\"AG2\",\n",
        "                     reporterCode=m49_china,\n",
        "                     partnerCode=m49_plp_list,\n",
        "                     period=years,\n",
        "                     timeout=120\n",
        "                     )\n",
        "\n",
        "pco = df.sort_values(['partnerDesc','refYear','primaryValue'], ascending=[True,True,False])\n",
        "pco['rank'] = pco.groupby(['partnerDesc','refYear','flowCode'])[\"primaryValue\"].rank(method=\"dense\", ascending=False)\n",
        "# convert rank column to int\n",
        "pco['rank'] = pco['rank'].astype(int)\n",
        "\n",
        "pco_top5 = pco[pco['rank'] <= rank_filter]\n",
        "cmdCodes_top5 = pco_top5['cmdCode'].unique()\n",
        "print(f\"Categorias de produtos envolvidas: {cmdCodes_top5}\")\n",
        "# save to Excel\n",
        "pco_top5_sorted = pco_top5[pco_cols].set_index(['reporterDesc','partnerDesc','refYear','flowCode','rank']).sort_index()\n",
        "\n",
        "# Prepare file name for Excel output\n",
        "filename_note=f\"{years.replace(',','_')}_{flowCode.replace(',','_')}\"  # change to append to filename\n",
        "excel_file_name = f\"./downloads/china_plp_top5_{filename_note}.xlsx\"\n",
        "excel_file = pd.ExcelWriter(excel_file_name)\n",
        "# Save data\n",
        "pco_top5_sorted.to_excel(excel_file, sheet_name=\"comtrade\", startrow=2)\n",
        "excel_file.close()\n",
        "# Write title in first row TBD\n",
        "excel_file_title = f\"Trocas Comerciais China-PLP, top {rank_filter} produtos (M=Importações, X=Exportações), {years}, valores USD\"\n",
        "print(excel_file_title)\n",
        "print(\"Guardado em:\",excel_file_name)\n",
        "\n",
        "# show\n",
        "pd.options.display.max_colwidth=100\n",
        "pd.options.display.float_format = '{:,.2f}'.format\n",
        "pd.options.display.max_rows = 100\n",
        "pco_top5_sorted"
      ]
    },
    {
      "attachments": {},
      "cell_type": "markdown",
      "metadata": {
        "id": "wECQw_IYco1v"
      },
      "source": [
        "## Detalhe do tipo de produtos comercializados entre os PLP e a China\n",
        "\n",
        "Em dois passos: \n",
        "* obtém as categorias de nível 2 mais importantes de cada país\n",
        "* pesquisa todos as subcategorias de cada um das categorias"
      ]
    },
    {
      "cell_type": "code",
      "execution_count": 6,
      "metadata": {},
      "outputs": [],
      "source": [
        "\n",
        "import ipywidgets as widgets\n",
        "from IPython.display import display\n",
        "\n",
        "rank_filter = 5  # número de importações mais relevantes\n",
        "years = \"2021\"\n",
        "partnerCode = m49_angola # \n",
        "flowCode=\"M\"\n",
        "\n",
        "# select year with widget from list range(2000,2022)\n",
        "\n",
        "years = widgets.SelectMultiple(\n",
        "    options=range(2000,2022),\n",
        "    value=[2021],\n",
        "    description='Ano:',\n",
        "    disabled=False,\n",
        ")\n",
        "\n",
        "# select country widget from list Angola, Brazil, Cabo Verde, Guiné Bissau, Equatorial Guinea, Mozambique, Portugal, São Tomé e Príncipe, Timor-Leste\n",
        "partnerCodeWidget = widgets.Dropdown(\n",
        "    options=[(\"Angola\", m49_angola), (\"Brazil\", m49_brazil), (\"Cabo Verde\", m49_cabo_verde), (\"Guiné Bissau\", m49_guine_bissau), (\"Guiné Equatorial\", m49_guine_equatorial), (\"Mozambique\", m49_mozambique), (\"Portugal\", m49_portugal), (\"São Tomé e Príncipe\", m49_stome_principe), (\"Timor-Leste\", m49_timor)],\n",
        "    # value=[(\"Angola\",m49_angola)],\n",
        "    description='País:',\n",
        "    disabled=False,\n",
        ")\n",
        "\n",
        "# select flowCode widget from list M=Importações, X=Exportações\n",
        "flowCodeWidget = widgets.Dropdown(\n",
        "    options=[(\"Importações\", \"M\"), (\"Exportações\", \"X\")],\n",
        "    value=\"M\",\n",
        "    description='Tipo:',\n",
        "    disabled=False, \n",
        ")\n",
        "\n"
      ]
    },
    {
      "attachments": {},
      "cell_type": "markdown",
      "metadata": {},
      "source": [
        "### Escolher ano, parceiro e fluxo (import/export) para análise \n",
        "\n",
        "Pode escolher-se mais que um ano."
      ]
    },
    {
      "cell_type": "code",
      "execution_count": 22,
      "metadata": {},
      "outputs": [
        {
          "data": {
            "application/vnd.jupyter.widget-view+json": {
              "model_id": "20c3cfa8c97a42969a6b4c1819b21f8e",
              "version_major": 2,
              "version_minor": 0
            },
            "text/plain": [
              "SelectMultiple(description='Ano:', index=(21,), options=(2000, 2001, 2002, 2003, 2004, 2005, 2006, 2007, 2008,…"
            ]
          },
          "metadata": {},
          "output_type": "display_data"
        },
        {
          "data": {
            "application/vnd.jupyter.widget-view+json": {
              "model_id": "f58f0d18c1eb428ab52d1a228e7d946b",
              "version_major": 2,
              "version_minor": 0
            },
            "text/plain": [
              "Dropdown(description='País:', index=8, options=(('Angola', 24), ('Brazil', 76), ('Cabo Verde', 132), ('Guiné B…"
            ]
          },
          "metadata": {},
          "output_type": "display_data"
        },
        {
          "data": {
            "application/vnd.jupyter.widget-view+json": {
              "model_id": "c3f44fc0e3c5488aba00f7479f24d828",
              "version_major": 2,
              "version_minor": 0
            },
            "text/plain": [
              "Dropdown(description='Tipo:', options=(('Importações', 'M'), ('Exportações', 'X')), value='M')"
            ]
          },
          "metadata": {},
          "output_type": "display_data"
        }
      ],
      "source": [
        "\n",
        "display(years)\n",
        "display(partnerCodeWidget)\n",
        "display(flowCodeWidget)\n"
      ]
    },
    {
      "attachments": {},
      "cell_type": "markdown",
      "metadata": {},
      "source": [
        "Depois de escolher ano, país e fluxo executar a célula seguinte"
      ]
    },
    {
      "cell_type": "code",
      "execution_count": 23,
      "metadata": {
        "id": "hOi-P7oVco1v",
        "outputId": "6f324262-d9c4-46f9-8ca9-4f8b417fce98"
      },
      "outputs": [
        {
          "name": "stdout",
          "output_type": "stream",
          "text": [
            "2021 Timor-Leste M\n",
            "https://comtradeapi.un.org/data/v1/get//C/A/HS?reporterCode=156&period=2021&partnerCode=626&partner2Code=0&cmdCode=AG2&flowCode=M&customsCode=C00&subscription-key=HIDDEN\n",
            "Timor-Leste ['27' '09' '14' '85' '44']\n",
            "27,2701,270111,270112,270119,270120,2702,270210,270220,2703,270300,2704,270400,2705,270500,2706,270600,2707,270710,270720,270730,270740,270750,270791,270799,2708,270810,270820,2709,270900,2710,271012,271019,271020,271091,271099,2711,271111,271112,271113,271114,271119,271121,271129,2712,271210,271220,271290,2713,271311,271312,271320,271390,2714,271410,271490,2715,271500,2716,271600,09,0901,090111,090112,090121,090122,090190,0902,090210,090220,090230,090240,0903,090300,0904,090411,090412,090421,090422,0905,090510,090520,0906,090611,090619,090620,0907,090710,090720,0908,090811,090812,090821,090822,090831,090832,0909,090921,090922,090931,090932,090961,090962,0910,091011,091012,091020,091030,091091,091099,14,1401,140110,140120,140190,1404,140420,140490,85,8501,850110,850120,850131,850132,850133,850134,850140,850151,850152,850153,850161,850162,850163,850164,850171,850172,850180,8502,850211,850212,850213,850220,850231,850239,850240,8503,850300,8504,850410,850421,850422,850423,850431,850432,850433,850434,850440,850450,850490,8505,850511,850519,850520,850590,8506,850610,850630,850640,850650,850660,850680,850690,8507,850710,850720,850730,850750,850760,850780,850790,8508,850811,850819,850860,850870,8509,850940,850980,850990,8510,851010,851020,851030,851090,8511,851110,851120,851130,851140,851150,851180,851190,8512,851210,851220,851230,851240,851290,8513,851310,851390,8514,851411,851419,851420,851431,851432,851439,851440,851490,8515,851511,851519,851521,851529,851531,851539,851580,851590,8516,851610,851621,851629,851631,851632,851633,851640,851650,851660,851671,851672,851679,851680,851690,8517,851711,851713,851714,851718,851761,851762,851769,851771,851779,8518,851810,851821,851822,851829,851830,851840,851850,851890,8519,851920,851930,851981,851989,8521,852110,852190,8522,852210,852290,8523,852321,852329,852341,852349,852351,852352,852359,852380,8524,852411,852412,852419,852491,852492,852499,8525,852550,852560,852581,852582,852583,852589,8526,852610,852691,852692,8527,852712,852713,852719,852721,852729,852791,852792,852799,8528,852842,852849,852852,852859,852862,852869,852871,852872,852873,8529,852910,852990,8530,853010,853080,853090,8531,853110,853120,853180,853190,8532,853210,853221,853222,853223,853224,853225,853229,853230,853290,8533,853310,853321,853329,853331,853339,853340,853390,8534,853400,8535,853510,853521,853529,853530,853540,853590,8536,853610,853620,853630,853641,853649,853650,853661,853669,853670,853690,8537,853710,853720,8538,853810,853890,8539,853910,853921,853922,853929,853931,853932,853939,853941,853949,853951,853952,853990,8540,854011,854012,854020,854040,854060,854071,854079,854081,854089,854091,854099,8541,854110,854121,854129,854130,854141,854142,854143,854149,854151,854159,854160,854190,8542,854231,854232,854233,854239,854290,8543,854310,854320,854330,854340,854370,854390,8544,854411,854419,854420,854430,854442,854449,854460,854470,8545,854511,854519,854520,854590,8546,854610,854620,854690,8547,854710,854720,854790,8548,854800,8549,854911,854912,854913,854914,854919,854921,854929,854931,854939,854991,854999,44,4401,440111,440112,440121,440122,440131,440132,440139,440141,440149,4402,440210,440220,440290,4403,440311,440312,440321,440322,440323,440324,440325,440326,440341,440342,440349,440391,440393,440394,440395,440396,440397,440398,440399,4404,440410,440420,4405,440500,4406,440611,440612,440691,440692,4407,440711,440712,440713,440714,440719,440721,440722,440723,440725,440726,440727,440728,440729,440791,440792,440793,440794,440795,440796,440797,440799,4408,440810,440831,440839,440890,4409,440910,440921,440922,440929,4410,441011,441012,441019,441090,4411,441112,441113,441114,441192,441193,441194,4412,441210,441231,441233,441234,441239,441241,441242,441249,441251,441252,441259,441291,441292,441299,4413,441300,4414,441410,441490,4415,441510,441520,4416,441600,4417,441700,4418,441811,441819,441821,441829,441830,441840,441850,441873,441874,441875,441879,441881,441882,441883,441889,441891,441892,441899,4419,441911,441912,441919,441920,441990,4420,442011,442019,442090,4421,442110,442120,442191,442199\n",
            "https://comtradeapi.un.org/data/v1/get//C/A/HS?reporterCode=156&period=2021&partnerCode=626&partner2Code=0&cmdCode=27%2C2701%2C270111%2C270112%2C270119%2C270120%2C2702%2C270210%2C270220%2C2703%2C270300%2C2704%2C270400%2C2705%2C270500%2C2706%2C270600%2C2707%2C270710%2C270720%2C270730%2C270740%2C270750%2C270791%2C270799%2C2708%2C270810%2C270820%2C2709%2C270900%2C2710%2C271012%2C271019%2C271020%2C271091%2C271099%2C2711%2C271111%2C271112%2C271113%2C271114%2C271119%2C271121%2C271129%2C2712%2C271210%2C271220%2C271290%2C2713%2C271311%2C271312%2C271320%2C271390%2C2714%2C271410%2C271490%2C2715%2C271500%2C2716%2C271600%2C09%2C0901%2C090111%2C090112%2C090121%2C090122%2C090190%2C0902%2C090210%2C090220%2C090230%2C090240%2C0903%2C090300%2C0904%2C090411%2C090412%2C090421%2C090422%2C0905%2C090510%2C090520%2C0906%2C090611%2C090619%2C090620%2C0907%2C090710%2C090720%2C0908%2C090811%2C090812%2C090821%2C090822%2C090831%2C090832%2C0909%2C090921%2C090922%2C090931%2C090932%2C090961%2C090962%2C0910%2C091011%2C091012%2C091020%2C091030%2C091091%2C091099%2C14%2C1401%2C140110%2C140120%2C140190%2C1404%2C140420%2C140490%2C85%2C8501%2C850110%2C850120%2C850131%2C850132%2C850133%2C850134%2C850140%2C850151%2C850152%2C850153%2C850161%2C850162%2C850163%2C850164%2C850171%2C850172%2C850180%2C8502%2C850211%2C850212%2C850213%2C850220%2C850231%2C850239%2C850240%2C8503%2C850300%2C8504%2C850410%2C850421%2C850422%2C850423%2C850431%2C850432%2C850433%2C850434%2C850440%2C850450%2C850490%2C8505%2C850511%2C850519%2C850520%2C850590%2C8506%2C850610%2C850630%2C850640%2C850650%2C850660%2C850680%2C850690%2C8507%2C850710%2C850720%2C850730%2C850750%2C850760%2C850780%2C850790%2C8508%2C850811%2C850819%2C850860%2C850870%2C8509%2C850940%2C850980%2C850990%2C8510%2C851010%2C851020%2C851030%2C851090%2C8511%2C851110%2C851120%2C851130%2C851140%2C851150%2C851180%2C851190%2C8512%2C851210%2C851220%2C851230%2C851240%2C851290%2C8513%2C851310%2C851390%2C8514%2C851411%2C851419%2C851420%2C851431%2C851432%2C851439%2C851440%2C851490%2C8515%2C851511%2C851519%2C851521%2C851529%2C851531%2C851539%2C851580%2C851590%2C8516%2C851610%2C851621%2C851629%2C851631%2C851632%2C851633%2C851640%2C851650%2C851660%2C851671%2C851672%2C851679%2C851680%2C851690%2C8517%2C851711%2C851713%2C851714%2C851718%2C851761%2C851762%2C851769%2C851771%2C851779%2C8518%2C851810%2C851821%2C851822%2C851829%2C851830%2C851840%2C851850%2C851890%2C8519%2C851920%2C851930%2C851981%2C851989%2C8521%2C852110%2C852190%2C8522%2C852210%2C852290%2C8523%2C852321%2C852329%2C852341%2C852349%2C852351%2C852352%2C852359%2C852380%2C8524%2C852411%2C852412%2C852419%2C852491%2C852492%2C852499%2C8525%2C852550%2C852560%2C852581%2C852582%2C852583%2C852589%2C8526%2C852610%2C852691%2C852692%2C8527%2C852712%2C852713%2C852719%2C852721%2C852729%2C852791%2C852792%2C852799%2C8528%2C852842%2C852849%2C852852%2C852859%2C852862%2C852869%2C852871%2C852872%2C852873%2C8529%2C852910%2C852990%2C8530%2C853010%2C853080%2C853090%2C8531%2C853110%2C853120%2C853180%2C853190%2C8532%2C853210%2C853221%2C853222%2C853223%2C853224%2C853225%2C853229%2C853230%2C853290%2C8533%2C853310%2C853321%2C853329%2C853331%2C853339%2C853340%2C853390%2C8534%2C853400%2C8535%2C853510%2C853521%2C853529%2C853530%2C853540%2C853590%2C8536%2C853610%2C853620%2C853630%2C853641%2C853649%2C853650%2C853661%2C853669%2C853670%2C853690%2C8537%2C853710%2C853720%2C8538%2C853810%2C853890%2C8539%2C853910%2C853921%2C853922%2C853929%2C853931%2C853932%2C853939%2C853941%2C853949%2C853951%2C853952%2C853990%2C8540%2C854011%2C854012%2C854020%2C854040%2C854060%2C854071%2C854079%2C854081%2C854089%2C854091%2C854099%2C8541%2C854110%2C854121%2C854129%2C854130%2C854141%2C854142%2C854143%2C854149%2C854151%2C854159%2C854160%2C854190%2C8542%2C854231%2C854232%2C854233%2C854239%2C854290%2C8543%2C854310%2C854320%2C854330%2C854340%2C854370%2C854390%2C8544%2C854411%2C854419%2C854420%2C854430%2C854442%2C854449%2C854460%2C854470%2C8545%2C854511%2C854519%2C854520%2C854590%2C8546%2C854610%2C854620%2C854690%2C8547%2C854710%2C854720%2C854790%2C8548%2C854800%2C8549%2C854911%2C854912%2C854913%2C854914%2C854919%2C854921%2C854929%2C854931%2C854939%2C854991%2C854999%2C44%2C4401%2C440111%2C440112%2C440121%2C440122%2C440131%2C440132%2C440139%2C440141%2C440149%2C4402%2C440210%2C440220%2C440290%2C4403%2C440311%2C440312%2C440321%2C440322%2C440323%2C440324%2C440325%2C440326%2C440341%2C440342%2C440349%2C440391%2C440393%2C440394%2C440395%2C440396%2C440397%2C440398%2C440399%2C4404%2C440410%2C440420%2C4405%2C440500%2C4406%2C440611%2C440612%2C440691%2C440692%2C4407%2C440711%2C440712%2C440713%2C440714%2C440719%2C440721%2C440722%2C440723%2C440725%2C440726%2C440727%2C440728%2C440729%2C440791%2C440792%2C440793%2C440794%2C440795%2C440796%2C440797%2C440799%2C4408%2C440810%2C440831%2C440839%2C440890%2C4409%2C440910%2C440921%2C440922%2C440929%2C4410%2C441011%2C441012%2C441019%2C441090%2C4411%2C441112%2C441113%2C441114%2C441192%2C441193%2C441194%2C4412%2C441210%2C441231%2C441233%2C441234%2C441239%2C441241%2C441242%2C441249%2C441251%2C441252%2C441259%2C441291%2C441292%2C441299%2C4413%2C441300%2C4414%2C441410%2C441490%2C4415%2C441510%2C441520%2C4416%2C441600%2C4417%2C441700%2C4418%2C441811%2C441819%2C441821%2C441829%2C441830%2C441840%2C441850%2C441873%2C441874%2C441875%2C441879%2C441881%2C441882%2C441883%2C441889%2C441891%2C441892%2C441899%2C4419%2C441911%2C441912%2C441919%2C441920%2C441990%2C4420%2C442011%2C442019%2C442090%2C4421%2C442110%2C442120%2C442191%2C442199&flowCode=M&customsCode=C00&subscription-key=HIDDEN\n"
          ]
        },
        {
          "name": "stderr",
          "output_type": "stream",
          "text": [
            "/workspaces/cipf-comtrade/comtrade.py:229: UserWarning: Server returned HTTP Status: 404\n",
            "  warnings.warn(f\"Server returned HTTP Status: \"+str(resp.status_code),)\n",
            "/workspaces/cipf-comtrade/comtrade.py:230: UserWarning: b'The resource you are looking for has been removed, had its name changed, or is temporarily unavailable.'\n",
            "  warnings.warn(str(resp.content))\n"
          ]
        },
        {
          "ename": "TypeError",
          "evalue": "'NoneType' object is not subscriptable",
          "output_type": "error",
          "traceback": [
            "\u001b[0;31m---------------------------------------------------------------------------\u001b[0m",
            "\u001b[0;31mTypeError\u001b[0m                                 Traceback (most recent call last)",
            "Cell \u001b[0;32mIn [23], line 67\u001b[0m\n\u001b[1;32m     54\u001b[0m \u001b[39mprint\u001b[39m(country_cmd_codes)\n\u001b[1;32m     56\u001b[0m df \u001b[39m=\u001b[39m comtrade\u001b[39m.\u001b[39mget_data(\u001b[39m\"\u001b[39m\u001b[39mC\u001b[39m\u001b[39m\"\u001b[39m,\u001b[39m# C for commodities, S for Services\u001b[39;00m\n\u001b[1;32m     57\u001b[0m                      \u001b[39m\"\u001b[39m\u001b[39mA\u001b[39m\u001b[39m\"\u001b[39m,\u001b[39m# (freqCode) A for annual and M for monthly\u001b[39;00m\n\u001b[1;32m     58\u001b[0m                      flowCode\u001b[39m=\u001b[39mflow,\n\u001b[0;32m   (...)\u001b[0m\n\u001b[1;32m     65\u001b[0m                      timeout\u001b[39m=\u001b[39m\u001b[39m60\u001b[39m\n\u001b[1;32m     66\u001b[0m                      )\n\u001b[0;32m---> 67\u001b[0m df[pco_cols_detail]\u001b[39m.\u001b[39msort_values(\u001b[39m'\u001b[39m\u001b[39mprimaryValue\u001b[39m\u001b[39m'\u001b[39m,ascending\u001b[39m=\u001b[39m\u001b[39mFalse\u001b[39;00m)\u001b[39m.\u001b[39mto_excel(\u001b[39mf\u001b[39m\u001b[39m\"\u001b[39m\u001b[39m./downloads/china_plp_\u001b[39m\u001b[39m{\u001b[39;00myearsList\u001b[39m}\u001b[39;00m\u001b[39m_\u001b[39m\u001b[39m{\u001b[39;00mflowCode\u001b[39m}\u001b[39;00m\u001b[39m_detail_\u001b[39m\u001b[39m{\u001b[39;00mcountryDesc\u001b[39m}\u001b[39;00m\u001b[39m.xlsx\u001b[39m\u001b[39m\"\u001b[39m)\n\u001b[1;32m     68\u001b[0m \u001b[39mprint\u001b[39m(\u001b[39m\"\u001b[39m\u001b[39mMostrando o top 100 geral\u001b[39m\u001b[39m\"\u001b[39m)\n\u001b[1;32m     69\u001b[0m df[df\u001b[39m.\u001b[39misAggregate \u001b[39m==\u001b[39m \u001b[39mFalse\u001b[39;00m][pco_cols_detail]\u001b[39m.\u001b[39msort_values(\u001b[39m'\u001b[39m\u001b[39mprimaryValue\u001b[39m\u001b[39m'\u001b[39m,ascending\u001b[39m=\u001b[39m\u001b[39mFalse\u001b[39;00m)\u001b[39m.\u001b[39mhead(\u001b[39m100\u001b[39m)\n",
            "\u001b[0;31mTypeError\u001b[0m: 'NoneType' object is not subscriptable"
          ]
        }
      ],
      "source": [
        "import comtrade\n",
        "from comtrade import COUNTRY_CODES, HS_CODES, HS_CODES_DF, HS_CODES_L2_DF\n",
        "\n",
        "\n",
        "yearsList = \",\".join(list(map(str,years.value)))\n",
        "partnerCode = partnerCodeWidget.value\n",
        "\n",
        "\n",
        "# decode country\n",
        "country_name = comtrade.COUNTRY_CODES.get(partnerCode)\n",
        "\n",
        "flow = flowCodeWidget.value\n",
        "print(yearsList,country_name,flow)\n",
        "\n",
        "pco_cols = ['reporterDesc','partnerDesc','refYear','rank','cmdDesc',\n",
        "            'flowCode','primaryValueFormated']\n",
        "\n",
        "pco_cols_detail = ['reporterDesc','partnerDesc','refYear','cmdCode','cmdDesc',\n",
        "            'flowCode','primaryValue', 'isAggregate']\n",
        "\n",
        "# first we collect the top commodity level 2 codes            \n",
        "df = comtrade.get_data(\"C\",# C for commodities, S for Services\n",
        "                     \"A\",# (freqCode) A for annual and M for monthly\n",
        "                     flowCode=flow,\n",
        "                     cmdCode=\"AG2\",\n",
        "                     reporterCode=m49_china,\n",
        "                     partnerCode=partnerCode,\n",
        "                     period=yearsList,\n",
        "                     timeout=30,\n",
        "                     echo_url=True\n",
        "                     )\n",
        "\n",
        "pco = df.sort_values(['partnerDesc','refYear','primaryValue'], ascending=[True,True,False])\n",
        "pco['rank'] = pco.groupby(['partnerDesc','refYear'])[\"primaryValue\"].rank(method=\"dense\", ascending=False)\n",
        "pco_top5 = pco[pco['rank'] <= rank_filter]\n",
        "# get the countries\n",
        "countries = pco_top5.partnerDesc.unique()\n",
        "country_cmd_top5_codes = dict()\n",
        "\n",
        "# get the detailed commodity codes for the top of each country\n",
        "for country in countries:\n",
        "    l2_codes = pco_top5[pco_top5.partnerDesc == country]['cmdCode'].unique()\n",
        "    print(country,l2_codes)\n",
        "    hs_details = []\n",
        "    for l2_code in l2_codes:\n",
        "        l2_sub_codes = list(HS_CODES_DF[HS_CODES_DF.hscode.str.startswith(l2_code)]['hscode'])\n",
        "        hs_details = hs_details + l2_sub_codes\n",
        "    # print(hs_details)\n",
        "    country_cmd_top5_codes[country] = hs_details.copy()\n",
        "\n",
        "# now we fetch the detail\n",
        "countryDesc = COUNTRY_CODES[partnerCode]\n",
        "country_cmd_codes = \",\".join(country_cmd_top5_codes[countryDesc])\n",
        "print(country_cmd_codes)\n",
        "\n",
        "df = comtrade.get_data(\"C\",# C for commodities, S for Services\n",
        "                     \"A\",# (freqCode) A for annual and M for monthly\n",
        "                     flowCode=flow,\n",
        "                     cmdCode=country_cmd_codes, # sometimes the detail commodity codes generates errors\n",
        "                     reporterCode=m49_china,\n",
        "                     partnerCode=partnerCode,\n",
        "                     partner2Code=0,\n",
        "                     period=yearsList,\n",
        "                     echo_url=True,\n",
        "                     timeout=60\n",
        "                     )\n",
        "df[pco_cols_detail].sort_values('primaryValue',ascending=False).to_excel(f\"./downloads/china_plp_{yearsList}_{flowCode}_detail_{countryDesc}.xlsx\")\n",
        "print(\"Mostrando o top 100 geral\")\n",
        "df[df.isAggregate == False][pco_cols_detail].sort_values('primaryValue',ascending=False).head(100)"
      ]
    }
  ],
  "metadata": {
    "colab": {
      "provenance": []
    },
    "kernelspec": {
      "display_name": "Python 3",
      "language": "python",
      "name": "python3"
    },
    "language_info": {
      "codemirror_mode": {
        "name": "ipython",
        "version": 3
      },
      "file_extension": ".py",
      "mimetype": "text/x-python",
      "name": "python",
      "nbconvert_exporter": "python",
      "pygments_lexer": "ipython3",
      "version": "3.10.4"
    },
    "orig_nbformat": 4,
    "vscode": {
      "interpreter": {
        "hash": "3ad933181bd8a04b432d3370b9dc3b0662ad032c4dfaa4e4f1596c548f763858"
      }
    }
  },
  "nbformat": 4,
  "nbformat_minor": 0
}
