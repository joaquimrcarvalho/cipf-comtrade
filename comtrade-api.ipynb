{
 "cells": [
  {
   "cell_type": "markdown",
   "metadata": {},
   "source": [
    "# Teste da API Comtrade\n",
    "\n",
    "Info: https://comtradedeveloper.un.org\n",
    "\n",
    "Specs: https://comtradedeveloper.un.org/api-details#api=comtrade-v1&operation=get-get\n",
    "\n"
   ]
  },
  {
   "cell_type": "code",
   "execution_count": 51,
   "metadata": {},
   "outputs": [
    {
     "name": "stdout",
     "output_type": "stream",
     "text": [
      "Requirement already satisfied: requests in /Users/jrc/.pyenv/versions/3.10.4/lib/python3.10/site-packages (2.27.1)\n",
      "Requirement already satisfied: idna<4,>=2.5 in /Users/jrc/.pyenv/versions/3.10.4/lib/python3.10/site-packages (from requests) (3.3)\n",
      "Requirement already satisfied: certifi>=2017.4.17 in /Users/jrc/.pyenv/versions/3.10.4/lib/python3.10/site-packages (from requests) (2022.5.18.1)\n",
      "Requirement already satisfied: urllib3<1.27,>=1.21.1 in /Users/jrc/.pyenv/versions/3.10.4/lib/python3.10/site-packages (from requests) (1.26.9)\n",
      "Requirement already satisfied: charset-normalizer~=2.0.0 in /Users/jrc/.pyenv/versions/3.10.4/lib/python3.10/site-packages (from requests) (2.0.12)\n",
      "Note: you may need to restart the kernel to use updated packages.\n"
     ]
    }
   ],
   "source": [
    "%pip install requests"
   ]
  },
  {
   "cell_type": "code",
   "execution_count": 52,
   "metadata": {},
   "outputs": [
    {
     "name": "stdout",
     "output_type": "stream",
     "text": [
      "Requirement already satisfied: pandas in /Users/jrc/.pyenv/versions/3.10.4/lib/python3.10/site-packages (1.4.2)\n",
      "Requirement already satisfied: python-dateutil>=2.8.1 in /Users/jrc/.pyenv/versions/3.10.4/lib/python3.10/site-packages (from pandas) (2.8.2)\n",
      "Requirement already satisfied: pytz>=2020.1 in /Users/jrc/.pyenv/versions/3.10.4/lib/python3.10/site-packages (from pandas) (2022.1)\n",
      "Requirement already satisfied: numpy>=1.21.0 in /Users/jrc/.pyenv/versions/3.10.4/lib/python3.10/site-packages (from pandas) (1.22.4)\n",
      "Requirement already satisfied: six>=1.5 in /Users/jrc/.pyenv/versions/3.10.4/lib/python3.10/site-packages (from python-dateutil>=2.8.1->pandas) (1.16.0)\n",
      "Note: you may need to restart the kernel to use updated packages.\n"
     ]
    }
   ],
   "source": [
    "%pip install pandas"
   ]
  },
  {
   "cell_type": "code",
   "execution_count": 53,
   "metadata": {},
   "outputs": [
    {
     "name": "stdout",
     "output_type": "stream",
     "text": [
      "Requirement already satisfied: openpyxl in /Users/jrc/.pyenv/versions/3.10.4/lib/python3.10/site-packages (3.0.10)\n",
      "Requirement already satisfied: et-xmlfile in /Users/jrc/.pyenv/versions/3.10.4/lib/python3.10/site-packages (from openpyxl) (1.1.0)\n",
      "Note: you may need to restart the kernel to use updated packages.\n"
     ]
    }
   ],
   "source": [
    "%pip install openpyxl"
   ]
  },
  {
   "cell_type": "markdown",
   "metadata": {},
   "source": [
    "Aqui colocar os parâmetros gerais que não mudam."
   ]
  },
  {
   "cell_type": "code",
   "execution_count": 54,
   "metadata": {},
   "outputs": [],
   "source": [
    "baseUrl = \"https://comtradeapi.un.org/public/v1\"\n",
    "\n",
    "m49_codes_cn_plp ={\n",
    "    \"024\":\"Angola\",\n",
    "    \"076\":\"Brazil\",\n",
    "    \"132\":\"Cabo Verde\",\n",
    "    \"156\":\"China\",\n",
    "    \"344\":\"China, Hong Kong\",\n",
    "    \"446\":\"China, Macau\",\n",
    "    \"226\":\"Guiné Equatorial\",\n",
    "    \"624\":\"Guiné-Bissau\",\n",
    "    \"508\":\"Moçambique\",\n",
    "    \"620\":\"Portugal\",\n",
    "    \"678\":\"São Tomé e Príncipe\",\n",
    "    \"626\":\"Timor-Leste\"\n",
    "}\n",
    "m49_china = \"156\"\n",
    "m49_hong_kong = \"344\"\n",
    "m49_macau = \"446\"\n",
    "m49_plp = set(m49_codes_cn_plp.keys())-{m49_china,m49_hong_kong,m49_macau}\n",
    "m49_plp_list = \",\".join(m49_plp)"
   ]
  },
  {
   "cell_type": "markdown",
   "metadata": {},
   "source": [
    "Aqui os parâmetros de cada chamada à API."
   ]
  },
  {
   "cell_type": "code",
   "execution_count": 55,
   "metadata": {},
   "outputs": [],
   "source": [
    "typeCode = \"C\" # C for commodities, S for Services\n",
    "freqCode = \"A\" # A for annual and M for monthly\n",
    "clCode = \"HS\" #Trade classifications Available values : HS, SS, B4, B5, EB, EB10, EB02, EBSDMX\n",
    "reporterCode = m49_china # China, HK 344, Macau 446, see https://unstats.un.org/unsd/methodology/m49/\n",
    "partnerCode = m49_plp_list\n",
    "period=\"2020\"\n",
    "cmdCode=\"AG2\" # TOTAL, AG2 (HS level 2)\n",
    "flowCode = \"M\" # M=import, X=export,outros: RX, RM, MIP, XIP, MOP, XOP, MIF, XIF, DX, FM\n"
   ]
  },
  {
   "cell_type": "code",
   "execution_count": 59,
   "metadata": {},
   "outputs": [],
   "source": [
    "import requests\n",
    "requestUrl=f\"{baseUrl}/preview/{typeCode}/{freqCode}/{clCode}\"\n",
    "resp = requests.get(requestUrl,\n",
    "        {\n",
    "        'reporterCode':m49_china,\n",
    "        'period':period,\n",
    "        'partnerCode':m49_plp_list,\n",
    "        'cmdCode':cmdCode,\n",
    "        'flowCode':flowCode\n",
    "        },\n",
    "        timeout=10)"
   ]
  },
  {
   "cell_type": "code",
   "execution_count": 60,
   "metadata": {},
   "outputs": [],
   "source": [
    "import json\n",
    "import pandas as pd\n",
    "\n",
    "results = json.loads(resp.content)['data']\n",
    "dados = pd.DataFrame(results)\n",
    "# convert result country codes to three-digit codes\n",
    "dados.reporterCode = dados.reporterCode.astype('str').str.zfill(3)\n",
    "dados.partnerCode = dados.partnerCode.astype('str').str.zfill(3)\n",
    "# print(dados.columns.values)"
   ]
  },
  {
   "cell_type": "code",
   "execution_count": 61,
   "metadata": {},
   "outputs": [
    {
     "data": {
      "text/html": [
       "<div>\n",
       "<style scoped>\n",
       "    .dataframe tbody tr th:only-of-type {\n",
       "        vertical-align: middle;\n",
       "    }\n",
       "\n",
       "    .dataframe tbody tr th {\n",
       "        vertical-align: top;\n",
       "    }\n",
       "\n",
       "    .dataframe thead th {\n",
       "        text-align: right;\n",
       "    }\n",
       "</style>\n",
       "<table border=\"1\" class=\"dataframe\">\n",
       "  <thead>\n",
       "    <tr style=\"text-align: right;\">\n",
       "      <th></th>\n",
       "      <th>typeCode</th>\n",
       "      <th>cmdCode</th>\n",
       "      <th>freqCode</th>\n",
       "      <th>refYear</th>\n",
       "      <th>reporterDesc</th>\n",
       "      <th>partnerDesc</th>\n",
       "      <th>flowCode</th>\n",
       "      <th>primaryValueFormated</th>\n",
       "      <th>primaryValue</th>\n",
       "    </tr>\n",
       "  </thead>\n",
       "  <tbody>\n",
       "    <tr>\n",
       "      <th>0</th>\n",
       "      <td>C</td>\n",
       "      <td>21</td>\n",
       "      <td>A</td>\n",
       "      <td>2020</td>\n",
       "      <td>China</td>\n",
       "      <td>Angola</td>\n",
       "      <td>M</td>\n",
       "      <td>155.0</td>\n",
       "      <td>1.550000e+02</td>\n",
       "    </tr>\n",
       "    <tr>\n",
       "      <th>1</th>\n",
       "      <td>C</td>\n",
       "      <td>22</td>\n",
       "      <td>A</td>\n",
       "      <td>2020</td>\n",
       "      <td>China</td>\n",
       "      <td>Angola</td>\n",
       "      <td>M</td>\n",
       "      <td>94,554.0</td>\n",
       "      <td>9.455400e+04</td>\n",
       "    </tr>\n",
       "    <tr>\n",
       "      <th>2</th>\n",
       "      <td>C</td>\n",
       "      <td>25</td>\n",
       "      <td>A</td>\n",
       "      <td>2020</td>\n",
       "      <td>China</td>\n",
       "      <td>Angola</td>\n",
       "      <td>M</td>\n",
       "      <td>29,428,961.0</td>\n",
       "      <td>2.942896e+07</td>\n",
       "    </tr>\n",
       "    <tr>\n",
       "      <th>3</th>\n",
       "      <td>C</td>\n",
       "      <td>26</td>\n",
       "      <td>A</td>\n",
       "      <td>2020</td>\n",
       "      <td>China</td>\n",
       "      <td>Angola</td>\n",
       "      <td>M</td>\n",
       "      <td>6,763,117.0</td>\n",
       "      <td>6.763117e+06</td>\n",
       "    </tr>\n",
       "    <tr>\n",
       "      <th>4</th>\n",
       "      <td>C</td>\n",
       "      <td>27</td>\n",
       "      <td>A</td>\n",
       "      <td>2020</td>\n",
       "      <td>China</td>\n",
       "      <td>Angola</td>\n",
       "      <td>M</td>\n",
       "      <td>14,686,950,196.0</td>\n",
       "      <td>1.468695e+10</td>\n",
       "    </tr>\n",
       "    <tr>\n",
       "      <th>...</th>\n",
       "      <td>...</td>\n",
       "      <td>...</td>\n",
       "      <td>...</td>\n",
       "      <td>...</td>\n",
       "      <td>...</td>\n",
       "      <td>...</td>\n",
       "      <td>...</td>\n",
       "      <td>...</td>\n",
       "      <td>...</td>\n",
       "    </tr>\n",
       "    <tr>\n",
       "      <th>256</th>\n",
       "      <td>C</td>\n",
       "      <td>84</td>\n",
       "      <td>A</td>\n",
       "      <td>2020</td>\n",
       "      <td>China</td>\n",
       "      <td>São Tomé e Príncipe</td>\n",
       "      <td>M</td>\n",
       "      <td>37,730.0</td>\n",
       "      <td>3.773000e+04</td>\n",
       "    </tr>\n",
       "    <tr>\n",
       "      <th>257</th>\n",
       "      <td>C</td>\n",
       "      <td>85</td>\n",
       "      <td>A</td>\n",
       "      <td>2020</td>\n",
       "      <td>China</td>\n",
       "      <td>São Tomé e Príncipe</td>\n",
       "      <td>M</td>\n",
       "      <td>989.0</td>\n",
       "      <td>9.890000e+02</td>\n",
       "    </tr>\n",
       "    <tr>\n",
       "      <th>258</th>\n",
       "      <td>C</td>\n",
       "      <td>87</td>\n",
       "      <td>A</td>\n",
       "      <td>2020</td>\n",
       "      <td>China</td>\n",
       "      <td>São Tomé e Príncipe</td>\n",
       "      <td>M</td>\n",
       "      <td>226.0</td>\n",
       "      <td>2.260000e+02</td>\n",
       "    </tr>\n",
       "    <tr>\n",
       "      <th>259</th>\n",
       "      <td>C</td>\n",
       "      <td>90</td>\n",
       "      <td>A</td>\n",
       "      <td>2020</td>\n",
       "      <td>China</td>\n",
       "      <td>São Tomé e Príncipe</td>\n",
       "      <td>M</td>\n",
       "      <td>5,518.0</td>\n",
       "      <td>5.518000e+03</td>\n",
       "    </tr>\n",
       "    <tr>\n",
       "      <th>260</th>\n",
       "      <td>C</td>\n",
       "      <td>99</td>\n",
       "      <td>A</td>\n",
       "      <td>2020</td>\n",
       "      <td>China</td>\n",
       "      <td>São Tomé e Príncipe</td>\n",
       "      <td>M</td>\n",
       "      <td>57.0</td>\n",
       "      <td>5.700000e+01</td>\n",
       "    </tr>\n",
       "  </tbody>\n",
       "</table>\n",
       "<p>261 rows × 9 columns</p>\n",
       "</div>"
      ],
      "text/plain": [
       "    typeCode cmdCode freqCode  refYear reporterDesc          partnerDesc  \\\n",
       "0          C      21        A     2020        China               Angola   \n",
       "1          C      22        A     2020        China               Angola   \n",
       "2          C      25        A     2020        China               Angola   \n",
       "3          C      26        A     2020        China               Angola   \n",
       "4          C      27        A     2020        China               Angola   \n",
       "..       ...     ...      ...      ...          ...                  ...   \n",
       "256        C      84        A     2020        China  São Tomé e Príncipe   \n",
       "257        C      85        A     2020        China  São Tomé e Príncipe   \n",
       "258        C      87        A     2020        China  São Tomé e Príncipe   \n",
       "259        C      90        A     2020        China  São Tomé e Príncipe   \n",
       "260        C      99        A     2020        China  São Tomé e Príncipe   \n",
       "\n",
       "    flowCode primaryValueFormated  primaryValue  \n",
       "0          M                155.0  1.550000e+02  \n",
       "1          M             94,554.0  9.455400e+04  \n",
       "2          M         29,428,961.0  2.942896e+07  \n",
       "3          M          6,763,117.0  6.763117e+06  \n",
       "4          M     14,686,950,196.0  1.468695e+10  \n",
       "..       ...                  ...           ...  \n",
       "256        M             37,730.0  3.773000e+04  \n",
       "257        M                989.0  9.890000e+02  \n",
       "258        M                226.0  2.260000e+02  \n",
       "259        M              5,518.0  5.518000e+03  \n",
       "260        M                 57.0  5.700000e+01  \n",
       "\n",
       "[261 rows x 9 columns]"
      ]
     },
     "execution_count": 61,
     "metadata": {},
     "output_type": "execute_result"
    }
   ],
   "source": [
    "\n",
    "\n",
    "dados.reporterDesc = dados.reporterCode.map(m49_codes_cn_plp)\n",
    "dados.partnerDesc = dados.partnerCode.map(m49_codes_cn_plp)\n",
    "dados['primaryValueFormated'] = dados.primaryValue.map('{:,}'.format)\n",
    "cols = ['typeCode','cmdCode','freqCode','refYear','reporterDesc','partnerDesc','flowCode','primaryValueFormated','primaryValue']\n",
    "\n",
    "dados[cols]"
   ]
  },
  {
   "cell_type": "code",
   "execution_count": 36,
   "metadata": {},
   "outputs": [],
   "source": [
    "dados[cols].to_excel(f\"./dados_comtrade_{period}_{cmdCode}.xlsx\")"
   ]
  }
 ],
 "metadata": {
  "kernelspec": {
   "display_name": "Python 3.10.4 64-bit ('3.10.4')",
   "language": "python",
   "name": "python3"
  },
  "language_info": {
   "codemirror_mode": {
    "name": "ipython",
    "version": 3
   },
   "file_extension": ".py",
   "mimetype": "text/x-python",
   "name": "python",
   "nbconvert_exporter": "python",
   "pygments_lexer": "ipython3",
   "version": "3.10.4"
  },
  "orig_nbformat": 4,
  "vscode": {
   "interpreter": {
    "hash": "3f4c6253aba8c88efd38f4ed4b487a5473d5ec3d89bf67adb7a60aebc2f1f844"
   }
  }
 },
 "nbformat": 4,
 "nbformat_minor": 2
}
