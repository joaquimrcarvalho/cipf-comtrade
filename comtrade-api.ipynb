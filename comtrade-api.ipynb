{
 "cells": [
  {
   "cell_type": "markdown",
   "metadata": {},
   "source": [
    "First time use / Primeira utilização\n",
    "\n",
    "Menu: Terminal -> New Terminal\n",
    "pip install -r requirements.txt"
   ]
  },
  {
   "cell_type": "markdown",
   "metadata": {},
   "source": [
    "# Teste da API Comtrade\n",
    "\n",
    "Site: https://comtradedeveloper.un.org\n",
    "Manual metodológico: https://comtrade.un.org/data/MethodologyGuideforComtradePlus.pdf\n",
    "\n",
    "\n",
    "API specs: https://comtradedeveloper.un.org/api-details#api=comtrade-v1&operation=get-get\n",
    "\n"
   ]
  },
  {
   "cell_type": "markdown",
   "metadata": {},
   "source": [
    "## Descrições dos códigos HS\n",
    "\n",
    "Obter tabela em https://github.com/datasets/harmonized-system/blob/master/data/harmonized-system.csv\n",
    "\n",
    "Copiar para directoria `support`\n"
   ]
  },
  {
   "cell_type": "markdown",
   "metadata": {},
   "source": [
    "### Ler a tabela e criar dicionários para descodificação"
   ]
  },
  {
   "cell_type": "code",
   "execution_count": 37,
   "metadata": {},
   "outputs": [],
   "source": [
    "import pandas as pd\n",
    "\n",
    "hs_codes_df = pd.read_csv('support/harmonized-system.csv') # read table\n",
    "hs_codes_map = dict(zip(hs_codes_df.hscode, hs_codes_df.description)) #  dict for decoding\n",
    "hs_codes_l2 = hs_codes_df[hs_codes_df.level == 2]  # create subset of level 2 codes\n",
    "hs_l2_map = dict(zip(hs_codes_l2.hscode, hs_codes_l2.description)) # dict for decodung\n"
   ]
  },
  {
   "cell_type": "markdown",
   "metadata": {},
   "source": [
    "### Obter os códigos de países e regiões\n",
    "\n",
    "Ver lista em https://unstats.un.org/wiki/display/comtrade/Country+Code\n",
    "\n",
    "Em formato JSON disponível em:\n",
    " * https://comtrade.un.org/data/cache/reporterAreas.json\n",
    " * https://comtrade.un.org/data/cache/partnerAreas.json\n",
    "\n",
    "Aqui descarregamos e guardamos em `support` para evitar\n",
    "ligação próxima vez.\n"
   ]
  },
  {
   "cell_type": "code",
   "execution_count": 44,
   "metadata": {},
   "outputs": [],
   "source": [
    "import os\n",
    "import json\n",
    "import requests\n",
    "import pandas as pd\n",
    "\n",
    "fname = 'support/reporter_codes.json'\n",
    "if os.path.isfile(fname):\n",
    "    with open(fname) as cached:\n",
    "        reporter_codes = json.load(cached)\n",
    "else:\n",
    "    resp = requests.get(\"https://comtrade.un.org/data/cache/reporterAreas.json\")\n",
    "    codes = json.loads(resp.content)['results']\n",
    "    reporter_codes = dict([(a['id'], a['text'])  for a in codes])\n",
    "    with open(fname, mode=\"x\") as outfile:\n",
    "        json.dump(reporter_codes,outfile,indent=2)\n",
    "\n",
    "fname = 'support/partner_codes.json'\n",
    "if os.path.isfile(fname):\n",
    "    with open(fname) as cached:\n",
    "        partner_codes = json.load(cached)\n",
    "else:\n",
    "    resp = requests.get(\"https://comtrade.un.org/data/cache/partnerAreas.json\")\n",
    "    codes = json.loads(resp.content)['results']\n",
    "    partner_codes = dict([(a['id'], a['text'])  for a in codes])\n",
    "    with open(fname,mode=\"x\") as outfile:\n",
    "        json.dump(reporter_codes,outfile,indent=2)\n",
    "\n",
    "# convert codes to int\n",
    "m49_codes_map = { int(k):v for (k,v) in reporter_codes.items() if k!='all'}"
   ]
  },
  {
   "cell_type": "markdown",
   "metadata": {},
   "source": [
    "Os dados devolvidos pela API incluem códigos no campo `Partner2` que não estão na lista oficial de códigos M49.\n",
    "\n",
    "Outros utilizadores têm o mesmo problema.\n",
    "\n",
    "Ver  https://rstudio-pubs-static.s3.amazonaws.com/92321_70509e47e7f041e68f383253cb85751b.html onde se encontra o resultado de cruzamentos dos códigos dos dados e várias versões da lista\n",
    "M49 e que é útil para completar a lista da FAO.\n",
    "\n",
    "Ver também esta nota da unstats: https://unstats.un.org/wiki/display/comtrade/Reporter+country+codes+and+their+customs+areas\n",
    "\n",
    "__Códigos atualmente em falta:__\n",
    "* __473__ China-Angola Import 2016 partner2Code.\n"
   ]
  },
  {
   "cell_type": "code",
   "execution_count": 52,
   "metadata": {},
   "outputs": [
    {
     "data": {
      "text/plain": [
       "'Not found'"
      ]
     },
     "execution_count": 52,
     "metadata": {},
     "output_type": "execute_result"
    }
   ],
   "source": [
    "m49_codes_map.get(473,\"Not found\")"
   ]
  },
  {
   "cell_type": "markdown",
   "metadata": {},
   "source": [
    "## Obter os dados de comtrade.un.org"
   ]
  },
  {
   "cell_type": "markdown",
   "metadata": {},
   "source": [
    "### Parâmetros gerais que não mudam\n",
    "\n"
   ]
  },
  {
   "cell_type": "code",
   "execution_count": 53,
   "metadata": {},
   "outputs": [],
   "source": [
    "m49_angola = 24\n",
    "m49_brazil = 76\n",
    "m49_cabo_verde = 132\n",
    "m49_china = 156\n",
    "m49_hong_kong = 344\n",
    "m49_macau = 446\n",
    "m49_guine_equatorial = 226\n",
    "m49_guine_bissau = 624\n",
    "m49_mozambique = 508\n",
    "m49_portugal = 620\n",
    "m49_stome_principe = 678\n",
    "m49_timor = 626\n",
    "\n",
    "# make list of Portuguese Speaking Countries\n",
    "m49_plp = [m49_angola,m49_brazil,m49_cabo_verde,m49_guine_bissau,\n",
    "            m49_guine_equatorial,m49_mozambique,m49_portugal,\n",
    "            m49_stome_principe,m49_timor]\n",
    "m49_plp_list = \",\".join(map(str,m49_plp))\n",
    "\n",
    "\n"
   ]
  },
  {
   "cell_type": "markdown",
   "metadata": {},
   "source": [
    "### Função auxiliar para aceder à API un.comtrade\n"
   ]
  },
  {
   "cell_type": "code",
   "execution_count": 54,
   "metadata": {},
   "outputs": [],
   "source": [
    "import json\n",
    "import requests\n",
    "import pandas as pd\n",
    "\n",
    "\n",
    "def call_uncomtrade(typeCode: str, freqCode: str, \n",
    "                    reporterCode: str = '49', \n",
    "                    partnerCode: str = '024,076,132,226,624,508,620,678,626',\n",
    "                    partner2Code: str = '0',\n",
    "                    period: str = None,\n",
    "                    clCode: str = \"HS\",\n",
    "                    cmdCode: str = \"TOTAL\",\n",
    "                    flowCode: str = \"M,X\",\n",
    "                    timeout: int = 10,\n",
    "                    echo_url: bool = False\n",
    "                    )->pd.DataFrame:\n",
    "    \"\"\" Makes a request to UN Comtrade API (public), returns a pandas DataFrame\n",
    "    \n",
    "    Parameters\n",
    "        typeCode: required, C for commodities, S for Services\n",
    "        freqCode: required, A for annual and M for monthly\n",
    "        reporterCode: optional, list of M49 codes, default \"049\" (China)\n",
    "        partnerCode: optional, list of M49 codes None for all countries, default PLP codes\n",
    "        partner2Code: optional, list of M49 codes, None for all countries, 0 for agregate, default 0\n",
    "        period:  optional, aaaa or aaaamm default None (all available periods)\n",
    "        clCode: Trade classifications: HS, SITC, BEC or EBOPS.\n",
    "                Available values : HS, SS, B4, B5, EB, EB10, EB02, EBSDMX\n",
    "        cmdCode: optional, default, \"TOTAL\"\n",
    "        flowCode: optional, M=import, X=export,more: RX, RM, MIP, XIP, MOP, XOP, MIF, XIF, DX, FM; default \"M,X\"\n",
    "        timeOut: int, max wait time in seconds. Default 10\n",
    "        echo_url: bool, print url of call, default False\n",
    "     \"\"\"\n",
    "\n",
    "    baseUrl = \"https://comtradeapi.un.org/public/v1\"\n",
    "\n",
    "    requestUrl=f\"{baseUrl}/preview/{typeCode}/{freqCode}/{clCode}\"\n",
    "    resp = requests.get(requestUrl,\n",
    "            {\n",
    "            'reporterCode':reporterCode,\n",
    "            'period':period,\n",
    "            'partnerCode':partnerCode,\n",
    "            'partner2Code':partner2Code,\n",
    "            'cmdCode':cmdCode,\n",
    "            'flowCode':flowCode\n",
    "            },\n",
    "            timeout=timeout)\n",
    "    if echo_url:\n",
    "        print(resp.url)\n",
    "    results = json.loads(resp.content)['data']\n",
    "    df = pd.DataFrame(results)\n",
    "\n",
    "    # Convert the country codes to country names\n",
    "    df.reporterDesc = df.reporterCode.map(m49_codes_map)\n",
    "    df.partnerDesc = df.partnerCode.map(m49_codes_map)\n",
    "    df.partner2Desc = df.partner2Code.map(m49_codes_map)\n",
    "    # Convert the HS codes\n",
    "    df.cmdDesc = df.cmdCode.map(hs_codes_map)\n",
    "    # Generate a formated version of the value for readability here\n",
    "    df['primaryValueFormated'] = df.primaryValue.map('{:,}'.format)\n",
    "    # return the DataFrame\n",
    "    return df"
   ]
  },
  {
   "cell_type": "markdown",
   "metadata": {},
   "source": [
    "## Parâmetros para visualização\n",
    "\n",
    "Colunas a visualizar, ordem das linhas\n",
    "\n"
   ]
  },
  {
   "cell_type": "code",
   "execution_count": 55,
   "metadata": {},
   "outputs": [],
   "source": [
    "# Colunas mais interessantes do resultado\n",
    "# escolher de \n",
    "#        'typeCode', 'freqCode', 'refPeriodId', 'refYear', 'refMonth',\n",
    "#        'period', 'reporterCode', 'reporterISO', 'reporterDesc',\n",
    "#        'flowCode', 'flowDesc', 'partnerCode', 'partnerISO', 'partnerDesc',\n",
    "#        'partner2Code', 'partner2ISO', 'partner2Desc',\n",
    "#        'classificationCode', 'classificationSearchCode',\n",
    "#        'isOriginalClassification', 'cmdCode', 'cmdDesc', 'aggrLevel',\n",
    "#        'isLeaf', 'customsCode', 'customsDesc', 'mosCode', 'motCode',\n",
    "#        'motDesc', 'qtyUnitCode', 'qtyUnitAbbr', 'qty', 'isQtyEstimated',\n",
    "#        'altQtyUnitCode', 'altQtyUnitAbbr', 'altQty', 'isAltQtyEstimated',\n",
    "#        'netWgt', 'isNetWgtEstimated', 'grossWgt', 'isGrossWgtEstimated',\n",
    "#        'cifvalue', 'fobvalue', 'primaryValue', 'legacyEstimationFlag',\n",
    "#        'isReported', 'isAggregate', 'primaryValueFormated']\n",
    "\n",
    "cols = ['typeCode','freqCode','reporterDesc','partnerDesc','partner2Code','partner2Desc','refYear','cmdCode','cmdDesc','flowCode','isReported','primaryValueFormated','primaryValue']\n",
    "sort_order = ['reporterDesc','partnerDesc','refYear','refMonth']"
   ]
  },
  {
   "cell_type": "markdown",
   "metadata": {},
   "source": [
    "## Notas de utilização\n",
    "\n",
    "### Mais do que uma linha por par de países nos anos de 2015,2016,2017\n",
    "\n",
    "Alguns anos produzem mais do que uma linha por par _reporter/partner_  com diferentes valores:\n",
    "2015, 2016, 2017\n",
    "* Nesses anos existe uma linha por cada `partner2Code`, incluindo uma linha para o próprio partnerCode.\n",
    "* Uma linha adicional com `partner2Code` igual a zero que contém o total agregado das outras linhas com `partner2Code`explícito.\n",
    "* Isso significa que existe duplicação do total.\n",
    "  \n",
    "|    | reporterDesc   | partnerDesc       |   partner2Code | partner2Desc         |   refYear | cmdCode   | flowCode   | primaryValueFormated   |\n",
    "|---:|:---------------|:------------------|---------------:|:---------------------|----------:|:----------|:-----------|:-----------------------|\n",
    "|  3 | China          | Equatorial Guinea |            344 | China, Hong Kong SAR |      2015 | TOTAL     | M          | 59.0                   |\n",
    "|  1 | China          | Equatorial Guinea |             56 | Belgium              |      2015 | TOTAL     | M          | 2,435.0                |\n",
    "|  2 | China          | Equatorial Guinea |            226 | Equatorial Guinea    |      2015 | TOTAL     | M          | 1,166,493,970.0        |\n",
    "|  0 | China          | Equatorial Guinea |              0 | nan                  |      2015 | TOTAL     | M          | 1,166,496,464.0        |\n",
    "\n",
    "\n",
    "Para evitar isso tem de se chamar a API com partner2Code = 0, para que os resultados de 2015,2016,2017 excluam\n",
    "a decomposição. Se partner2Code=None as linhas adicionais aparecem.\n"
   ]
  },
  {
   "cell_type": "markdown",
   "metadata": {},
   "source": [
    "Exemplo de resultados se o `partner2Code` for None\n"
   ]
  },
  {
   "cell_type": "code",
   "execution_count": 56,
   "metadata": {},
   "outputs": [
    {
     "name": "stdout",
     "output_type": "stream",
     "text": [
      "https://comtradeapi.un.org/public/v1/preview/C/A/HS?reporterCode=156&period=2016&partnerCode=226&cmdCode=TOTAL&flowCode=M\n"
     ]
    },
    {
     "data": {
      "text/html": [
       "<div>\n",
       "<style scoped>\n",
       "    .dataframe tbody tr th:only-of-type {\n",
       "        vertical-align: middle;\n",
       "    }\n",
       "\n",
       "    .dataframe tbody tr th {\n",
       "        vertical-align: top;\n",
       "    }\n",
       "\n",
       "    .dataframe thead th {\n",
       "        text-align: right;\n",
       "    }\n",
       "</style>\n",
       "<table border=\"1\" class=\"dataframe\">\n",
       "  <thead>\n",
       "    <tr style=\"text-align: right;\">\n",
       "      <th></th>\n",
       "      <th>reporterDesc</th>\n",
       "      <th>partnerDesc</th>\n",
       "      <th>partner2Code</th>\n",
       "      <th>partner2Desc</th>\n",
       "      <th>refYear</th>\n",
       "      <th>cmdCode</th>\n",
       "      <th>flowCode</th>\n",
       "      <th>primaryValueFormated</th>\n",
       "    </tr>\n",
       "  </thead>\n",
       "  <tbody>\n",
       "    <tr>\n",
       "      <th>0</th>\n",
       "      <td>China</td>\n",
       "      <td>Equatorial Guinea</td>\n",
       "      <td>0</td>\n",
       "      <td>NaN</td>\n",
       "      <td>2016</td>\n",
       "      <td>TOTAL</td>\n",
       "      <td>M</td>\n",
       "      <td>631,851,506.0</td>\n",
       "    </tr>\n",
       "    <tr>\n",
       "      <th>1</th>\n",
       "      <td>China</td>\n",
       "      <td>Equatorial Guinea</td>\n",
       "      <td>24</td>\n",
       "      <td>Angola</td>\n",
       "      <td>2016</td>\n",
       "      <td>TOTAL</td>\n",
       "      <td>M</td>\n",
       "      <td>396,344.0</td>\n",
       "    </tr>\n",
       "    <tr>\n",
       "      <th>2</th>\n",
       "      <td>China</td>\n",
       "      <td>Equatorial Guinea</td>\n",
       "      <td>178</td>\n",
       "      <td>Congo</td>\n",
       "      <td>2016</td>\n",
       "      <td>TOTAL</td>\n",
       "      <td>M</td>\n",
       "      <td>1,457,849.0</td>\n",
       "    </tr>\n",
       "    <tr>\n",
       "      <th>3</th>\n",
       "      <td>China</td>\n",
       "      <td>Equatorial Guinea</td>\n",
       "      <td>226</td>\n",
       "      <td>Equatorial Guinea</td>\n",
       "      <td>2016</td>\n",
       "      <td>TOTAL</td>\n",
       "      <td>M</td>\n",
       "      <td>589,959,003.0</td>\n",
       "    </tr>\n",
       "    <tr>\n",
       "      <th>4</th>\n",
       "      <td>China</td>\n",
       "      <td>Equatorial Guinea</td>\n",
       "      <td>251</td>\n",
       "      <td>France</td>\n",
       "      <td>2016</td>\n",
       "      <td>TOTAL</td>\n",
       "      <td>M</td>\n",
       "      <td>1,341.0</td>\n",
       "    </tr>\n",
       "    <tr>\n",
       "      <th>5</th>\n",
       "      <td>China</td>\n",
       "      <td>Equatorial Guinea</td>\n",
       "      <td>344</td>\n",
       "      <td>China, Hong Kong SAR</td>\n",
       "      <td>2016</td>\n",
       "      <td>TOTAL</td>\n",
       "      <td>M</td>\n",
       "      <td>634.0</td>\n",
       "    </tr>\n",
       "    <tr>\n",
       "      <th>6</th>\n",
       "      <td>China</td>\n",
       "      <td>Equatorial Guinea</td>\n",
       "      <td>458</td>\n",
       "      <td>Malaysia</td>\n",
       "      <td>2016</td>\n",
       "      <td>TOTAL</td>\n",
       "      <td>M</td>\n",
       "      <td>40,036,318.0</td>\n",
       "    </tr>\n",
       "    <tr>\n",
       "      <th>7</th>\n",
       "      <td>China</td>\n",
       "      <td>Equatorial Guinea</td>\n",
       "      <td>490</td>\n",
       "      <td>Other Asia, nes</td>\n",
       "      <td>2016</td>\n",
       "      <td>TOTAL</td>\n",
       "      <td>M</td>\n",
       "      <td>17.0</td>\n",
       "    </tr>\n",
       "  </tbody>\n",
       "</table>\n",
       "</div>"
      ],
      "text/plain": [
       "  reporterDesc        partnerDesc  partner2Code          partner2Desc  \\\n",
       "0        China  Equatorial Guinea             0                   NaN   \n",
       "1        China  Equatorial Guinea            24                Angola   \n",
       "2        China  Equatorial Guinea           178                 Congo   \n",
       "3        China  Equatorial Guinea           226     Equatorial Guinea   \n",
       "4        China  Equatorial Guinea           251                France   \n",
       "5        China  Equatorial Guinea           344  China, Hong Kong SAR   \n",
       "6        China  Equatorial Guinea           458              Malaysia   \n",
       "7        China  Equatorial Guinea           490       Other Asia, nes   \n",
       "\n",
       "   refYear cmdCode flowCode primaryValueFormated  \n",
       "0     2016   TOTAL        M        631,851,506.0  \n",
       "1     2016   TOTAL        M            396,344.0  \n",
       "2     2016   TOTAL        M          1,457,849.0  \n",
       "3     2016   TOTAL        M        589,959,003.0  \n",
       "4     2016   TOTAL        M              1,341.0  \n",
       "5     2016   TOTAL        M                634.0  \n",
       "6     2016   TOTAL        M         40,036,318.0  \n",
       "7     2016   TOTAL        M                 17.0  "
      ]
     },
     "execution_count": 56,
     "metadata": {},
     "output_type": "execute_result"
    }
   ],
   "source": [
    "pd.set_option('display.max_columns', 100)\n",
    "pd.set_option('display.max_rows', 500)\n",
    "\n",
    "cols2 = ['reporterDesc','partnerDesc','partner2Code','partner2Desc','refYear','cmdCode','flowCode','primaryValueFormated']\n",
    "period = \"2016\" ## if freqCode M  use aaaamm\n",
    "flow = \"M\"\n",
    "partnerCode = m49_guine_equatorial\n",
    "df = call_uncomtrade(\"C\",# C for commodities, S for Services\n",
    "                     \"A\",# (freqCode) A for annual and M for monthly\n",
    "                     flowCode=flow,\n",
    "                     reporterCode=m49_china,\n",
    "                     partnerCode=partnerCode,\n",
    "                     partner2Code=None,\n",
    "                     cmdCode='TOTAL',\n",
    "                     period=period,\n",
    "                     timeout=30, echo_url=True\n",
    "                     )\n",
    "result = df.sort_values(['partnerDesc','flowCode'])[cols2]\n",
    "# print(result.to_markdown())\n",
    "result"
   ]
  },
  {
   "cell_type": "markdown",
   "metadata": {},
   "source": [
    "Isto não acontece senão nos anos de 2015,2016 e 2017.\n",
    "\n",
    "Por exemplo a mesma chamada para 2018 dá apenas uma linha\n"
   ]
  },
  {
   "cell_type": "code",
   "execution_count": 8,
   "metadata": {},
   "outputs": [
    {
     "name": "stdout",
     "output_type": "stream",
     "text": [
      "https://comtradeapi.un.org/public/v1/preview/C/A/HS?reporterCode=156&period=2018&partnerCode=226&cmdCode=TOTAL&flowCode=M\n"
     ]
    },
    {
     "data": {
      "text/html": [
       "<div>\n",
       "<style scoped>\n",
       "    .dataframe tbody tr th:only-of-type {\n",
       "        vertical-align: middle;\n",
       "    }\n",
       "\n",
       "    .dataframe tbody tr th {\n",
       "        vertical-align: top;\n",
       "    }\n",
       "\n",
       "    .dataframe thead th {\n",
       "        text-align: right;\n",
       "    }\n",
       "</style>\n",
       "<table border=\"1\" class=\"dataframe\">\n",
       "  <thead>\n",
       "    <tr style=\"text-align: right;\">\n",
       "      <th></th>\n",
       "      <th>reporterDesc</th>\n",
       "      <th>partnerDesc</th>\n",
       "      <th>partner2Code</th>\n",
       "      <th>partner2Desc</th>\n",
       "      <th>refYear</th>\n",
       "      <th>cmdCode</th>\n",
       "      <th>flowCode</th>\n",
       "      <th>primaryValueFormated</th>\n",
       "    </tr>\n",
       "  </thead>\n",
       "  <tbody>\n",
       "    <tr>\n",
       "      <th>0</th>\n",
       "      <td>China</td>\n",
       "      <td>Equatorial Guinea</td>\n",
       "      <td>0</td>\n",
       "      <td>NaN</td>\n",
       "      <td>2018</td>\n",
       "      <td>TOTAL</td>\n",
       "      <td>M</td>\n",
       "      <td>2,139,372,096.0</td>\n",
       "    </tr>\n",
       "  </tbody>\n",
       "</table>\n",
       "</div>"
      ],
      "text/plain": [
       "  reporterDesc        partnerDesc  partner2Code partner2Desc  refYear cmdCode  \\\n",
       "0        China  Equatorial Guinea             0          NaN     2018   TOTAL   \n",
       "\n",
       "  flowCode primaryValueFormated  \n",
       "0        M      2,139,372,096.0  "
      ]
     },
     "execution_count": 8,
     "metadata": {},
     "output_type": "execute_result"
    }
   ],
   "source": [
    "period = \"2018\" ## if freqCode M  use aaaamm\n",
    "df = call_uncomtrade(\"C\",# C for commodities, S for Services\n",
    "                     \"A\",# (freqCode) A for annual and M for monthly\n",
    "                     flowCode=flow,\n",
    "                     reporterCode=m49_china,\n",
    "                     partnerCode=partnerCode,\n",
    "                     partner2Code=None,\n",
    "                     cmdCode='TOTAL',\n",
    "                     period=period,\n",
    "                     timeout=None,\n",
    "                     echo_url=True\n",
    "                     )\n",
    "result = df.sort_values(['partnerDesc','flowCode'])[cols2]\n",
    "# print(result.to_markdown())\n",
    "result"
   ]
  },
  {
   "cell_type": "markdown",
   "metadata": {},
   "source": [
    "A função call_uncomtrade passou a colocar partner2Code = 0 quando não especificado,\n",
    "para evitar o problema.\n",
    "\n",
    "Neste exemplo não se inclui o parâmetro `partner2Code` e a função coloca a zero para obter o resultado\n",
    "correcto."
   ]
  },
  {
   "cell_type": "code",
   "execution_count": 9,
   "metadata": {},
   "outputs": [
    {
     "name": "stdout",
     "output_type": "stream",
     "text": [
      "https://comtradeapi.un.org/public/v1/preview/C/A/HS?reporterCode=156&period=2016&partnerCode=226&partner2Code=0&cmdCode=TOTAL&flowCode=M\n"
     ]
    },
    {
     "data": {
      "text/html": [
       "<div>\n",
       "<style scoped>\n",
       "    .dataframe tbody tr th:only-of-type {\n",
       "        vertical-align: middle;\n",
       "    }\n",
       "\n",
       "    .dataframe tbody tr th {\n",
       "        vertical-align: top;\n",
       "    }\n",
       "\n",
       "    .dataframe thead th {\n",
       "        text-align: right;\n",
       "    }\n",
       "</style>\n",
       "<table border=\"1\" class=\"dataframe\">\n",
       "  <thead>\n",
       "    <tr style=\"text-align: right;\">\n",
       "      <th></th>\n",
       "      <th>reporterDesc</th>\n",
       "      <th>partnerDesc</th>\n",
       "      <th>partner2Code</th>\n",
       "      <th>partner2Desc</th>\n",
       "      <th>refYear</th>\n",
       "      <th>cmdCode</th>\n",
       "      <th>flowCode</th>\n",
       "      <th>primaryValueFormated</th>\n",
       "    </tr>\n",
       "  </thead>\n",
       "  <tbody>\n",
       "    <tr>\n",
       "      <th>0</th>\n",
       "      <td>China</td>\n",
       "      <td>Equatorial Guinea</td>\n",
       "      <td>0</td>\n",
       "      <td>NaN</td>\n",
       "      <td>2016</td>\n",
       "      <td>TOTAL</td>\n",
       "      <td>M</td>\n",
       "      <td>631,851,506.0</td>\n",
       "    </tr>\n",
       "  </tbody>\n",
       "</table>\n",
       "</div>"
      ],
      "text/plain": [
       "  reporterDesc        partnerDesc  partner2Code partner2Desc  refYear cmdCode  \\\n",
       "0        China  Equatorial Guinea             0          NaN     2016   TOTAL   \n",
       "\n",
       "  flowCode primaryValueFormated  \n",
       "0        M        631,851,506.0  "
      ]
     },
     "execution_count": 9,
     "metadata": {},
     "output_type": "execute_result"
    }
   ],
   "source": [
    "pd.set_option('display.max_columns', 100)\n",
    "pd.set_option('display.max_rows', 500)\n",
    "\n",
    "cols2 = ['reporterDesc','partnerDesc','partner2Code','partner2Desc','refYear','cmdCode','flowCode','primaryValueFormated']\n",
    "period = \"2016\" ## if freqCode M  use aaaamm\n",
    "flow = \"M\"\n",
    "partnerCode = m49_guine_equatorial\n",
    "df = call_uncomtrade(\"C\",# C for commodities, S for Services\n",
    "                     \"A\",# (freqCode) A for annual and M for monthly\n",
    "                     flowCode=flow,\n",
    "                     reporterCode=m49_china,\n",
    "                     partnerCode=partnerCode,\n",
    "                     cmdCode='TOTAL',\n",
    "                     period=period,\n",
    "                     timeout=60,\n",
    "                     echo_url=True\n",
    "                     )\n",
    "result = df.sort_values(['partnerDesc','flowCode'])[cols2]\n",
    "# print(result.to_markdown())\n",
    "result"
   ]
  },
  {
   "cell_type": "markdown",
   "metadata": {},
   "source": [
    "Para obter as linhas referentes a partner2 nos anos outros que 2015-2017"
   ]
  },
  {
   "cell_type": "code",
   "execution_count": 10,
   "metadata": {},
   "outputs": [
    {
     "data": {
      "text/plain": [
       "'-1,4,-20,-2,8,12,16,20,24,660,10,28,32,51,533,-3,36,40,31,44,48,50,52,-4,112,56,-24,84,204,60,64,-15,68,535,70,72,74,76,86,92,96,100,854,108,132,116,120,124,136,140,148,-25,152,156,344,446,158,-26,162,166,170,174,178,184,188,191,192,531,196,203,384,-21,408,180,208,262,212,214,218,818,222,226,232,233,748,231,-5,238,234,242,246,250,254,258,260,266,270,268,276,288,292,-6,300,304,308,312,316,320,831,324,624,328,332,-9,-10,334,336,340,348,352,-11,356,360,364,368,372,833,376,380,388,-12,392,832,400,-7,398,404,296,-14,414,417,418,428,422,426,430,434,438,440,442,450,454,458,462,466,470,584,474,478,480,175,484,583,492,496,499,500,504,508,104,516,520,524,528,540,554,558,562,566,570,574,807,580,578,512,586,585,275,591,598,-16,600,604,608,612,616,620,630,634,410,498,642,643,646,638,652,654,659,662,666,670,663,882,674,678,682,-19,686,-18,688,690,694,702,534,703,705,90,706,710,239,728,724,-17,144,729,740,744,752,756,760,762,764,626,768,772,776,780,-8,788,792,795,796,798,581,800,804,784,826,834,850,840,858,860,548,862,704,876,732,887,894,716,248,151,11,39,17,142,57,34,18,143,145,-13,2,15,13,21,5,-22,19,202,30,155,29,54,53,61,14,154,35,150,9,-5707,842,381,251,579,757,490'"
      ]
     },
     "execution_count": 10,
     "metadata": {},
     "output_type": "execute_result"
    }
   ],
   "source": [
    "k = m49_codes_map.keys()\n",
    "m49_all_list=\",\".join(map(str,k))\n",
    "m49_all_list"
   ]
  },
  {
   "cell_type": "code",
   "execution_count": 15,
   "metadata": {},
   "outputs": [
    {
     "name": "stdout",
     "output_type": "stream",
     "text": [
      "https://comtradeapi.un.org/public/v1/preview/C/A/HS?reporterCode=156&period=2016&partnerCode=226&partner2Code=-1%2C4%2C-20%2C-2%2C8%2C12%2C16%2C20%2C24%2C660%2C10%2C28%2C32%2C51%2C533%2C-3%2C36%2C40%2C31%2C44%2C48%2C50%2C52%2C-4%2C112%2C56%2C-24%2C84%2C204%2C60%2C64%2C-15%2C68%2C535%2C70%2C72%2C74%2C76%2C86%2C92%2C96%2C100%2C854%2C108%2C132%2C116%2C120%2C124%2C136%2C140%2C148%2C-25%2C152%2C156%2C344%2C446%2C158%2C-26%2C162%2C166%2C170%2C174%2C178%2C184%2C188%2C191%2C192%2C531%2C196%2C203%2C384%2C-21%2C408%2C180%2C208%2C262%2C212%2C214%2C218%2C818%2C222%2C226%2C232%2C233%2C748%2C231%2C-5%2C238%2C234%2C242%2C246%2C250%2C254%2C258%2C260%2C266%2C270%2C268%2C276%2C288%2C292%2C-6%2C300%2C304%2C308%2C312%2C316%2C320%2C831%2C324%2C624%2C328%2C332%2C-9%2C-10%2C334%2C336%2C340%2C348%2C352%2C-11%2C356%2C360%2C364%2C368%2C372%2C833%2C376%2C380%2C388%2C-12%2C392%2C832%2C400%2C-7%2C398%2C404%2C296%2C-14%2C414%2C417%2C418%2C428%2C422%2C426%2C430%2C434%2C438%2C440%2C442%2C450%2C454%2C458%2C462%2C466%2C470%2C584%2C474%2C478%2C480%2C175%2C484%2C583%2C492%2C496%2C499%2C500%2C504%2C508%2C104%2C516%2C520%2C524%2C528%2C540%2C554%2C558%2C562%2C566%2C570%2C574%2C807%2C580%2C578%2C512%2C586%2C585%2C275%2C591%2C598%2C-16%2C600%2C604%2C608%2C612%2C616%2C620%2C630%2C634%2C410%2C498%2C642%2C643%2C646%2C638%2C652%2C654%2C659%2C662%2C666%2C670%2C663%2C882%2C674%2C678%2C682%2C-19%2C686%2C-18%2C688%2C690%2C694%2C702%2C534%2C703%2C705%2C90%2C706%2C710%2C239%2C728%2C724%2C-17%2C144%2C729%2C740%2C744%2C752%2C756%2C760%2C762%2C764%2C626%2C768%2C772%2C776%2C780%2C-8%2C788%2C792%2C795%2C796%2C798%2C581%2C800%2C804%2C784%2C826%2C834%2C850%2C840%2C858%2C860%2C548%2C862%2C704%2C876%2C732%2C887%2C894%2C716%2C248%2C151%2C11%2C39%2C17%2C142%2C57%2C34%2C18%2C143%2C145%2C-13%2C2%2C15%2C13%2C21%2C5%2C-22%2C19%2C202%2C30%2C155%2C29%2C54%2C53%2C61%2C14%2C154%2C35%2C150%2C9%2C-5707%2C842%2C381%2C251%2C579%2C757%2C490&cmdCode=TOTAL&flowCode=M\n"
     ]
    },
    {
     "ename": "AttributeError",
     "evalue": "'DataFrame' object has no attribute 'reporterCode'",
     "output_type": "error",
     "traceback": [
      "\u001b[0;31m---------------------------------------------------------------------------\u001b[0m",
      "\u001b[0;31mAttributeError\u001b[0m                            Traceback (most recent call last)",
      "\u001b[1;32m/Users/jrc/Library/CloudStorage/GoogleDrive-joaquim.carvalho@gmail.com/My Drive/CIPF-interno/Outputs/Dados CN-PLP/Fontes estatísticas/Exemplos/comtradeplus.un.org/api/comtrade-api.ipynb Cell 26\u001b[0m in \u001b[0;36m<cell line: 3>\u001b[0;34m()\u001b[0m\n\u001b[1;32m      <a href='vscode-notebook-cell:/Users/jrc/Library/CloudStorage/GoogleDrive-joaquim.carvalho%40gmail.com/My%20Drive/CIPF-interno/Outputs/Dados%20CN-PLP/Fontes%20estat%C3%ADsticas/Exemplos/comtradeplus.un.org/api/comtrade-api.ipynb#X66sZmlsZQ%3D%3D?line=0'>1</a>\u001b[0m period \u001b[39m=\u001b[39m \u001b[39m\"\u001b[39m\u001b[39m2016\u001b[39m\u001b[39m\"\u001b[39m \u001b[39m## if freqCode M  use aaaamm\u001b[39;00m\n\u001b[0;32m----> <a href='vscode-notebook-cell:/Users/jrc/Library/CloudStorage/GoogleDrive-joaquim.carvalho%40gmail.com/My%20Drive/CIPF-interno/Outputs/Dados%20CN-PLP/Fontes%20estat%C3%ADsticas/Exemplos/comtradeplus.un.org/api/comtrade-api.ipynb#X66sZmlsZQ%3D%3D?line=2'>3</a>\u001b[0m df \u001b[39m=\u001b[39m call_uncomtrade(\u001b[39m\"\u001b[39;49m\u001b[39mC\u001b[39;49m\u001b[39m\"\u001b[39;49m,\u001b[39m# C for commodities, S for Services\u001b[39;49;00m\n\u001b[1;32m      <a href='vscode-notebook-cell:/Users/jrc/Library/CloudStorage/GoogleDrive-joaquim.carvalho%40gmail.com/My%20Drive/CIPF-interno/Outputs/Dados%20CN-PLP/Fontes%20estat%C3%ADsticas/Exemplos/comtradeplus.un.org/api/comtrade-api.ipynb#X66sZmlsZQ%3D%3D?line=3'>4</a>\u001b[0m                      \u001b[39m\"\u001b[39;49m\u001b[39mA\u001b[39;49m\u001b[39m\"\u001b[39;49m,\u001b[39m# (freqCode) A for annual and M for monthly\u001b[39;49;00m\n\u001b[1;32m      <a href='vscode-notebook-cell:/Users/jrc/Library/CloudStorage/GoogleDrive-joaquim.carvalho%40gmail.com/My%20Drive/CIPF-interno/Outputs/Dados%20CN-PLP/Fontes%20estat%C3%ADsticas/Exemplos/comtradeplus.un.org/api/comtrade-api.ipynb#X66sZmlsZQ%3D%3D?line=4'>5</a>\u001b[0m                      flowCode\u001b[39m=\u001b[39;49mflow,\n\u001b[1;32m      <a href='vscode-notebook-cell:/Users/jrc/Library/CloudStorage/GoogleDrive-joaquim.carvalho%40gmail.com/My%20Drive/CIPF-interno/Outputs/Dados%20CN-PLP/Fontes%20estat%C3%ADsticas/Exemplos/comtradeplus.un.org/api/comtrade-api.ipynb#X66sZmlsZQ%3D%3D?line=5'>6</a>\u001b[0m                      reporterCode\u001b[39m=\u001b[39;49mm49_china,\n\u001b[1;32m      <a href='vscode-notebook-cell:/Users/jrc/Library/CloudStorage/GoogleDrive-joaquim.carvalho%40gmail.com/My%20Drive/CIPF-interno/Outputs/Dados%20CN-PLP/Fontes%20estat%C3%ADsticas/Exemplos/comtradeplus.un.org/api/comtrade-api.ipynb#X66sZmlsZQ%3D%3D?line=6'>7</a>\u001b[0m                      partnerCode\u001b[39m=\u001b[39;49mpartnerCode,\n\u001b[1;32m      <a href='vscode-notebook-cell:/Users/jrc/Library/CloudStorage/GoogleDrive-joaquim.carvalho%40gmail.com/My%20Drive/CIPF-interno/Outputs/Dados%20CN-PLP/Fontes%20estat%C3%ADsticas/Exemplos/comtradeplus.un.org/api/comtrade-api.ipynb#X66sZmlsZQ%3D%3D?line=7'>8</a>\u001b[0m                      partner2Code\u001b[39m=\u001b[39;49mm49_all_list,\n\u001b[1;32m      <a href='vscode-notebook-cell:/Users/jrc/Library/CloudStorage/GoogleDrive-joaquim.carvalho%40gmail.com/My%20Drive/CIPF-interno/Outputs/Dados%20CN-PLP/Fontes%20estat%C3%ADsticas/Exemplos/comtradeplus.un.org/api/comtrade-api.ipynb#X66sZmlsZQ%3D%3D?line=8'>9</a>\u001b[0m                      cmdCode\u001b[39m=\u001b[39;49m\u001b[39m'\u001b[39;49m\u001b[39mTOTAL\u001b[39;49m\u001b[39m'\u001b[39;49m,\n\u001b[1;32m     <a href='vscode-notebook-cell:/Users/jrc/Library/CloudStorage/GoogleDrive-joaquim.carvalho%40gmail.com/My%20Drive/CIPF-interno/Outputs/Dados%20CN-PLP/Fontes%20estat%C3%ADsticas/Exemplos/comtradeplus.un.org/api/comtrade-api.ipynb#X66sZmlsZQ%3D%3D?line=9'>10</a>\u001b[0m                      period\u001b[39m=\u001b[39;49mperiod,\n\u001b[1;32m     <a href='vscode-notebook-cell:/Users/jrc/Library/CloudStorage/GoogleDrive-joaquim.carvalho%40gmail.com/My%20Drive/CIPF-interno/Outputs/Dados%20CN-PLP/Fontes%20estat%C3%ADsticas/Exemplos/comtradeplus.un.org/api/comtrade-api.ipynb#X66sZmlsZQ%3D%3D?line=10'>11</a>\u001b[0m                      timeout\u001b[39m=\u001b[39;49m\u001b[39mNone\u001b[39;49;00m,\n\u001b[1;32m     <a href='vscode-notebook-cell:/Users/jrc/Library/CloudStorage/GoogleDrive-joaquim.carvalho%40gmail.com/My%20Drive/CIPF-interno/Outputs/Dados%20CN-PLP/Fontes%20estat%C3%ADsticas/Exemplos/comtradeplus.un.org/api/comtrade-api.ipynb#X66sZmlsZQ%3D%3D?line=11'>12</a>\u001b[0m                      echo_url\u001b[39m=\u001b[39;49m\u001b[39mTrue\u001b[39;49;00m\n\u001b[1;32m     <a href='vscode-notebook-cell:/Users/jrc/Library/CloudStorage/GoogleDrive-joaquim.carvalho%40gmail.com/My%20Drive/CIPF-interno/Outputs/Dados%20CN-PLP/Fontes%20estat%C3%ADsticas/Exemplos/comtradeplus.un.org/api/comtrade-api.ipynb#X66sZmlsZQ%3D%3D?line=12'>13</a>\u001b[0m                      )\n\u001b[1;32m     <a href='vscode-notebook-cell:/Users/jrc/Library/CloudStorage/GoogleDrive-joaquim.carvalho%40gmail.com/My%20Drive/CIPF-interno/Outputs/Dados%20CN-PLP/Fontes%20estat%C3%ADsticas/Exemplos/comtradeplus.un.org/api/comtrade-api.ipynb#X66sZmlsZQ%3D%3D?line=13'>14</a>\u001b[0m result \u001b[39m=\u001b[39m df\u001b[39m.\u001b[39msort_values([\u001b[39m'\u001b[39m\u001b[39mpartnerDesc\u001b[39m\u001b[39m'\u001b[39m,\u001b[39m'\u001b[39m\u001b[39mflowCode\u001b[39m\u001b[39m'\u001b[39m])[cols2]\n\u001b[1;32m     <a href='vscode-notebook-cell:/Users/jrc/Library/CloudStorage/GoogleDrive-joaquim.carvalho%40gmail.com/My%20Drive/CIPF-interno/Outputs/Dados%20CN-PLP/Fontes%20estat%C3%ADsticas/Exemplos/comtradeplus.un.org/api/comtrade-api.ipynb#X66sZmlsZQ%3D%3D?line=14'>15</a>\u001b[0m \u001b[39m# print(result.to_markdown())\u001b[39;00m\n",
      "\u001b[1;32m/Users/jrc/Library/CloudStorage/GoogleDrive-joaquim.carvalho@gmail.com/My Drive/CIPF-interno/Outputs/Dados CN-PLP/Fontes estatísticas/Exemplos/comtradeplus.un.org/api/comtrade-api.ipynb Cell 26\u001b[0m in \u001b[0;36mcall_uncomtrade\u001b[0;34m(typeCode, freqCode, reporterCode, partnerCode, partner2Code, period, clCode, cmdCode, flowCode, timeout, echo_url)\u001b[0m\n\u001b[1;32m     <a href='vscode-notebook-cell:/Users/jrc/Library/CloudStorage/GoogleDrive-joaquim.carvalho%40gmail.com/My%20Drive/CIPF-interno/Outputs/Dados%20CN-PLP/Fontes%20estat%C3%ADsticas/Exemplos/comtradeplus.un.org/api/comtrade-api.ipynb#X66sZmlsZQ%3D%3D?line=44'>45</a>\u001b[0m df \u001b[39m=\u001b[39m pd\u001b[39m.\u001b[39mDataFrame(results)\n\u001b[1;32m     <a href='vscode-notebook-cell:/Users/jrc/Library/CloudStorage/GoogleDrive-joaquim.carvalho%40gmail.com/My%20Drive/CIPF-interno/Outputs/Dados%20CN-PLP/Fontes%20estat%C3%ADsticas/Exemplos/comtradeplus.un.org/api/comtrade-api.ipynb#X66sZmlsZQ%3D%3D?line=46'>47</a>\u001b[0m \u001b[39m# Convert the country codes to country names\u001b[39;00m\n\u001b[0;32m---> <a href='vscode-notebook-cell:/Users/jrc/Library/CloudStorage/GoogleDrive-joaquim.carvalho%40gmail.com/My%20Drive/CIPF-interno/Outputs/Dados%20CN-PLP/Fontes%20estat%C3%ADsticas/Exemplos/comtradeplus.un.org/api/comtrade-api.ipynb#X66sZmlsZQ%3D%3D?line=47'>48</a>\u001b[0m df\u001b[39m.\u001b[39mreporterDesc \u001b[39m=\u001b[39m df\u001b[39m.\u001b[39;49mreporterCode\u001b[39m.\u001b[39mmap(m49_codes_map)\n\u001b[1;32m     <a href='vscode-notebook-cell:/Users/jrc/Library/CloudStorage/GoogleDrive-joaquim.carvalho%40gmail.com/My%20Drive/CIPF-interno/Outputs/Dados%20CN-PLP/Fontes%20estat%C3%ADsticas/Exemplos/comtradeplus.un.org/api/comtrade-api.ipynb#X66sZmlsZQ%3D%3D?line=48'>49</a>\u001b[0m df\u001b[39m.\u001b[39mpartnerDesc \u001b[39m=\u001b[39m df\u001b[39m.\u001b[39mpartnerCode\u001b[39m.\u001b[39mmap(m49_codes_map)\n\u001b[1;32m     <a href='vscode-notebook-cell:/Users/jrc/Library/CloudStorage/GoogleDrive-joaquim.carvalho%40gmail.com/My%20Drive/CIPF-interno/Outputs/Dados%20CN-PLP/Fontes%20estat%C3%ADsticas/Exemplos/comtradeplus.un.org/api/comtrade-api.ipynb#X66sZmlsZQ%3D%3D?line=49'>50</a>\u001b[0m df\u001b[39m.\u001b[39mpartner2Desc \u001b[39m=\u001b[39m df\u001b[39m.\u001b[39mpartner2Code\u001b[39m.\u001b[39mmap(m49_codes_map)\n",
      "File \u001b[0;32m~/.pyenv/versions/3.10.4/lib/python3.10/site-packages/pandas/core/generic.py:5575\u001b[0m, in \u001b[0;36mNDFrame.__getattr__\u001b[0;34m(self, name)\u001b[0m\n\u001b[1;32m   5568\u001b[0m \u001b[39mif\u001b[39;00m (\n\u001b[1;32m   5569\u001b[0m     name \u001b[39mnot\u001b[39;00m \u001b[39min\u001b[39;00m \u001b[39mself\u001b[39m\u001b[39m.\u001b[39m_internal_names_set\n\u001b[1;32m   5570\u001b[0m     \u001b[39mand\u001b[39;00m name \u001b[39mnot\u001b[39;00m \u001b[39min\u001b[39;00m \u001b[39mself\u001b[39m\u001b[39m.\u001b[39m_metadata\n\u001b[1;32m   5571\u001b[0m     \u001b[39mand\u001b[39;00m name \u001b[39mnot\u001b[39;00m \u001b[39min\u001b[39;00m \u001b[39mself\u001b[39m\u001b[39m.\u001b[39m_accessors\n\u001b[1;32m   5572\u001b[0m     \u001b[39mand\u001b[39;00m \u001b[39mself\u001b[39m\u001b[39m.\u001b[39m_info_axis\u001b[39m.\u001b[39m_can_hold_identifiers_and_holds_name(name)\n\u001b[1;32m   5573\u001b[0m ):\n\u001b[1;32m   5574\u001b[0m     \u001b[39mreturn\u001b[39;00m \u001b[39mself\u001b[39m[name]\n\u001b[0;32m-> 5575\u001b[0m \u001b[39mreturn\u001b[39;00m \u001b[39mobject\u001b[39;49m\u001b[39m.\u001b[39;49m\u001b[39m__getattribute__\u001b[39;49m(\u001b[39mself\u001b[39;49m, name)\n",
      "\u001b[0;31mAttributeError\u001b[0m: 'DataFrame' object has no attribute 'reporterCode'"
     ]
    }
   ],
   "source": [
    "period = \"2016\" ## if freqCode M  use aaaamm\n",
    "\n",
    "df = call_uncomtrade(\"C\",# C for commodities, S for Services\n",
    "                     \"A\",# (freqCode) A for annual and M for monthly\n",
    "                     flowCode=flow,\n",
    "                     reporterCode=m49_china,\n",
    "                     partnerCode=partnerCode,\n",
    "                     partner2Code=m49_all_list,\n",
    "                     cmdCode='TOTAL',\n",
    "                     period=period,\n",
    "                     timeout=None,\n",
    "                     echo_url=True\n",
    "                     )\n",
    "result = df.sort_values(['partnerDesc','flowCode'])[cols2]\n",
    "# print(result.to_markdown())\n",
    "result"
   ]
  },
  {
   "cell_type": "markdown",
   "metadata": {},
   "source": [
    "## Testes"
   ]
  },
  {
   "cell_type": "code",
   "execution_count": null,
   "metadata": {},
   "outputs": [],
   "source": [
    "\n",
    "\n",
    "pd.set_option('display.max_columns', 100)\n",
    "pd.set_option('display.max_rows', 500)\n",
    "\n",
    "cols2 = ['reporterDesc','partnerDesc','partner2Code','partner2Desc','refYear','cmdCode','flowCode','primaryValueFormated']\n",
    "period = \"2016\" ## if freqCode M  use aaaamm\n",
    "flow = \"M,X\"\n",
    "partnerCode = m49_plp_list\n",
    "df = call_uncomtrade(\"C\",# C for commodities, S for Services\n",
    "                     \"A\",# (freqCode) A for annual and M for monthly\n",
    "                     flowCode=flow,\n",
    "                     reporterCode=m49_china,\n",
    "                     partnerCode=partnerCode,\n",
    "                     cmdCode='TOTAL',\n",
    "                     period=period,\n",
    "                     timeout=30\n",
    "                     )\n",
    "result = df.sort_values(['partnerDesc','flowCode'])[cols2]\n",
    "# print(result.to_markdown())\n",
    "result"
   ]
  },
  {
   "cell_type": "code",
   "execution_count": null,
   "metadata": {},
   "outputs": [],
   "source": [
    "pd.options.display.float_format = '${:,.2f}'.format\n",
    "\n",
    "temp=df.pivot(index=['partnerDesc','refYear'],columns='flowCode',values='primaryValue')\n",
    "temp['C'] = temp['M'] + temp['X']\n",
    "forum_type = temp[['C','X','M']]\n",
    "forum_type.columns=['Trocas','Exportações','Importações']\n",
    "forum_type.div(10)\n"
   ]
  },
  {
   "cell_type": "code",
   "execution_count": null,
   "metadata": {},
   "outputs": [],
   "source": [
    "total = df.primaryValue.sum()\n",
    "total_via_partner2 = df[df.partner2Code != 0].primaryValue.sum()\n",
    "total_sem_partner2 = df[df.partner2Code == 0 ].primaryValue.sum()\n",
    "\n",
    "\n",
    "print(f\"Total para {m49_codes_map[partnerCode]} {flow} {period} \",\n",
    "                    f\"{total:,}\")\n",
    "print(f\"Total para {m49_codes_map[partnerCode]} {flow} {period} com partner2Code\",\n",
    "                    f\"{total_via_partner2:,}\")\n",
    "print(f\"Total para {m49_codes_map[partnerCode]} {flow} {period} sem partner2Code\",\n",
    "                    f\"{total_sem_partner2:,}\")\n",
    "print(f\"Soma verificiação  {m49_codes_map[partnerCode]} {flow} {period} sem partner2Code\",\n",
    "                    f\"{total_sem_partner2+total_via_partner2:,}\")"
   ]
  },
  {
   "cell_type": "code",
   "execution_count": null,
   "metadata": {},
   "outputs": [],
   "source": [
    "pd.set_option('display.max_columns', 100)\n",
    "pd.set_option('display.max_rows', 500)\n",
    "\n",
    "cols3 = ['reporterDesc','partnerDesc','partner2Code','partner2Desc','refYear','cmdDesc','flowCode','primaryValueFormated']\n",
    "\n",
    "df = call_uncomtrade(\"C\",# C for commodities, S for Services\n",
    "                     \"A\",# (freqCode) A for annual and M for monthly\n",
    "                     flowCode=flow,\n",
    "                     reporterCode=m49_china,\n",
    "                     partnerCode=partnerCode,\n",
    "                     cmdCode='AG2',\n",
    "                     period=period,\n",
    "                     timeout=20\n",
    "                     )\n",
    "result = df.sort_values(['primaryValue','partner2Desc',])[cols3]\n",
    "# print(result.to_markdown())\n",
    "result"
   ]
  },
  {
   "cell_type": "code",
   "execution_count": null,
   "metadata": {},
   "outputs": [],
   "source": [
    "total = df.primaryValue.sum()\n",
    "total_via_partner2 = df[df.partner2Code != 0].primaryValue.sum()\n",
    "total_sem_partner2 = df[df.partner2Code == 0 ].primaryValue.sum()\n",
    "\n",
    "\n",
    "print(f\"Total para {m49_codes_map[partnerCode]} {flow} {period} \",\n",
    "                    f\"{total:,}\")\n",
    "print(f\"Total para {m49_codes_map[partnerCode]} {flow} {period} com partner2Code\",\n",
    "                    f\"{total_via_partner2:,}\")\n",
    "print(f\"Total para {m49_codes_map[partnerCode]} {flow} {period} sem partner2Code\",\n",
    "                    f\"{total_sem_partner2:,}\")\n",
    "print(f\"Soma verificiação  {m49_codes_map[partnerCode]} {flow} {period} sem partner2Code\",\n",
    "                    f\"{total_sem_partner2+total_via_partner2:,}\")"
   ]
  },
  {
   "cell_type": "markdown",
   "metadata": {},
   "source": [
    "### Filtrar resultados para partner2Code = 0"
   ]
  },
  {
   "cell_type": "code",
   "execution_count": null,
   "metadata": {},
   "outputs": [],
   "source": [
    "pd.set_option('display.max_columns', 100)\n",
    "pd.set_option('display.max_rows', 500)\n",
    "\n",
    "cols2 = ['reporterDesc','partnerDesc','partner2Code','partner2Desc','refYear','cmdCode','flowCode','primaryValueFormated']\n",
    "period = \"2018\" ## if freqCode M  use aaaamm\n",
    "flow = \"M,X\"\n",
    "partnerCode = m49_angola\n",
    "df = call_uncomtrade(\"C\",# C for commodities, S for Services\n",
    "                     \"A\",# (freqCode) A for annual and M for monthly\n",
    "                     flowCode=flow,\n",
    "                     reporterCode=m49_china,\n",
    "                     partnerCode=partnerCode,\n",
    "                     cmdCode='TOTAL',\n",
    "                     period=period,\n",
    "                     timeout=30\n",
    "                     )\n",
    "result = df.sort_values(['flowCode','primaryValue','partner2Desc',])[cols2]\n",
    "# print(result.to_markdown())\n",
    "result"
   ]
  },
  {
   "cell_type": "markdown",
   "metadata": {},
   "source": [
    "### Gravar em Excel"
   ]
  },
  {
   "cell_type": "code",
   "execution_count": null,
   "metadata": {},
   "outputs": [],
   "source": [
    "filename_note=period+flow.replace(\",\",\"_\")  # change to append to filename\n",
    "df[cols].to_excel(f\"./downloads/dados_comtrade_{filename_note}.xlsx\")"
   ]
  },
  {
   "cell_type": "markdown",
   "metadata": {},
   "source": [
    "## Cobertura dos dados: importações/exportações China-PLP anos disponíveis"
   ]
  },
  {
   "cell_type": "code",
   "execution_count": null,
   "metadata": {},
   "outputs": [],
   "source": [
    "import time\n",
    "\n",
    "pd.set_option('display.max_columns', 100)\n",
    "pd.set_option('display.max_rows', 500)\n",
    "\n",
    "flow = \"M,X\"\n",
    "for country_code in m49_plp:\n",
    "    df = call_uncomtrade(\"C\",# C for commodities, S for Services\n",
    "                     \"A\",# (freqCode) A for annual and M for monthly\n",
    "                     flowCode=flow,\n",
    "                     reporterCode=m49_china,\n",
    "                     partnerCode=country_code,\n",
    "                     period=None # period None returns all the available period\n",
    "                     )\n",
    "    print(m49_codes_cn_plp[country_code],  df.refYear.unique())\n",
    "    time.sleep(1)  # avoid stressing the UN server.\n",
    "\n"
   ]
  },
  {
   "cell_type": "markdown",
   "metadata": {},
   "source": [
    "## China, importações mais importantes dos PLP"
   ]
  },
  {
   "cell_type": "code",
   "execution_count": null,
   "metadata": {},
   "outputs": [],
   "source": [
    "rank_filter = 5  # número de importações mais relevantes\n",
    "years = \"2020,2021\"\n",
    "pco_cols = ['reporterDesc','partnerDesc','refYear','rank','cmdDesc',\n",
    "            'flowCode','primaryValueFormated']\n",
    "df = call_uncomtrade(\"C\",# C for commodities, S for Services\n",
    "                     \"A\",# (freqCode) A for annual and M for monthly\n",
    "                     flowCode=\"M\",\n",
    "                     cmdCode=\"AG2\",\n",
    "                     reporterCode=m49_china,\n",
    "                     partnerCode=m49_plp_list,\n",
    "                     period=years \n",
    "                     )\n",
    "\n",
    "pco = df.sort_values(['partnerDesc','refYear','primaryValue'], ascending=[True,True,False])\n",
    "pco['rank'] = pco.groupby(['partnerDesc','refYear'])[\"primaryValue\"].rank(method=\"dense\", ascending=False)\n",
    "pco_top5 = pco[pco['rank'] <= rank_filter]\n",
    "pco_top5[pco_cols].set_index(['reporterDesc','partnerDesc','refYear'])"
   ]
  },
  {
   "cell_type": "markdown",
   "metadata": {},
   "source": [
    "### Guardar formato excel\n"
   ]
  },
  {
   "cell_type": "code",
   "execution_count": null,
   "metadata": {},
   "outputs": [],
   "source": [
    "filename_note=years  # change to append to filename\n",
    "pco_top5.to_excel(f\"./downloads/china_plp_import_top5_{filename_note}.xlsx\")"
   ]
  },
  {
   "cell_type": "markdown",
   "metadata": {},
   "source": [
    "## China exportações mais importantes para os PLP"
   ]
  },
  {
   "cell_type": "code",
   "execution_count": null,
   "metadata": {},
   "outputs": [],
   "source": [
    "rank_filter = 5  # número de importações mais relevantes\n",
    "years = \"2021\"\n",
    "pco_cols = ['reporterDesc','partnerDesc','refYear','rank','cmdDesc',\n",
    "            'flowCode','primaryValueFormated']\n",
    "df = call_uncomtrade(\"C\",# C for commodities, S for Services\n",
    "                     \"A\",# (freqCode) A for annual and M for monthly\n",
    "                     flowCode=\"X\",\n",
    "                     cmdCode=\"AG2\",\n",
    "                     reporterCode=m49_china,\n",
    "                     partnerCode=m49_plp_list,\n",
    "                     period=years \n",
    "                     )\n",
    "\n",
    "pco = df.sort_values(['partnerDesc','refYear','primaryValue'], ascending=[True,True,False])\n",
    "pco['rank'] = pco.groupby(['partnerDesc','refYear'])[\"primaryValue\"].rank(method=\"dense\", ascending=False)\n",
    "pco_top5 = pco[pco['rank'] <= rank_filter]\n",
    "pco_top5[pco_cols].set_index(['reporterDesc','partnerDesc','refYear'])"
   ]
  },
  {
   "cell_type": "markdown",
   "metadata": {},
   "source": [
    "### Guardar formato excel\n"
   ]
  },
  {
   "cell_type": "code",
   "execution_count": null,
   "metadata": {},
   "outputs": [],
   "source": [
    "filename_note=years  # change to append to filename\n",
    "pco_top5.to_excel(f\"./downloads/china_plp_export_top5_{filename_note}.xlsx\")"
   ]
  },
  {
   "cell_type": "markdown",
   "metadata": {},
   "source": [
    "### China, detalhe das exportações mais importants dos PLP para a China\n",
    "\n",
    "Em dois passos: \n",
    "* obtém as categorias de nível 2 mais importantes de cada país\n",
    "* pesquisa todos as subcategorias de cada"
   ]
  },
  {
   "cell_type": "code",
   "execution_count": null,
   "metadata": {},
   "outputs": [],
   "source": [
    "rank_filter = 5  # número de importações mais relevantes\n",
    "years = \"2020,2021\"\n",
    "pco_cols = ['reporterDesc','partnerDesc','refYear','rank','cmdDesc',\n",
    "            'flowCode','primaryValueFormated']\n",
    "df = call_uncomtrade(\"C\",# C for commodities, S for Services\n",
    "                     \"A\",# (freqCode) A for annual and M for monthly\n",
    "                     flowCode=\"M\",\n",
    "                     cmdCode=\"AG2\",\n",
    "                     reporterCode=m49_china,\n",
    "                     partnerCode=m49_plp_list,\n",
    "                     period=years \n",
    "                     )\n",
    "\n",
    "pco = df.sort_values(['partnerDesc','refYear','primaryValue'], ascending=[True,True,False])\n",
    "pco['rank'] = pco.groupby(['partnerDesc','refYear'])[\"primaryValue\"].rank(method=\"dense\", ascending=False)\n",
    "pco_top5 = pco[pco['rank'] <= rank_filter]\n",
    "# get the countries\n",
    "countries = pco_top5.partnerDesc.unique()\n",
    "country_cmd_top5_codes = dict()\n",
    "for country in countries:\n",
    "    l2_codes = pco_top5[pco_top5.partnerDesc == country]['cmdCode'].unique()\n",
    "    print(country,l2_codes)\n",
    "    hs_details = []\n",
    "    for l2_code in l2_codes:\n",
    "        l2_sub_codes = list(hs_codes_df[hs_codes_df.hscode.str.startswith(l2_code)]['hscode'])\n",
    "        hs_details = hs_details + l2_sub_codes\n",
    "    # print(hs_details)\n",
    "    country_cmd_top5_codes[country] = hs_details.copy()\n"
   ]
  },
  {
   "cell_type": "markdown",
   "metadata": {},
   "source": [
    "Exemplo dos códigos relevantes para o detalhe de Angola"
   ]
  },
  {
   "cell_type": "code",
   "execution_count": null,
   "metadata": {},
   "outputs": [],
   "source": [
    "country_cmd_top5_codes['Angola']"
   ]
  }
 ],
 "metadata": {
  "kernelspec": {
   "display_name": "Python 3.10.4 64-bit ('3.10.4')",
   "language": "python",
   "name": "python3"
  },
  "language_info": {
   "codemirror_mode": {
    "name": "ipython",
    "version": 3
   },
   "file_extension": ".py",
   "mimetype": "text/x-python",
   "name": "python",
   "nbconvert_exporter": "python",
   "pygments_lexer": "ipython3",
   "version": "3.10.4"
  },
  "orig_nbformat": 4,
  "vscode": {
   "interpreter": {
    "hash": "3f4c6253aba8c88efd38f4ed4b487a5473d5ec3d89bf67adb7a60aebc2f1f844"
   }
  }
 },
 "nbformat": 4,
 "nbformat_minor": 2
}
