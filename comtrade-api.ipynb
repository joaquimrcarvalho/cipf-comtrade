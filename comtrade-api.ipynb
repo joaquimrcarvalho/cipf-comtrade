{
 "cells": [
  {
   "cell_type": "markdown",
   "metadata": {},
   "source": [
    "# Teste da API Comtrade\n",
    "\n",
    "Info: https://comtradedeveloper.un.org\n",
    "\n",
    "Specs: https://comtradedeveloper.un.org/api-details#api=comtrade-v1&operation=get-get\n",
    "\n"
   ]
  },
  {
   "cell_type": "code",
   "execution_count": 25,
   "metadata": {},
   "outputs": [
    {
     "name": "stdout",
     "output_type": "stream",
     "text": [
      "Requirement already satisfied: requests in /Users/jrc/.pyenv/versions/3.10.4/lib/python3.10/site-packages (2.27.1)\n",
      "Requirement already satisfied: charset-normalizer~=2.0.0 in /Users/jrc/.pyenv/versions/3.10.4/lib/python3.10/site-packages (from requests) (2.0.12)\n",
      "Requirement already satisfied: idna<4,>=2.5 in /Users/jrc/.pyenv/versions/3.10.4/lib/python3.10/site-packages (from requests) (3.3)\n",
      "Requirement already satisfied: certifi>=2017.4.17 in /Users/jrc/.pyenv/versions/3.10.4/lib/python3.10/site-packages (from requests) (2022.5.18.1)\n",
      "Requirement already satisfied: urllib3<1.27,>=1.21.1 in /Users/jrc/.pyenv/versions/3.10.4/lib/python3.10/site-packages (from requests) (1.26.9)\n",
      "Note: you may need to restart the kernel to use updated packages.\n"
     ]
    }
   ],
   "source": [
    "# %pip install requests"
   ]
  },
  {
   "cell_type": "code",
   "execution_count": 26,
   "metadata": {},
   "outputs": [
    {
     "name": "stdout",
     "output_type": "stream",
     "text": [
      "Requirement already satisfied: pandas in /Users/jrc/.pyenv/versions/3.10.4/lib/python3.10/site-packages (1.4.2)\n",
      "Requirement already satisfied: python-dateutil>=2.8.1 in /Users/jrc/.pyenv/versions/3.10.4/lib/python3.10/site-packages (from pandas) (2.8.2)\n",
      "Requirement already satisfied: numpy>=1.21.0 in /Users/jrc/.pyenv/versions/3.10.4/lib/python3.10/site-packages (from pandas) (1.22.4)\n",
      "Requirement already satisfied: pytz>=2020.1 in /Users/jrc/.pyenv/versions/3.10.4/lib/python3.10/site-packages (from pandas) (2022.1)\n",
      "Requirement already satisfied: six>=1.5 in /Users/jrc/.pyenv/versions/3.10.4/lib/python3.10/site-packages (from python-dateutil>=2.8.1->pandas) (1.16.0)\n",
      "Note: you may need to restart the kernel to use updated packages.\n"
     ]
    }
   ],
   "source": [
    "# %pip install pandas"
   ]
  },
  {
   "cell_type": "code",
   "execution_count": 27,
   "metadata": {},
   "outputs": [
    {
     "name": "stdout",
     "output_type": "stream",
     "text": [
      "Requirement already satisfied: openpyxl in /Users/jrc/.pyenv/versions/3.10.4/lib/python3.10/site-packages (3.0.10)\n",
      "Requirement already satisfied: et-xmlfile in /Users/jrc/.pyenv/versions/3.10.4/lib/python3.10/site-packages (from openpyxl) (1.1.0)\n",
      "Note: you may need to restart the kernel to use updated packages.\n"
     ]
    }
   ],
   "source": [
    "# %pip install openpyxl"
   ]
  },
  {
   "cell_type": "markdown",
   "metadata": {},
   "source": [
    "Ler os códigos HS\n",
    "\n",
    "Obter em https://github.com/datasets/harmonized-system/blob/master/data/harmonized-system.csv\n",
    "\n",
    "Copiar para directoria `support`\n"
   ]
  },
  {
   "cell_type": "code",
   "execution_count": 28,
   "metadata": {},
   "outputs": [],
   "source": [
    "import pandas as pd\n",
    "\n",
    "hs_codes_df = pd.read_csv('downloads/support/harmonized-system.csv')"
   ]
  },
  {
   "cell_type": "markdown",
   "metadata": {},
   "source": [
    "Fazer um dicionário para os códigos de nível 2"
   ]
  },
  {
   "cell_type": "code",
   "execution_count": 29,
   "metadata": {},
   "outputs": [],
   "source": [
    "hs_codes_l2 = hs_codes_df[hs_codes_df.level == 2]\n",
    "hs_codes_l2[['hscode','description']]\n",
    "hs_l2_map = dict(zip(hs_codes_l2.hscode, hs_codes_l2.description))\n"
   ]
  },
  {
   "cell_type": "markdown",
   "metadata": {},
   "source": [
    "Aqui colocar os parâmetros gerais que não mudam."
   ]
  },
  {
   "cell_type": "code",
   "execution_count": 30,
   "metadata": {},
   "outputs": [],
   "source": [
    "baseUrl = \"https://comtradeapi.un.org/public/v1\"\n",
    "\n",
    "m49_codes_cn_plp ={\n",
    "    \"024\":\"Angola\",\n",
    "    \"076\":\"Brazil\",\n",
    "    \"132\":\"Cabo Verde\",\n",
    "    \"156\":\"China\",\n",
    "    \"344\":\"China, Hong Kong\",\n",
    "    \"446\":\"China, Macau\",\n",
    "    \"226\":\"Guiné Equatorial\",\n",
    "    \"624\":\"Guiné-Bissau\",\n",
    "    \"508\":\"Moçambique\",\n",
    "    \"620\":\"Portugal\",\n",
    "    \"678\":\"São Tomé e Príncipe\",\n",
    "    \"626\":\"Timor-Leste\"\n",
    "}\n",
    "m49_china = \"156\"\n",
    "m49_hong_kong = \"344\"\n",
    "m49_macau = \"446\"\n",
    "m49_plp = set(m49_codes_cn_plp.keys())-{m49_china,m49_hong_kong,m49_macau}\n",
    "m49_plp_list = \",\".join(m49_plp)"
   ]
  },
  {
   "cell_type": "markdown",
   "metadata": {},
   "source": [
    "Aqui os parâmetros de cada chamada à API."
   ]
  },
  {
   "cell_type": "code",
   "execution_count": 31,
   "metadata": {},
   "outputs": [],
   "source": [
    "typeCode = \"C\" # C for commodities, S for Services\n",
    "freqCode = \"A\" # A for annual and M for monthly\n",
    "clCode = \"HS\" #Trade classifications Available values : HS, SS, B4, B5, EB, EB10, EB02, EBSDMX\n",
    "reporterCode = m49_china # China, HK 344, Macau 446, see https://unstats.un.org/unsd/methodology/m49/\n",
    "partnerCode = m49_plp_list\n",
    "period=\"2021\"\n",
    "cmdCode=\"AG2\" # TOTAL, AG2 (HS level 2)\n",
    "flowCode = \"M\" # M=import, X=export,outros: RX, RM, MIP, XIP, MOP, XOP, MIF, XIF, DX, FM\n"
   ]
  },
  {
   "cell_type": "code",
   "execution_count": 32,
   "metadata": {},
   "outputs": [],
   "source": [
    "import requests\n",
    "requestUrl=f\"{baseUrl}/preview/{typeCode}/{freqCode}/{clCode}\"\n",
    "resp = requests.get(requestUrl,\n",
    "        {\n",
    "        'reporterCode':m49_china,\n",
    "        'period':period,\n",
    "        'partnerCode':m49_plp_list,\n",
    "        'cmdCode':cmdCode,\n",
    "        'flowCode':flowCode\n",
    "        },\n",
    "        timeout=10)"
   ]
  },
  {
   "cell_type": "code",
   "execution_count": 33,
   "metadata": {},
   "outputs": [],
   "source": [
    "import json\n",
    "import pandas as pd\n",
    "\n",
    "results = json.loads(resp.content)['data']\n",
    "df = pd.DataFrame(results)\n",
    "# convert result country codes to three-digit codes\n",
    "df.reporterCode = df.reporterCode.astype('str').str.zfill(3)\n",
    "df.partnerCode = df.partnerCode.astype('str').str.zfill(3)\n",
    "# print(df.columns.values)"
   ]
  },
  {
   "cell_type": "code",
   "execution_count": 46,
   "metadata": {},
   "outputs": [],
   "source": [
    "\n",
    "\n",
    "df.reporterDesc = df.reporterCode.map(m49_codes_cn_plp)\n",
    "df.partnerDesc = df.partnerCode.map(m49_codes_cn_plp)\n",
    "df.cmdDesc = df.cmdCode.map(hs_l2_map)\n",
    "\n",
    "df['primaryValueFormated'] = df.primaryValue.map('{:,}'.format)\n",
    "cols = ['typeCode','cmdCode','cmdDesc','freqCode','refYear','reporterDesc','partnerDesc','flowCode','primaryValueFormated','primaryValue']\n",
    "\n",
    "pco = df[cols].sort_values(['partnerDesc','primaryValue'], ascending=[True,False])\n",
    "pco['rank'] = pco.groupby(['partnerDesc','refYear'])[\"primaryValue\"].rank(method=\"dense\", ascending=False)\n",
    "pco_top5 = pco[pco['rank'] < 6]"
   ]
  },
  {
   "cell_type": "code",
   "execution_count": 48,
   "metadata": {},
   "outputs": [],
   "source": [
    "df[cols].to_excel(f\"./downloads/dados_comtrade_{period}_{cmdCode}.xlsx\")\n",
    "pco.to_excel(f\"./downloads/paises_cmd_ordenados_{period}.xlsx\")\n",
    "pco_top5.to_excel(f\"./downloads/paises_cmd_top5_{period}.xlsx\")"
   ]
  }
 ],
 "metadata": {
  "kernelspec": {
   "display_name": "Python 3.10.4 64-bit ('3.10.4')",
   "language": "python",
   "name": "python3"
  },
  "language_info": {
   "codemirror_mode": {
    "name": "ipython",
    "version": 3
   },
   "file_extension": ".py",
   "mimetype": "text/x-python",
   "name": "python",
   "nbconvert_exporter": "python",
   "pygments_lexer": "ipython3",
   "version": "3.10.4"
  },
  "orig_nbformat": 4,
  "vscode": {
   "interpreter": {
    "hash": "3f4c6253aba8c88efd38f4ed4b487a5473d5ec3d89bf67adb7a60aebc2f1f844"
   }
  }
 },
 "nbformat": 4,
 "nbformat_minor": 2
}
